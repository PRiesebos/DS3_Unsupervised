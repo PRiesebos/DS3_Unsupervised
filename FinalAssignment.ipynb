{
 "cells": [
  {
   "cell_type": "markdown",
   "metadata": {},
   "source": [
    "## Unsupervised final assignment\n",
    "\n",
    "* Data: primates-morphology.csv"
   ]
  },
  {
   "cell_type": "code",
   "execution_count": 21,
   "metadata": {},
   "outputs": [],
   "source": [
    "import pandas as pd\n",
    "import numpy as np\n",
    "import matplotlib.pyplot as plt\n",
    "import seaborn as sn\n",
    "import plotly.express as px\n",
    "from sklearn.decomposition import PCA"
   ]
  },
  {
   "cell_type": "code",
   "execution_count": 22,
   "metadata": {},
   "outputs": [
    {
     "data": {
      "text/html": [
       "<div>\n",
       "<style scoped>\n",
       "    .dataframe tbody tr th:only-of-type {\n",
       "        vertical-align: middle;\n",
       "    }\n",
       "\n",
       "    .dataframe tbody tr th {\n",
       "        vertical-align: top;\n",
       "    }\n",
       "\n",
       "    .dataframe thead th {\n",
       "        text-align: right;\n",
       "    }\n",
       "</style>\n",
       "<table border=\"1\" class=\"dataframe\">\n",
       "  <thead>\n",
       "    <tr style=\"text-align: right;\">\n",
       "      <th></th>\n",
       "      <th>Unnamed: 0</th>\n",
       "      <th>0</th>\n",
       "      <th>1</th>\n",
       "      <th>2</th>\n",
       "      <th>3</th>\n",
       "      <th>4</th>\n",
       "      <th>5</th>\n",
       "      <th>6</th>\n",
       "      <th>7</th>\n",
       "      <th>8</th>\n",
       "      <th>...</th>\n",
       "      <th>25</th>\n",
       "      <th>26</th>\n",
       "      <th>27</th>\n",
       "      <th>28</th>\n",
       "      <th>29</th>\n",
       "      <th>Abbreviation</th>\n",
       "      <th>Genus</th>\n",
       "      <th>Species</th>\n",
       "      <th>Sex</th>\n",
       "      <th>Age</th>\n",
       "    </tr>\n",
       "  </thead>\n",
       "  <tbody>\n",
       "    <tr>\n",
       "      <th>0</th>\n",
       "      <td>37773</td>\n",
       "      <td>133.426742</td>\n",
       "      <td>-101.627603</td>\n",
       "      <td>21.125902</td>\n",
       "      <td>-11.518251</td>\n",
       "      <td>4.621089</td>\n",
       "      <td>-1.519551</td>\n",
       "      <td>0.583410</td>\n",
       "      <td>-7.182875</td>\n",
       "      <td>1.410030</td>\n",
       "      <td>...</td>\n",
       "      <td>-0.301822</td>\n",
       "      <td>-0.433051</td>\n",
       "      <td>0.037651</td>\n",
       "      <td>-0.279618</td>\n",
       "      <td>-0.421040</td>\n",
       "      <td>Ph</td>\n",
       "      <td>Presbytis</td>\n",
       "      <td>hosei</td>\n",
       "      <td>U</td>\n",
       "      <td>A</td>\n",
       "    </tr>\n",
       "    <tr>\n",
       "      <th>1</th>\n",
       "      <td>37772</td>\n",
       "      <td>145.344740</td>\n",
       "      <td>-108.229812</td>\n",
       "      <td>21.121390</td>\n",
       "      <td>-14.982879</td>\n",
       "      <td>2.299335</td>\n",
       "      <td>-2.354040</td>\n",
       "      <td>0.431199</td>\n",
       "      <td>-5.266930</td>\n",
       "      <td>-1.424469</td>\n",
       "      <td>...</td>\n",
       "      <td>0.215340</td>\n",
       "      <td>-0.299550</td>\n",
       "      <td>0.709472</td>\n",
       "      <td>0.876382</td>\n",
       "      <td>-0.150133</td>\n",
       "      <td>Ph</td>\n",
       "      <td>Presbytis</td>\n",
       "      <td>hosei</td>\n",
       "      <td>F</td>\n",
       "      <td>A</td>\n",
       "    </tr>\n",
       "    <tr>\n",
       "      <th>2</th>\n",
       "      <td>22276</td>\n",
       "      <td>137.773342</td>\n",
       "      <td>-107.162743</td>\n",
       "      <td>18.232497</td>\n",
       "      <td>-17.116294</td>\n",
       "      <td>3.016809</td>\n",
       "      <td>-5.295234</td>\n",
       "      <td>1.716895</td>\n",
       "      <td>-1.668914</td>\n",
       "      <td>-1.917478</td>\n",
       "      <td>...</td>\n",
       "      <td>-0.481468</td>\n",
       "      <td>-0.243025</td>\n",
       "      <td>-0.537644</td>\n",
       "      <td>-0.140292</td>\n",
       "      <td>0.082158</td>\n",
       "      <td>Pr</td>\n",
       "      <td>Presbytis</td>\n",
       "      <td>rubicunda</td>\n",
       "      <td>U</td>\n",
       "      <td>A</td>\n",
       "    </tr>\n",
       "    <tr>\n",
       "      <th>3</th>\n",
       "      <td>37776</td>\n",
       "      <td>141.523739</td>\n",
       "      <td>-107.436626</td>\n",
       "      <td>17.448083</td>\n",
       "      <td>-16.861469</td>\n",
       "      <td>3.382894</td>\n",
       "      <td>-1.071286</td>\n",
       "      <td>1.768891</td>\n",
       "      <td>-2.735232</td>\n",
       "      <td>-1.136700</td>\n",
       "      <td>...</td>\n",
       "      <td>0.586941</td>\n",
       "      <td>-0.043639</td>\n",
       "      <td>-0.518699</td>\n",
       "      <td>-1.051100</td>\n",
       "      <td>0.542354</td>\n",
       "      <td>Pr</td>\n",
       "      <td>Presbytis</td>\n",
       "      <td>rubicunda</td>\n",
       "      <td>M</td>\n",
       "      <td>A</td>\n",
       "    </tr>\n",
       "    <tr>\n",
       "      <th>4</th>\n",
       "      <td>37777</td>\n",
       "      <td>142.357906</td>\n",
       "      <td>-97.195294</td>\n",
       "      <td>10.511391</td>\n",
       "      <td>-6.520641</td>\n",
       "      <td>3.555506</td>\n",
       "      <td>1.652390</td>\n",
       "      <td>-0.655919</td>\n",
       "      <td>-5.373075</td>\n",
       "      <td>-1.466841</td>\n",
       "      <td>...</td>\n",
       "      <td>0.653851</td>\n",
       "      <td>0.718319</td>\n",
       "      <td>0.798722</td>\n",
       "      <td>-0.396749</td>\n",
       "      <td>0.844772</td>\n",
       "      <td>Pr</td>\n",
       "      <td>Presbytis</td>\n",
       "      <td>rubicunda</td>\n",
       "      <td>F</td>\n",
       "      <td>A</td>\n",
       "    </tr>\n",
       "  </tbody>\n",
       "</table>\n",
       "<p>5 rows × 36 columns</p>\n",
       "</div>"
      ],
      "text/plain": [
       "   Unnamed: 0           0           1          2          3         4  \\\n",
       "0       37773  133.426742 -101.627603  21.125902 -11.518251  4.621089   \n",
       "1       37772  145.344740 -108.229812  21.121390 -14.982879  2.299335   \n",
       "2       22276  137.773342 -107.162743  18.232497 -17.116294  3.016809   \n",
       "3       37776  141.523739 -107.436626  17.448083 -16.861469  3.382894   \n",
       "4       37777  142.357906  -97.195294  10.511391  -6.520641  3.555506   \n",
       "\n",
       "          5         6         7         8  ...        25        26        27  \\\n",
       "0 -1.519551  0.583410 -7.182875  1.410030  ... -0.301822 -0.433051  0.037651   \n",
       "1 -2.354040  0.431199 -5.266930 -1.424469  ...  0.215340 -0.299550  0.709472   \n",
       "2 -5.295234  1.716895 -1.668914 -1.917478  ... -0.481468 -0.243025 -0.537644   \n",
       "3 -1.071286  1.768891 -2.735232 -1.136700  ...  0.586941 -0.043639 -0.518699   \n",
       "4  1.652390 -0.655919 -5.373075 -1.466841  ...  0.653851  0.718319  0.798722   \n",
       "\n",
       "         28        29  Abbreviation      Genus    Species  Sex  Age  \n",
       "0 -0.279618 -0.421040            Ph  Presbytis      hosei    U    A  \n",
       "1  0.876382 -0.150133            Ph  Presbytis      hosei    F    A  \n",
       "2 -0.140292  0.082158            Pr  Presbytis  rubicunda    U    A  \n",
       "3 -1.051100  0.542354            Pr  Presbytis  rubicunda    M    A  \n",
       "4 -0.396749  0.844772            Pr  Presbytis  rubicunda    F    A  \n",
       "\n",
       "[5 rows x 36 columns]"
      ]
     },
     "execution_count": 22,
     "metadata": {},
     "output_type": "execute_result"
    }
   ],
   "source": [
    "data = pd.read_csv(\"./Data/primates-morphology.csv\")\n",
    "df = data.copy()\n",
    "df.head()"
   ]
  },
  {
   "cell_type": "markdown",
   "metadata": {},
   "source": [
    "### Inspecting the data\n",
    "Data is already in coordinates\n",
    "\n",
    "Check for missing data, skewness, distribution, sample, linearity, correlations etc."
   ]
  },
  {
   "cell_type": "code",
   "execution_count": 23,
   "metadata": {},
   "outputs": [
    {
     "name": "stdout",
     "output_type": "stream",
     "text": [
      "<class 'pandas.core.frame.DataFrame'>\n",
      "RangeIndex: 165 entries, 0 to 164\n",
      "Data columns (total 36 columns):\n",
      " #   Column        Non-Null Count  Dtype  \n",
      "---  ------        --------------  -----  \n",
      " 0   Unnamed: 0    165 non-null    int64  \n",
      " 1   0             165 non-null    float64\n",
      " 2   1             165 non-null    float64\n",
      " 3   2             165 non-null    float64\n",
      " 4   3             165 non-null    float64\n",
      " 5   4             165 non-null    float64\n",
      " 6   5             165 non-null    float64\n",
      " 7   6             165 non-null    float64\n",
      " 8   7             165 non-null    float64\n",
      " 9   8             165 non-null    float64\n",
      " 10  9             165 non-null    float64\n",
      " 11  10            165 non-null    float64\n",
      " 12  11            165 non-null    float64\n",
      " 13  12            165 non-null    float64\n",
      " 14  13            165 non-null    float64\n",
      " 15  14            165 non-null    float64\n",
      " 16  15            165 non-null    float64\n",
      " 17  16            165 non-null    float64\n",
      " 18  17            165 non-null    float64\n",
      " 19  18            165 non-null    float64\n",
      " 20  19            165 non-null    float64\n",
      " 21  20            165 non-null    float64\n",
      " 22  21            165 non-null    float64\n",
      " 23  22            165 non-null    float64\n",
      " 24  23            165 non-null    float64\n",
      " 25  24            165 non-null    float64\n",
      " 26  25            165 non-null    float64\n",
      " 27  26            165 non-null    float64\n",
      " 28  27            165 non-null    float64\n",
      " 29  28            165 non-null    float64\n",
      " 30  29            165 non-null    float64\n",
      " 31  Abbreviation  165 non-null    object \n",
      " 32  Genus         165 non-null    object \n",
      " 33  Species       165 non-null    object \n",
      " 34  Sex           165 non-null    object \n",
      " 35  Age           165 non-null    object \n",
      "dtypes: float64(30), int64(1), object(5)\n",
      "memory usage: 46.5+ KB\n",
      "Empty value count: 0\n"
     ]
    }
   ],
   "source": [
    "df.info()\n",
    "na_count = df.isna().sum().sum()\n",
    "features = list(df.columns[1:31])\n",
    "X = df[features]\n",
    "\n",
    "print(f'Empty value count: {na_count}')"
   ]
  },
  {
   "cell_type": "code",
   "execution_count": 24,
   "metadata": {},
   "outputs": [
    {
     "data": {
      "text/html": [
       "<div>\n",
       "<style scoped>\n",
       "    .dataframe tbody tr th:only-of-type {\n",
       "        vertical-align: middle;\n",
       "    }\n",
       "\n",
       "    .dataframe tbody tr th {\n",
       "        vertical-align: top;\n",
       "    }\n",
       "\n",
       "    .dataframe thead th {\n",
       "        text-align: right;\n",
       "    }\n",
       "</style>\n",
       "<table border=\"1\" class=\"dataframe\">\n",
       "  <thead>\n",
       "    <tr style=\"text-align: right;\">\n",
       "      <th></th>\n",
       "      <th>Unnamed: 0</th>\n",
       "      <th>0</th>\n",
       "      <th>1</th>\n",
       "      <th>2</th>\n",
       "      <th>3</th>\n",
       "      <th>4</th>\n",
       "      <th>5</th>\n",
       "      <th>6</th>\n",
       "      <th>7</th>\n",
       "      <th>8</th>\n",
       "      <th>...</th>\n",
       "      <th>20</th>\n",
       "      <th>21</th>\n",
       "      <th>22</th>\n",
       "      <th>23</th>\n",
       "      <th>24</th>\n",
       "      <th>25</th>\n",
       "      <th>26</th>\n",
       "      <th>27</th>\n",
       "      <th>28</th>\n",
       "      <th>29</th>\n",
       "    </tr>\n",
       "  </thead>\n",
       "  <tbody>\n",
       "    <tr>\n",
       "      <th>count</th>\n",
       "      <td>165.000000</td>\n",
       "      <td>165.000000</td>\n",
       "      <td>165.000000</td>\n",
       "      <td>165.000000</td>\n",
       "      <td>165.000000</td>\n",
       "      <td>165.000000</td>\n",
       "      <td>165.000000</td>\n",
       "      <td>165.000000</td>\n",
       "      <td>165.000000</td>\n",
       "      <td>165.000000</td>\n",
       "      <td>...</td>\n",
       "      <td>165.000000</td>\n",
       "      <td>165.000000</td>\n",
       "      <td>165.000000</td>\n",
       "      <td>165.000000</td>\n",
       "      <td>165.000000</td>\n",
       "      <td>165.000000</td>\n",
       "      <td>165.000000</td>\n",
       "      <td>165.000000</td>\n",
       "      <td>165.000000</td>\n",
       "      <td>165.000000</td>\n",
       "    </tr>\n",
       "    <tr>\n",
       "      <th>mean</th>\n",
       "      <td>32304.406061</td>\n",
       "      <td>5.537129</td>\n",
       "      <td>1.196007</td>\n",
       "      <td>-0.125596</td>\n",
       "      <td>0.774423</td>\n",
       "      <td>-0.161111</td>\n",
       "      <td>-0.182550</td>\n",
       "      <td>-0.077955</td>\n",
       "      <td>0.180683</td>\n",
       "      <td>0.132617</td>\n",
       "      <td>...</td>\n",
       "      <td>0.057334</td>\n",
       "      <td>-0.014223</td>\n",
       "      <td>0.013269</td>\n",
       "      <td>-0.002892</td>\n",
       "      <td>0.005006</td>\n",
       "      <td>0.003208</td>\n",
       "      <td>-0.001137</td>\n",
       "      <td>-0.002748</td>\n",
       "      <td>-0.012738</td>\n",
       "      <td>-0.013131</td>\n",
       "    </tr>\n",
       "    <tr>\n",
       "      <th>std</th>\n",
       "      <td>10702.789245</td>\n",
       "      <td>99.061556</td>\n",
       "      <td>69.971050</td>\n",
       "      <td>56.627559</td>\n",
       "      <td>18.591984</td>\n",
       "      <td>11.336600</td>\n",
       "      <td>8.710069</td>\n",
       "      <td>5.463093</td>\n",
       "      <td>5.214248</td>\n",
       "      <td>4.520787</td>\n",
       "      <td>...</td>\n",
       "      <td>1.254471</td>\n",
       "      <td>1.161247</td>\n",
       "      <td>0.971599</td>\n",
       "      <td>0.932425</td>\n",
       "      <td>0.865874</td>\n",
       "      <td>0.750532</td>\n",
       "      <td>0.720479</td>\n",
       "      <td>0.484438</td>\n",
       "      <td>0.461879</td>\n",
       "      <td>0.374258</td>\n",
       "    </tr>\n",
       "    <tr>\n",
       "      <th>min</th>\n",
       "      <td>5547.000000</td>\n",
       "      <td>-201.591249</td>\n",
       "      <td>-111.659165</td>\n",
       "      <td>-114.986835</td>\n",
       "      <td>-54.636918</td>\n",
       "      <td>-19.375303</td>\n",
       "      <td>-24.431319</td>\n",
       "      <td>-54.611282</td>\n",
       "      <td>-20.855026</td>\n",
       "      <td>-18.487708</td>\n",
       "      <td>...</td>\n",
       "      <td>-3.793245</td>\n",
       "      <td>-2.894577</td>\n",
       "      <td>-3.849517</td>\n",
       "      <td>-1.838070</td>\n",
       "      <td>-2.274559</td>\n",
       "      <td>-2.037714</td>\n",
       "      <td>-2.934118</td>\n",
       "      <td>-1.245955</td>\n",
       "      <td>-2.115305</td>\n",
       "      <td>-1.128128</td>\n",
       "    </tr>\n",
       "    <tr>\n",
       "      <th>25%</th>\n",
       "      <td>23812.000000</td>\n",
       "      <td>-58.767559</td>\n",
       "      <td>-44.542377</td>\n",
       "      <td>-45.981261</td>\n",
       "      <td>-12.328664</td>\n",
       "      <td>-7.348686</td>\n",
       "      <td>-5.823589</td>\n",
       "      <td>-1.389680</td>\n",
       "      <td>-2.572926</td>\n",
       "      <td>-2.279476</td>\n",
       "      <td>...</td>\n",
       "      <td>-0.697783</td>\n",
       "      <td>-0.739499</td>\n",
       "      <td>-0.482541</td>\n",
       "      <td>-0.585089</td>\n",
       "      <td>-0.587203</td>\n",
       "      <td>-0.413921</td>\n",
       "      <td>-0.411248</td>\n",
       "      <td>-0.300449</td>\n",
       "      <td>-0.320591</td>\n",
       "      <td>-0.248282</td>\n",
       "    </tr>\n",
       "    <tr>\n",
       "      <th>50%</th>\n",
       "      <td>35640.000000</td>\n",
       "      <td>-4.994670</td>\n",
       "      <td>18.343281</td>\n",
       "      <td>-2.090244</td>\n",
       "      <td>4.082730</td>\n",
       "      <td>-2.158090</td>\n",
       "      <td>-1.071286</td>\n",
       "      <td>-0.124301</td>\n",
       "      <td>-0.379776</td>\n",
       "      <td>-0.057433</td>\n",
       "      <td>...</td>\n",
       "      <td>0.086293</td>\n",
       "      <td>-0.103932</td>\n",
       "      <td>0.123128</td>\n",
       "      <td>-0.072030</td>\n",
       "      <td>-0.018886</td>\n",
       "      <td>-0.023107</td>\n",
       "      <td>-0.022457</td>\n",
       "      <td>0.001251</td>\n",
       "      <td>-0.018000</td>\n",
       "      <td>-0.010527</td>\n",
       "    </tr>\n",
       "    <tr>\n",
       "      <th>75%</th>\n",
       "      <td>39390.000000</td>\n",
       "      <td>89.480991</td>\n",
       "      <td>42.633134</td>\n",
       "      <td>32.805157</td>\n",
       "      <td>16.969797</td>\n",
       "      <td>3.716401</td>\n",
       "      <td>5.078963</td>\n",
       "      <td>1.575336</td>\n",
       "      <td>3.017432</td>\n",
       "      <td>3.199454</td>\n",
       "      <td>...</td>\n",
       "      <td>0.784991</td>\n",
       "      <td>0.633467</td>\n",
       "      <td>0.526249</td>\n",
       "      <td>0.512882</td>\n",
       "      <td>0.621830</td>\n",
       "      <td>0.474782</td>\n",
       "      <td>0.418680</td>\n",
       "      <td>0.274560</td>\n",
       "      <td>0.277566</td>\n",
       "      <td>0.268744</td>\n",
       "    </tr>\n",
       "    <tr>\n",
       "      <th>max</th>\n",
       "      <td>61414.000000</td>\n",
       "      <td>192.170450</td>\n",
       "      <td>433.444316</td>\n",
       "      <td>142.161119</td>\n",
       "      <td>33.486208</td>\n",
       "      <td>68.005131</td>\n",
       "      <td>21.570367</td>\n",
       "      <td>18.598186</td>\n",
       "      <td>20.232449</td>\n",
       "      <td>18.859660</td>\n",
       "      <td>...</td>\n",
       "      <td>3.300278</td>\n",
       "      <td>3.376167</td>\n",
       "      <td>3.423704</td>\n",
       "      <td>4.006407</td>\n",
       "      <td>3.131717</td>\n",
       "      <td>2.052453</td>\n",
       "      <td>2.727110</td>\n",
       "      <td>1.319978</td>\n",
       "      <td>1.653007</td>\n",
       "      <td>0.844772</td>\n",
       "    </tr>\n",
       "  </tbody>\n",
       "</table>\n",
       "<p>8 rows × 31 columns</p>\n",
       "</div>"
      ],
      "text/plain": [
       "         Unnamed: 0           0           1           2           3  \\\n",
       "count    165.000000  165.000000  165.000000  165.000000  165.000000   \n",
       "mean   32304.406061    5.537129    1.196007   -0.125596    0.774423   \n",
       "std    10702.789245   99.061556   69.971050   56.627559   18.591984   \n",
       "min     5547.000000 -201.591249 -111.659165 -114.986835  -54.636918   \n",
       "25%    23812.000000  -58.767559  -44.542377  -45.981261  -12.328664   \n",
       "50%    35640.000000   -4.994670   18.343281   -2.090244    4.082730   \n",
       "75%    39390.000000   89.480991   42.633134   32.805157   16.969797   \n",
       "max    61414.000000  192.170450  433.444316  142.161119   33.486208   \n",
       "\n",
       "                4           5           6           7           8  ...  \\\n",
       "count  165.000000  165.000000  165.000000  165.000000  165.000000  ...   \n",
       "mean    -0.161111   -0.182550   -0.077955    0.180683    0.132617  ...   \n",
       "std     11.336600    8.710069    5.463093    5.214248    4.520787  ...   \n",
       "min    -19.375303  -24.431319  -54.611282  -20.855026  -18.487708  ...   \n",
       "25%     -7.348686   -5.823589   -1.389680   -2.572926   -2.279476  ...   \n",
       "50%     -2.158090   -1.071286   -0.124301   -0.379776   -0.057433  ...   \n",
       "75%      3.716401    5.078963    1.575336    3.017432    3.199454  ...   \n",
       "max     68.005131   21.570367   18.598186   20.232449   18.859660  ...   \n",
       "\n",
       "               20          21          22          23          24          25  \\\n",
       "count  165.000000  165.000000  165.000000  165.000000  165.000000  165.000000   \n",
       "mean     0.057334   -0.014223    0.013269   -0.002892    0.005006    0.003208   \n",
       "std      1.254471    1.161247    0.971599    0.932425    0.865874    0.750532   \n",
       "min     -3.793245   -2.894577   -3.849517   -1.838070   -2.274559   -2.037714   \n",
       "25%     -0.697783   -0.739499   -0.482541   -0.585089   -0.587203   -0.413921   \n",
       "50%      0.086293   -0.103932    0.123128   -0.072030   -0.018886   -0.023107   \n",
       "75%      0.784991    0.633467    0.526249    0.512882    0.621830    0.474782   \n",
       "max      3.300278    3.376167    3.423704    4.006407    3.131717    2.052453   \n",
       "\n",
       "               26          27          28          29  \n",
       "count  165.000000  165.000000  165.000000  165.000000  \n",
       "mean    -0.001137   -0.002748   -0.012738   -0.013131  \n",
       "std      0.720479    0.484438    0.461879    0.374258  \n",
       "min     -2.934118   -1.245955   -2.115305   -1.128128  \n",
       "25%     -0.411248   -0.300449   -0.320591   -0.248282  \n",
       "50%     -0.022457    0.001251   -0.018000   -0.010527  \n",
       "75%      0.418680    0.274560    0.277566    0.268744  \n",
       "max      2.727110    1.319978    1.653007    0.844772  \n",
       "\n",
       "[8 rows x 31 columns]"
      ]
     },
     "execution_count": 24,
     "metadata": {},
     "output_type": "execute_result"
    },
    {
     "data": {
      "image/png": "[encoded data removed]",
      "text/plain": [
       "<Figure size 720x576 with 1 Axes>"
      ]
     },
     "metadata": {
      "needs_background": "light"
     },
     "output_type": "display_data"
    },
    {
     "data": {
      "image/png": "[encoded data removed]",
      "text/plain": [
       "<Figure size 432x288 with 30 Axes>"
      ]
     },
     "metadata": {
      "needs_background": "light"
     },
     "output_type": "display_data"
    }
   ],
   "source": [
    "plt.figure(figsize=(10,8))\n",
    "X.boxplot()\n",
    "X.hist()\n",
    "df.describe()"
   ]
  },
  {
   "cell_type": "code",
   "execution_count": 25,
   "metadata": {},
   "outputs": [
    {
     "name": "stdout",
     "output_type": "stream",
     "text": [
      "Unnamed: 0   -0.361835\n",
      "0             0.009842\n",
      "1             1.272854\n",
      "2             0.408304\n",
      "3            -0.553588\n",
      "4             2.358456\n",
      "5             0.262781\n",
      "6            -5.635667\n",
      "7             0.348291\n",
      "8             0.048778\n",
      "9            -0.118507\n",
      "10           -0.480534\n",
      "11           -0.459593\n",
      "12           -1.350822\n",
      "13            0.017725\n",
      "14            1.267799\n",
      "15            0.023271\n",
      "16           -0.112908\n",
      "17           -0.025797\n",
      "18            0.049919\n",
      "19           -0.702592\n",
      "20           -0.097343\n",
      "21            0.144393\n",
      "22           -0.265555\n",
      "23            0.782396\n",
      "24            0.192550\n",
      "25            0.093233\n",
      "26            0.211428\n",
      "27            0.081003\n",
      "28           -0.114840\n",
      "29           -0.251496\n",
      "dtype: float64\n"
     ]
    },
    {
     "name": "stderr",
     "output_type": "stream",
     "text": [
      "C:\\Users\\Peter\\AppData\\Local\\Temp\\ipykernel_17932\\1187460672.py:1: FutureWarning: Dropping of nuisance columns in DataFrame reductions (with 'numeric_only=None') is deprecated; in a future version this will raise TypeError.  Select only valid columns before calling the reduction.\n",
      "  skewness = df.skew()\n"
     ]
    }
   ],
   "source": [
    "skewness = df.skew()\n",
    "print(skewness)"
   ]
  },
  {
   "cell_type": "markdown",
   "metadata": {},
   "source": [
    "### PCA and stuff"
   ]
  },
  {
   "cell_type": "code",
   "execution_count": 26,
   "metadata": {},
   "outputs": [
    {
     "name": "stdout",
     "output_type": "stream",
     "text": [
      "Index(['lar', 'cristata', 'mitis', 'badius', 'polykomos', 'torquatus'], dtype='object', name='Species')\n"
     ]
    }
   ],
   "source": [
    "dups = df.pivot_table(index = ['Species'], aggfunc ='size')\n",
    "  \n",
    "# displaying the duplicate Series\n",
    "sorted_species = (dups.sort_values(ascending=False))[:6]\n",
    "\n",
    "print(sorted_species.keys())\n",
    "\n",
    "'''keep only rows containing the top 5 species'''\n",
    "df = df[df['Species'].isin(sorted_species.keys())]\n",
    "X = df[features]"
   ]
  },
  {
   "cell_type": "code",
   "execution_count": 27,
   "metadata": {},
   "outputs": [
    {
     "data": {
      "application/vnd.plotly.v1+json": {
       "config": {
        "plotlyServerURL": "https://plot.ly"
       },
       "data": [
        {
         "hovertemplate": "color=mitis<br>0=%{x}<br>1=%{y}<extra></extra>",
         "legendgroup": "mitis",
         "marker": {
          "color": "#636efa",
          "symbol": "circle"
         },
         "mode": "markers",
         "name": "mitis",
         "orientation": "v",
         "showlegend": true,
         "type": "scatter",
         "x": [
          -69.23491678208784,
          -65.73619901302644,
          -71.61894778793042,
          -79.25298017885524,
          -81.92005996760147,
          -89.94650323796576,
          -81.8563233208577,
          -92.66898557180838,
          -83.03164084946755,
          -98.03711888104841
         ],
         "xaxis": "x",
         "y": [
          106.00995590773738,
          99.35803375331437,
          113.63039542685534,
          112.98662682096376,
          111.68380170008447,
          118.42636849363741,
          116.2517167688112,
          112.23928840505594,
          117.15508598738268,
          112.7713393749416
         ],
         "yaxis": "y"
        },
        {
         "hovertemplate": "color=badius<br>0=%{x}<br>1=%{y}<extra></extra>",
         "legendgroup": "badius",
         "marker": {
          "color": "#EF553B",
          "symbol": "circle"
         },
         "mode": "markers",
         "name": "badius",
         "orientation": "v",
         "showlegend": true,
         "type": "scatter",
         "x": [
          80.68981843685415,
          73.6647455289341,
          82.7639943567435,
          74.86536197650794,
          74.67924314846958,
          92.10094233978187,
          68.58914240251407,
          73.83875453846979,
          86.9930634160888,
          75.29729349099009
         ],
         "xaxis": "x",
         "y": [
          65.82586454874085,
          63.198598698951706,
          70.9725857820143,
          64.02020265450734,
          70.23325615401583,
          72.99140649187937,
          63.8538167717031,
          70.72214264957927,
          63.85809199948367,
          66.52915215918381
         ],
         "yaxis": "y"
        },
        {
         "hovertemplate": "color=cristata<br>0=%{x}<br>1=%{y}<extra></extra>",
         "legendgroup": "cristata",
         "marker": {
          "color": "#00cc96",
          "symbol": "circle"
         },
         "mode": "markers",
         "name": "cristata",
         "orientation": "v",
         "showlegend": true,
         "type": "scatter",
         "x": [
          -26.008444421997055,
          -38.376316840030256,
          -44.66694619235017,
          -48.002900799690856,
          -45.86315617418358,
          -45.794245074289975,
          -52.36902198507457,
          -64.74100627859666,
          -52.99590107497763,
          -76.95573194622546,
          156.38467990552647,
          153.59054687736054,
          149.330272764518,
          144.87433417390844,
          147.27478427458036,
          146.4703206166309,
          139.55138872834073,
          133.47432735952802
         ],
         "xaxis": "x",
         "y": [
          -80.9703292298119,
          -74.72609004556723,
          -67.6567695377783,
          -68.89202057227895,
          -63.99308587892928,
          -71.33732918198446,
          -58.598996896381564,
          -53.9924968484907,
          -59.0890417594128,
          -48.2598784466114,
          -34.18458636324985,
          -33.299524155391595,
          -28.406522282580987,
          -27.407346173805834,
          -23.46434779448858,
          -25.689971969779073,
          -22.483404454822026,
          -16.852049621021905
         ],
         "yaxis": "y"
        },
        {
         "hovertemplate": "color=polykomos<br>0=%{x}<br>1=%{y}<extra></extra>",
         "legendgroup": "polykomos",
         "marker": {
          "color": "#ab63fa",
          "symbol": "circle"
         },
         "mode": "markers",
         "name": "polykomos",
         "orientation": "v",
         "showlegend": true,
         "type": "scatter",
         "x": [
          -57.75210940930982,
          -71.97498807537316,
          -65.2134263248772,
          -65.93264884817161,
          -68.77347130167679,
          -83.9454019475261,
          -81.75001434003248,
          -91.01772317701267,
          -111.68049201207648,
          -136.22188215836175
         ],
         "xaxis": "x",
         "y": [
          -42.98003165471123,
          -53.05575468983169,
          -46.20763247475001,
          -46.589083716556935,
          -35.91216445387922,
          -43.80554194183072,
          -30.934440996903426,
          -27.608966964942258,
          -26.64135673681181,
          -7.3673689800158515
         ],
         "yaxis": "y"
        },
        {
         "hovertemplate": "color=torquatus<br>0=%{x}<br>1=%{y}<extra></extra>",
         "legendgroup": "torquatus",
         "marker": {
          "color": "#FFA15A",
          "symbol": "circle"
         },
         "mode": "markers",
         "name": "torquatus",
         "orientation": "v",
         "showlegend": true,
         "type": "scatter",
         "x": [
          -67.80160612659024,
          -63.7278469952327,
          -74.2847711681185,
          -88.42340926439802,
          -71.66083497370903,
          -119.47478277466027,
          -82.98436503539716,
          -74.29040497584393,
          -80.30146061813076
         ],
         "xaxis": "x",
         "y": [
          -40.06642561281563,
          -20.584698595734558,
          -13.631313458754281,
          -9.331745085326075,
          -18.19591594387477,
          0.608232640917587,
          -6.731916104923341,
          -19.286103782237266,
          -13.587450820604536
         ],
         "yaxis": "y"
        },
        {
         "hovertemplate": "color=lar<br>0=%{x}<br>1=%{y}<extra></extra>",
         "legendgroup": "lar",
         "marker": {
          "color": "#19d3f3",
          "symbol": "circle"
         },
         "mode": "markers",
         "name": "lar",
         "orientation": "v",
         "showlegend": true,
         "type": "scatter",
         "x": [
          17.496755142257324,
          7.427460795319177,
          -12.649960498835265,
          0.23228370812443253,
          -11.617480917939583,
          -2.2484768331958,
          -23.07746321430931,
          -11.449168339631507,
          -6.599595926191145,
          -25.34782749771092,
          -19.12919005543346,
          145.60687123651485,
          147.010089283642,
          143.52725743588397,
          143.15445156981767,
          140.91361556414415,
          141.14583347142406,
          137.4605166449355
         ],
         "xaxis": "x",
         "y": [
          -57.88516457108481,
          -49.19130960364609,
          -36.56526906176269,
          -40.26292481385149,
          -31.93184066188776,
          -41.547534514087076,
          -36.94646592555219,
          -33.286502943867525,
          -36.32671460801907,
          -33.681804511360916,
          -26.838846098767505,
          -10.101191829931835,
          -0.595702638654119,
          2.1978523748031344,
          -4.678635469667024,
          -2.466955793500462,
          6.935871474619727,
          1.6688792333466425
         ],
         "yaxis": "y"
        }
       ],
       "layout": {
        "annotations": [
         {
          "ax": 0,
          "ay": 0,
          "text": "0",
          "x": -83.05296819342178,
          "xanchor": "center",
          "y": 11.214679727752197,
          "yanchor": "bottom"
         },
         {
          "ax": 0,
          "ay": 0,
          "text": "1",
          "x": -20.81706522320213,
          "xanchor": "center",
          "y": -56.84159197475319,
          "yanchor": "bottom"
         },
         {
          "ax": 0,
          "ay": 0,
          "text": "2",
          "x": 27.507151947132932,
          "xanchor": "center",
          "y": -7.032131810050663,
          "yanchor": "bottom"
         },
         {
          "ax": 0,
          "ay": 0,
          "text": "3",
          "x": 10.485254747549439,
          "xanchor": "center",
          "y": -5.848137317122417,
          "yanchor": "bottom"
         },
         {
          "ax": 0,
          "ay": 0,
          "text": "4",
          "x": 1.5526901335429422,
          "xanchor": "center",
          "y": 1.3100079979413484,
          "yanchor": "bottom"
         },
         {
          "ax": 0,
          "ay": 0,
          "text": "5",
          "x": -1.248717842305986,
          "xanchor": "center",
          "y": 0.3373926343117561,
          "yanchor": "bottom"
         },
         {
          "ax": 0,
          "ay": 0,
          "text": "6",
          "x": 0.20556561107789564,
          "xanchor": "center",
          "y": -0.2131394577942291,
          "yanchor": "bottom"
         },
         {
          "ax": 0,
          "ay": 0,
          "text": "7",
          "x": -1.0173405188841573,
          "xanchor": "center",
          "y": 0.3476851437954791,
          "yanchor": "bottom"
         },
         {
          "ax": 0,
          "ay": 0,
          "text": "8",
          "x": 0.7958770812342093,
          "xanchor": "center",
          "y": 1.5620687455991842,
          "yanchor": "bottom"
         },
         {
          "ax": 0,
          "ay": 0,
          "text": "9",
          "x": -0.19713333306800718,
          "xanchor": "center",
          "y": 0.45737236039742485,
          "yanchor": "bottom"
         },
         {
          "ax": 0,
          "ay": 0,
          "text": "10",
          "x": -0.35226063410521197,
          "xanchor": "center",
          "y": 0.45319440757655627,
          "yanchor": "bottom"
         },
         {
          "ax": 0,
          "ay": 0,
          "text": "11",
          "x": -0.5783528443708541,
          "xanchor": "center",
          "y": -0.5541341643503822,
          "yanchor": "bottom"
         },
         {
          "ax": 0,
          "ay": 0,
          "text": "12",
          "x": -0.4043592273632356,
          "xanchor": "center",
          "y": -0.32204672845505994,
          "yanchor": "bottom"
         },
         {
          "ax": 0,
          "ay": 0,
          "text": "13",
          "x": -0.487001309709542,
          "xanchor": "center",
          "y": -0.313485811570851,
          "yanchor": "bottom"
         },
         {
          "ax": 0,
          "ay": 0,
          "text": "14",
          "x": 0.09349157526674544,
          "xanchor": "center",
          "y": -0.09734655317792061,
          "yanchor": "bottom"
         },
         {
          "ax": 0,
          "ay": 0,
          "text": "15",
          "x": 0.16970996646293657,
          "xanchor": "center",
          "y": -0.09768581962818851,
          "yanchor": "bottom"
         },
         {
          "ax": 0,
          "ay": 0,
          "text": "16",
          "x": -0.014646540772788565,
          "xanchor": "center",
          "y": -0.11742437489597561,
          "yanchor": "bottom"
         },
         {
          "ax": 0,
          "ay": 0,
          "text": "17",
          "x": -0.2776222674513393,
          "xanchor": "center",
          "y": -0.29984309779515167,
          "yanchor": "bottom"
         },
         {
          "ax": 0,
          "ay": 0,
          "text": "18",
          "x": 0.009617998985817612,
          "xanchor": "center",
          "y": 0.1834254358471356,
          "yanchor": "bottom"
         },
         {
          "ax": 0,
          "ay": 0,
          "text": "19",
          "x": 0.46957867678819126,
          "xanchor": "center",
          "y": -0.04936195487587515,
          "yanchor": "bottom"
         },
         {
          "ax": 0,
          "ay": 0,
          "text": "20",
          "x": 0.04514935661965264,
          "xanchor": "center",
          "y": -0.0172524336961079,
          "yanchor": "bottom"
         },
         {
          "ax": 0,
          "ay": 0,
          "text": "21",
          "x": 0.1762959539980052,
          "xanchor": "center",
          "y": 0.12028319535496805,
          "yanchor": "bottom"
         },
         {
          "ax": 0,
          "ay": 0,
          "text": "22",
          "x": 0.20688462192943907,
          "xanchor": "center",
          "y": 0.11724248402268608,
          "yanchor": "bottom"
         },
         {
          "ax": 0,
          "ay": 0,
          "text": "23",
          "x": 0.08666164322141183,
          "xanchor": "center",
          "y": 0.007536474712047561,
          "yanchor": "bottom"
         },
         {
          "ax": 0,
          "ay": 0,
          "text": "24",
          "x": -0.04698584667351209,
          "xanchor": "center",
          "y": 0.1530287449042399,
          "yanchor": "bottom"
         },
         {
          "ax": 0,
          "ay": 0,
          "text": "25",
          "x": 0.06981640939064529,
          "xanchor": "center",
          "y": -0.1400863480525895,
          "yanchor": "bottom"
         },
         {
          "ax": 0,
          "ay": 0,
          "text": "26",
          "x": 0.13012230599089733,
          "xanchor": "center",
          "y": 0.07249143827409016,
          "yanchor": "bottom"
         },
         {
          "ax": 0,
          "ay": 0,
          "text": "27",
          "x": 0.04816604713957013,
          "xanchor": "center",
          "y": 0.06392791035337024,
          "yanchor": "bottom"
         },
         {
          "ax": 0,
          "ay": 0,
          "text": "28",
          "x": 0.015513516448266283,
          "xanchor": "center",
          "y": 0.0017908490008138435,
          "yanchor": "bottom"
         },
         {
          "ax": 0,
          "ay": 0,
          "text": "29",
          "x": 0.033639382922370856,
          "xanchor": "center",
          "y": -0.009465926801250092,
          "yanchor": "bottom"
         }
        ],
        "legend": {
         "title": {
          "text": "color"
         },
         "tracegroupgap": 0
        },
        "margin": {
         "t": 60
        },
        "shapes": [
         {
          "type": "line",
          "x0": 0,
          "x1": -83.05296819342178,
          "y0": 0,
          "y1": 11.214679727752197
         },
         {
          "type": "line",
          "x0": 0,
          "x1": -20.81706522320213,
          "y0": 0,
          "y1": -56.84159197475319
         },
         {
          "type": "line",
          "x0": 0,
          "x1": 27.507151947132932,
          "y0": 0,
          "y1": -7.032131810050663
         },
         {
          "type": "line",
          "x0": 0,
          "x1": 10.485254747549439,
          "y0": 0,
          "y1": -5.848137317122417
         },
         {
          "type": "line",
          "x0": 0,
          "x1": 1.5526901335429422,
          "y0": 0,
          "y1": 1.3100079979413484
         },
         {
          "type": "line",
          "x0": 0,
          "x1": -1.248717842305986,
          "y0": 0,
          "y1": 0.3373926343117561
         },
         {
          "type": "line",
          "x0": 0,
          "x1": 0.20556561107789564,
          "y0": 0,
          "y1": -0.2131394577942291
         },
         {
          "type": "line",
          "x0": 0,
          "x1": -1.0173405188841573,
          "y0": 0,
          "y1": 0.3476851437954791
         },
         {
          "type": "line",
          "x0": 0,
          "x1": 0.7958770812342093,
          "y0": 0,
          "y1": 1.5620687455991842
         },
         {
          "type": "line",
          "x0": 0,
          "x1": -0.19713333306800718,
          "y0": 0,
          "y1": 0.45737236039742485
         },
         {
          "type": "line",
          "x0": 0,
          "x1": -0.35226063410521197,
          "y0": 0,
          "y1": 0.45319440757655627
         },
         {
          "type": "line",
          "x0": 0,
          "x1": -0.5783528443708541,
          "y0": 0,
          "y1": -0.5541341643503822
         },
         {
          "type": "line",
          "x0": 0,
          "x1": -0.4043592273632356,
          "y0": 0,
          "y1": -0.32204672845505994
         },
         {
          "type": "line",
          "x0": 0,
          "x1": -0.487001309709542,
          "y0": 0,
          "y1": -0.313485811570851
         },
         {
          "type": "line",
          "x0": 0,
          "x1": 0.09349157526674544,
          "y0": 0,
          "y1": -0.09734655317792061
         },
         {
          "type": "line",
          "x0": 0,
          "x1": 0.16970996646293657,
          "y0": 0,
          "y1": -0.09768581962818851
         },
         {
          "type": "line",
          "x0": 0,
          "x1": -0.014646540772788565,
          "y0": 0,
          "y1": -0.11742437489597561
         },
         {
          "type": "line",
          "x0": 0,
          "x1": -0.2776222674513393,
          "y0": 0,
          "y1": -0.29984309779515167
         },
         {
          "type": "line",
          "x0": 0,
          "x1": 0.009617998985817612,
          "y0": 0,
          "y1": 0.1834254358471356
         },
         {
          "type": "line",
          "x0": 0,
          "x1": 0.46957867678819126,
          "y0": 0,
          "y1": -0.04936195487587515
         },
         {
          "type": "line",
          "x0": 0,
          "x1": 0.04514935661965264,
          "y0": 0,
          "y1": -0.0172524336961079
         },
         {
          "type": "line",
          "x0": 0,
          "x1": 0.1762959539980052,
          "y0": 0,
          "y1": 0.12028319535496805
         },
         {
          "type": "line",
          "x0": 0,
          "x1": 0.20688462192943907,
          "y0": 0,
          "y1": 0.11724248402268608
         },
         {
          "type": "line",
          "x0": 0,
          "x1": 0.08666164322141183,
          "y0": 0,
          "y1": 0.007536474712047561
         },
         {
          "type": "line",
          "x0": 0,
          "x1": -0.04698584667351209,
          "y0": 0,
          "y1": 0.1530287449042399
         },
         {
          "type": "line",
          "x0": 0,
          "x1": 0.06981640939064529,
          "y0": 0,
          "y1": -0.1400863480525895
         },
         {
          "type": "line",
          "x0": 0,
          "x1": 0.13012230599089733,
          "y0": 0,
          "y1": 0.07249143827409016
         },
         {
          "type": "line",
          "x0": 0,
          "x1": 0.04816604713957013,
          "y0": 0,
          "y1": 0.06392791035337024
         },
         {
          "type": "line",
          "x0": 0,
          "x1": 0.015513516448266283,
          "y0": 0,
          "y1": 0.0017908490008138435
         },
         {
          "type": "line",
          "x0": 0,
          "x1": 0.033639382922370856,
          "y0": 0,
          "y1": -0.009465926801250092
         }
        ],
        "template": {
         "data": {
          "bar": [
           {
            "error_x": {
             "color": "#2a3f5f"
            },
            "error_y": {
             "color": "#2a3f5f"
            },
            "marker": {
             "line": {
              "color": "#E5ECF6",
              "width": 0.5
             },
             "pattern": {
              "fillmode": "overlay",
              "size": 10,
              "solidity": 0.2
             }
            },
            "type": "bar"
           }
          ],
          "barpolar": [
           {
            "marker": {
             "line": {
              "color": "#E5ECF6",
              "width": 0.5
             },
             "pattern": {
              "fillmode": "overlay",
              "size": 10,
              "solidity": 0.2
             }
            },
            "type": "barpolar"
           }
          ],
          "carpet": [
           {
            "aaxis": {
             "endlinecolor": "#2a3f5f",
             "gridcolor": "white",
             "linecolor": "white",
             "minorgridcolor": "white",
             "startlinecolor": "#2a3f5f"
            },
            "baxis": {
             "endlinecolor": "#2a3f5f",
             "gridcolor": "white",
             "linecolor": "white",
             "minorgridcolor": "white",
             "startlinecolor": "#2a3f5f"
            },
            "type": "carpet"
           }
          ],
          "choropleth": [
           {
            "colorbar": {
             "outlinewidth": 0,
             "ticks": ""
            },
            "type": "choropleth"
           }
          ],
          "contour": [
           {
            "colorbar": {
             "outlinewidth": 0,
             "ticks": ""
            },
            "colorscale": [
             [
              0,
              "#0d0887"
             ],
             [
              0.1111111111111111,
              "#46039f"
             ],
             [
              0.2222222222222222,
              "#7201a8"
             ],
             [
              0.3333333333333333,
              "#9c179e"
             ],
             [
              0.4444444444444444,
              "#bd3786"
             ],
             [
              0.5555555555555556,
              "#d8576b"
             ],
             [
              0.6666666666666666,
              "#ed7953"
             ],
             [
              0.7777777777777778,
              "#fb9f3a"
             ],
             [
              0.8888888888888888,
              "#fdca26"
             ],
             [
              1,
              "#f0f921"
             ]
            ],
            "type": "contour"
           }
          ],
          "contourcarpet": [
           {
            "colorbar": {
             "outlinewidth": 0,
             "ticks": ""
            },
            "type": "contourcarpet"
           }
          ],
          "heatmap": [
           {
            "colorbar": {
             "outlinewidth": 0,
             "ticks": ""
            },
            "colorscale": [
             [
              0,
              "#0d0887"
             ],
             [
              0.1111111111111111,
              "#46039f"
             ],
             [
              0.2222222222222222,
              "#7201a8"
             ],
             [
              0.3333333333333333,
              "#9c179e"
             ],
             [
              0.4444444444444444,
              "#bd3786"
             ],
             [
              0.5555555555555556,
              "#d8576b"
             ],
             [
              0.6666666666666666,
              "#ed7953"
             ],
             [
              0.7777777777777778,
              "#fb9f3a"
             ],
             [
              0.8888888888888888,
              "#fdca26"
             ],
             [
              1,
              "#f0f921"
             ]
            ],
            "type": "heatmap"
           }
          ],
          "heatmapgl": [
           {
            "colorbar": {
             "outlinewidth": 0,
             "ticks": ""
            },
            "colorscale": [
             [
              0,
              "#0d0887"
             ],
             [
              0.1111111111111111,
              "#46039f"
             ],
             [
              0.2222222222222222,
              "#7201a8"
             ],
             [
              0.3333333333333333,
              "#9c179e"
             ],
             [
              0.4444444444444444,
              "#bd3786"
             ],
             [
              0.5555555555555556,
              "#d8576b"
             ],
             [
              0.6666666666666666,
              "#ed7953"
             ],
             [
              0.7777777777777778,
              "#fb9f3a"
             ],
             [
              0.8888888888888888,
              "#fdca26"
             ],
             [
              1,
              "#f0f921"
             ]
            ],
            "type": "heatmapgl"
           }
          ],
          "histogram": [
           {
            "marker": {
             "pattern": {
              "fillmode": "overlay",
              "size": 10,
              "solidity": 0.2
             }
            },
            "type": "histogram"
           }
          ],
          "histogram2d": [
           {
            "colorbar": {
             "outlinewidth": 0,
             "ticks": ""
            },
            "colorscale": [
             [
              0,
              "#0d0887"
             ],
             [
              0.1111111111111111,
              "#46039f"
             ],
             [
              0.2222222222222222,
              "#7201a8"
             ],
             [
              0.3333333333333333,
              "#9c179e"
             ],
             [
              0.4444444444444444,
              "#bd3786"
             ],
             [
              0.5555555555555556,
              "#d8576b"
             ],
             [
              0.6666666666666666,
              "#ed7953"
             ],
             [
              0.7777777777777778,
              "#fb9f3a"
             ],
             [
              0.8888888888888888,
              "#fdca26"
             ],
             [
              1,
              "#f0f921"
             ]
            ],
            "type": "histogram2d"
           }
          ],
          "histogram2dcontour": [
           {
            "colorbar": {
             "outlinewidth": 0,
             "ticks": ""
            },
            "colorscale": [
             [
              0,
              "#0d0887"
             ],
             [
              0.1111111111111111,
              "#46039f"
             ],
             [
              0.2222222222222222,
              "#7201a8"
             ],
             [
              0.3333333333333333,
              "#9c179e"
             ],
             [
              0.4444444444444444,
              "#bd3786"
             ],
             [
              0.5555555555555556,
              "#d8576b"
             ],
             [
              0.6666666666666666,
              "#ed7953"
             ],
             [
              0.7777777777777778,
              "#fb9f3a"
             ],
             [
              0.8888888888888888,
              "#fdca26"
             ],
             [
              1,
              "#f0f921"
             ]
            ],
            "type": "histogram2dcontour"
           }
          ],
          "mesh3d": [
           {
            "colorbar": {
             "outlinewidth": 0,
             "ticks": ""
            },
            "type": "mesh3d"
           }
          ],
          "parcoords": [
           {
            "line": {
             "colorbar": {
              "outlinewidth": 0,
              "ticks": ""
             }
            },
            "type": "parcoords"
           }
          ],
          "pie": [
           {
            "automargin": true,
            "type": "pie"
           }
          ],
          "scatter": [
           {
            "marker": {
             "colorbar": {
              "outlinewidth": 0,
              "ticks": ""
             }
            },
            "type": "scatter"
           }
          ],
          "scatter3d": [
           {
            "line": {
             "colorbar": {
              "outlinewidth": 0,
              "ticks": ""
             }
            },
            "marker": {
             "colorbar": {
              "outlinewidth": 0,
              "ticks": ""
             }
            },
            "type": "scatter3d"
           }
          ],
          "scattercarpet": [
           {
            "marker": {
             "colorbar": {
              "outlinewidth": 0,
              "ticks": ""
             }
            },
            "type": "scattercarpet"
           }
          ],
          "scattergeo": [
           {
            "marker": {
             "colorbar": {
              "outlinewidth": 0,
              "ticks": ""
             }
            },
            "type": "scattergeo"
           }
          ],
          "scattergl": [
           {
            "marker": {
             "colorbar": {
              "outlinewidth": 0,
              "ticks": ""
             }
            },
            "type": "scattergl"
           }
          ],
          "scattermapbox": [
           {
            "marker": {
             "colorbar": {
              "outlinewidth": 0,
              "ticks": ""
             }
            },
            "type": "scattermapbox"
           }
          ],
          "scatterpolar": [
           {
            "marker": {
             "colorbar": {
              "outlinewidth": 0,
              "ticks": ""
             }
            },
            "type": "scatterpolar"
           }
          ],
          "scatterpolargl": [
           {
            "marker": {
             "colorbar": {
              "outlinewidth": 0,
              "ticks": ""
             }
            },
            "type": "scatterpolargl"
           }
          ],
          "scatterternary": [
           {
            "marker": {
             "colorbar": {
              "outlinewidth": 0,
              "ticks": ""
             }
            },
            "type": "scatterternary"
           }
          ],
          "surface": [
           {
            "colorbar": {
             "outlinewidth": 0,
             "ticks": ""
            },
            "colorscale": [
             [
              0,
              "#0d0887"
             ],
             [
              0.1111111111111111,
              "#46039f"
             ],
             [
              0.2222222222222222,
              "#7201a8"
             ],
             [
              0.3333333333333333,
              "#9c179e"
             ],
             [
              0.4444444444444444,
              "#bd3786"
             ],
             [
              0.5555555555555556,
              "#d8576b"
             ],
             [
              0.6666666666666666,
              "#ed7953"
             ],
             [
              0.7777777777777778,
              "#fb9f3a"
             ],
             [
              0.8888888888888888,
              "#fdca26"
             ],
             [
              1,
              "#f0f921"
             ]
            ],
            "type": "surface"
           }
          ],
          "table": [
           {
            "cells": {
             "fill": {
              "color": "#EBF0F8"
             },
             "line": {
              "color": "white"
             }
            },
            "header": {
             "fill": {
              "color": "#C8D4E3"
             },
             "line": {
              "color": "white"
             }
            },
            "type": "table"
           }
          ]
         },
         "layout": {
          "annotationdefaults": {
           "arrowcolor": "#2a3f5f",
           "arrowhead": 0,
           "arrowwidth": 1
          },
          "autotypenumbers": "strict",
          "coloraxis": {
           "colorbar": {
            "outlinewidth": 0,
            "ticks": ""
           }
          },
          "colorscale": {
           "diverging": [
            [
             0,
             "#8e0152"
            ],
            [
             0.1,
             "#c51b7d"
            ],
            [
             0.2,
             "#de77ae"
            ],
            [
             0.3,
             "#f1b6da"
            ],
            [
             0.4,
             "#fde0ef"
            ],
            [
             0.5,
             "#f7f7f7"
            ],
            [
             0.6,
             "#e6f5d0"
            ],
            [
             0.7,
             "#b8e186"
            ],
            [
             0.8,
             "#7fbc41"
            ],
            [
             0.9,
             "#4d9221"
            ],
            [
             1,
             "#276419"
            ]
           ],
           "sequential": [
            [
             0,
             "#0d0887"
            ],
            [
             0.1111111111111111,
             "#46039f"
            ],
            [
             0.2222222222222222,
             "#7201a8"
            ],
            [
             0.3333333333333333,
             "#9c179e"
            ],
            [
             0.4444444444444444,
             "#bd3786"
            ],
            [
             0.5555555555555556,
             "#d8576b"
            ],
            [
             0.6666666666666666,
             "#ed7953"
            ],
            [
             0.7777777777777778,
             "#fb9f3a"
            ],
            [
             0.8888888888888888,
             "#fdca26"
            ],
            [
             1,
             "#f0f921"
            ]
           ],
           "sequentialminus": [
            [
             0,
             "#0d0887"
            ],
            [
             0.1111111111111111,
             "#46039f"
            ],
            [
             0.2222222222222222,
             "#7201a8"
            ],
            [
             0.3333333333333333,
             "#9c179e"
            ],
            [
             0.4444444444444444,
             "#bd3786"
            ],
            [
             0.5555555555555556,
             "#d8576b"
            ],
            [
             0.6666666666666666,
             "#ed7953"
            ],
            [
             0.7777777777777778,
             "#fb9f3a"
            ],
            [
             0.8888888888888888,
             "#fdca26"
            ],
            [
             1,
             "#f0f921"
            ]
           ]
          },
          "colorway": [
           "#636efa",
           "#EF553B",
           "#00cc96",
           "#ab63fa",
           "#FFA15A",
           "#19d3f3",
           "#FF6692",
           "#B6E880",
           "#FF97FF",
           "#FECB52"
          ],
          "font": {
           "color": "#2a3f5f"
          },
          "geo": {
           "bgcolor": "white",
           "lakecolor": "white",
           "landcolor": "#E5ECF6",
           "showlakes": true,
           "showland": true,
           "subunitcolor": "white"
          },
          "hoverlabel": {
           "align": "left"
          },
          "hovermode": "closest",
          "mapbox": {
           "style": "light"
          },
          "paper_bgcolor": "white",
          "plot_bgcolor": "#E5ECF6",
          "polar": {
           "angularaxis": {
            "gridcolor": "white",
            "linecolor": "white",
            "ticks": ""
           },
           "bgcolor": "#E5ECF6",
           "radialaxis": {
            "gridcolor": "white",
            "linecolor": "white",
            "ticks": ""
           }
          },
          "scene": {
           "xaxis": {
            "backgroundcolor": "#E5ECF6",
            "gridcolor": "white",
            "gridwidth": 2,
            "linecolor": "white",
            "showbackground": true,
            "ticks": "",
            "zerolinecolor": "white"
           },
           "yaxis": {
            "backgroundcolor": "#E5ECF6",
            "gridcolor": "white",
            "gridwidth": 2,
            "linecolor": "white",
            "showbackground": true,
            "ticks": "",
            "zerolinecolor": "white"
           },
           "zaxis": {
            "backgroundcolor": "#E5ECF6",
            "gridcolor": "white",
            "gridwidth": 2,
            "linecolor": "white",
            "showbackground": true,
            "ticks": "",
            "zerolinecolor": "white"
           }
          },
          "shapedefaults": {
           "line": {
            "color": "#2a3f5f"
           }
          },
          "ternary": {
           "aaxis": {
            "gridcolor": "white",
            "linecolor": "white",
            "ticks": ""
           },
           "baxis": {
            "gridcolor": "white",
            "linecolor": "white",
            "ticks": ""
           },
           "bgcolor": "#E5ECF6",
           "caxis": {
            "gridcolor": "white",
            "linecolor": "white",
            "ticks": ""
           }
          },
          "title": {
           "x": 0.05
          },
          "xaxis": {
           "automargin": true,
           "gridcolor": "white",
           "linecolor": "white",
           "ticks": "",
           "title": {
            "standoff": 15
           },
           "zerolinecolor": "white",
           "zerolinewidth": 2
          },
          "yaxis": {
           "automargin": true,
           "gridcolor": "white",
           "linecolor": "white",
           "ticks": "",
           "title": {
            "standoff": 15
           },
           "zerolinecolor": "white",
           "zerolinewidth": 2
          }
         }
        },
        "xaxis": {
         "anchor": "y",
         "domain": [
          0,
          1
         ],
         "title": {
          "text": "0"
         }
        },
        "yaxis": {
         "anchor": "x",
         "domain": [
          0,
          1
         ],
         "title": {
          "text": "1"
         }
        }
       }
      }
     },
     "metadata": {},
     "output_type": "display_data"
    }
   ],
   "source": [
    "pca = PCA(n_components=2)\n",
    "components = pca.fit_transform(X)\n",
    "\n",
    "loadings = pca.components_.T * np.sqrt(pca.explained_variance_)\n",
    "\n",
    "fig = px.scatter(components, x=0, y=1, color=df['Species'])\n",
    "\n",
    "for i, feature in enumerate(X.columns):\n",
    "    fig.add_shape(\n",
    "        type='line',\n",
    "        x0=0, y0=0,\n",
    "        x1=loadings[i, 0],\n",
    "        y1=loadings[i, 1]\n",
    "    )\n",
    "    fig.add_annotation(\n",
    "        x=loadings[i, 0],\n",
    "        y=loadings[i, 1],\n",
    "        ax=0, ay=0,\n",
    "        xanchor=\"center\",\n",
    "        yanchor=\"bottom\",\n",
    "        text=feature,\n",
    "    )\n",
    "fig.show()"
   ]
  },
  {
   "cell_type": "code",
   "execution_count": 28,
   "metadata": {},
   "outputs": [
    {
     "data": {
      "application/vnd.plotly.v1+json": {
       "config": {
        "plotlyServerURL": "https://plot.ly"
       },
       "data": [
        {
         "hovertemplate": "color=mitis<br>PC 1=%{x}<br>PC 2=%{y}<br>PC 3=%{z}<extra></extra>",
         "legendgroup": "mitis",
         "marker": {
          "color": "#636efa",
          "symbol": "circle"
         },
         "mode": "markers",
         "name": "mitis",
         "scene": "scene",
         "showlegend": true,
         "type": "scatter3d",
         "x": [
          -69.23491678208784,
          -65.73619901302644,
          -71.61894778793042,
          -79.25298017885524,
          -81.92005996760147,
          -89.94650323796576,
          -81.8563233208577,
          -92.66898557180838,
          -83.03164084946755,
          -98.03711888104841
         ],
         "y": [
          106.00995590773738,
          99.35803375331437,
          113.63039542685534,
          112.98662682096376,
          111.68380170008447,
          118.42636849363741,
          116.2517167688112,
          112.23928840505594,
          117.15508598738268,
          112.7713393749416
         ],
         "z": [
          -34.48343187224155,
          -32.48119711824576,
          -32.362111532177416,
          -30.27329522180635,
          -32.60274804601203,
          -28.08626149606677,
          -37.710476464123076,
          -32.86731497903549,
          -34.26620343614993,
          -22.39840025421627
         ]
        },
        {
         "hovertemplate": "color=badius<br>PC 1=%{x}<br>PC 2=%{y}<br>PC 3=%{z}<extra></extra>",
         "legendgroup": "badius",
         "marker": {
          "color": "#EF553B",
          "symbol": "circle"
         },
         "mode": "markers",
         "name": "badius",
         "scene": "scene",
         "showlegend": true,
         "type": "scatter3d",
         "x": [
          80.68981843685415,
          73.6647455289341,
          82.7639943567435,
          74.86536197650794,
          74.67924314846958,
          92.10094233978187,
          68.58914240251407,
          73.83875453846979,
          86.9930634160888,
          75.29729349099009
         ],
         "y": [
          65.82586454874085,
          63.198598698951706,
          70.9725857820143,
          64.02020265450734,
          70.23325615401583,
          72.99140649187937,
          63.8538167717031,
          70.72214264957927,
          63.85809199948367,
          66.52915215918381
         ],
         "z": [
          31.56663984360154,
          58.39071775365686,
          57.662221638376394,
          45.733161541354384,
          39.12601404637384,
          45.28969805647125,
          48.65475823542538,
          47.958745934507874,
          43.43411198026512,
          43.19299539363079
         ]
        },
        {
         "hovertemplate": "color=cristata<br>PC 1=%{x}<br>PC 2=%{y}<br>PC 3=%{z}<extra></extra>",
         "legendgroup": "cristata",
         "marker": {
          "color": "#00cc96",
          "symbol": "circle"
         },
         "mode": "markers",
         "name": "cristata",
         "scene": "scene",
         "showlegend": true,
         "type": "scatter3d",
         "x": [
          -26.008444421997055,
          -38.376316840030256,
          -44.66694619235017,
          -48.002900799690856,
          -45.86315617418358,
          -45.794245074289975,
          -52.36902198507457,
          -64.74100627859666,
          -52.99590107497763,
          -76.95573194622546,
          156.38467990552647,
          153.59054687736054,
          149.330272764518,
          144.87433417390844,
          147.27478427458036,
          146.4703206166309,
          139.55138872834073,
          133.47432735952802
         ],
         "y": [
          -80.9703292298119,
          -74.72609004556723,
          -67.6567695377783,
          -68.89202057227895,
          -63.99308587892928,
          -71.33732918198446,
          -58.598996896381564,
          -53.9924968484907,
          -59.0890417594128,
          -48.2598784466114,
          -34.18458636324985,
          -33.299524155391595,
          -28.406522282580987,
          -27.407346173805834,
          -23.46434779448858,
          -25.689971969779073,
          -22.483404454822026,
          -16.852049621021905
         ],
         "z": [
          -45.9830174920604,
          -27.07001044835349,
          -35.76264765471933,
          -36.26022665993543,
          -30.551518115259437,
          -28.383581948126267,
          -25.540075498686196,
          -23.8404210835784,
          -13.666675613243076,
          -22.083218529385988,
          -51.06391625437274,
          -54.160562672493874,
          -57.29444747620162,
          -44.37145601008749,
          -41.44590030453048,
          -43.49263951186889,
          -33.78681424254598,
          -23.95026457901341
         ]
        },
        {
         "hovertemplate": "color=polykomos<br>PC 1=%{x}<br>PC 2=%{y}<br>PC 3=%{z}<extra></extra>",
         "legendgroup": "polykomos",
         "marker": {
          "color": "#ab63fa",
          "symbol": "circle"
         },
         "mode": "markers",
         "name": "polykomos",
         "scene": "scene",
         "showlegend": true,
         "type": "scatter3d",
         "x": [
          -57.75210940930982,
          -71.97498807537316,
          -65.2134263248772,
          -65.93264884817161,
          -68.77347130167679,
          -83.9454019475261,
          -81.75001434003248,
          -91.01772317701267,
          -111.68049201207648,
          -136.22188215836175
         ],
         "y": [
          -42.98003165471123,
          -53.05575468983169,
          -46.20763247475001,
          -46.589083716556935,
          -35.91216445387922,
          -43.80554194183072,
          -30.934440996903426,
          -27.608966964942258,
          -26.64135673681181,
          -7.3673689800158515
         ],
         "z": [
          -22.651585495707565,
          -16.200629909254896,
          -20.91708679593332,
          -18.15530122554481,
          -11.539593045283487,
          -12.35819776026073,
          -13.97301598479777,
          -11.458639859164593,
          -7.527951512370836,
          1.6633806256943247
         ]
        },
        {
         "hovertemplate": "color=torquatus<br>PC 1=%{x}<br>PC 2=%{y}<br>PC 3=%{z}<extra></extra>",
         "legendgroup": "torquatus",
         "marker": {
          "color": "#FFA15A",
          "symbol": "circle"
         },
         "mode": "markers",
         "name": "torquatus",
         "scene": "scene",
         "showlegend": true,
         "type": "scatter3d",
         "x": [
          -67.80160612659024,
          -63.7278469952327,
          -74.2847711681185,
          -88.42340926439802,
          -71.66083497370903,
          -119.47478277466027,
          -82.98436503539716,
          -74.29040497584393,
          -80.30146061813076
         ],
         "y": [
          -40.06642561281563,
          -20.584698595734558,
          -13.631313458754281,
          -9.331745085326075,
          -18.19591594387477,
          0.608232640917587,
          -6.731916104923341,
          -19.286103782237266,
          -13.587450820604536
         ],
         "z": [
          4.090961550397925,
          -9.391585533233277,
          1.4264063258741153,
          5.788560807281211,
          5.65782503652237,
          14.640331748731503,
          -10.049474718245019,
          -3.924410224049878,
          -0.0734609866050271
         ]
        },
        {
         "hovertemplate": "color=lar<br>PC 1=%{x}<br>PC 2=%{y}<br>PC 3=%{z}<extra></extra>",
         "legendgroup": "lar",
         "marker": {
          "color": "#19d3f3",
          "symbol": "circle"
         },
         "mode": "markers",
         "name": "lar",
         "scene": "scene",
         "showlegend": true,
         "type": "scatter3d",
         "x": [
          17.496755142257324,
          7.427460795319177,
          -12.649960498835265,
          0.23228370812443253,
          -11.617480917939583,
          -2.2484768331958,
          -23.07746321430931,
          -11.449168339631507,
          -6.599595926191145,
          -25.34782749771092,
          -19.12919005543346,
          145.60687123651485,
          147.010089283642,
          143.52725743588397,
          143.15445156981767,
          140.91361556414415,
          141.14583347142406,
          137.4605166449355
         ],
         "y": [
          -57.88516457108481,
          -49.19130960364609,
          -36.56526906176269,
          -40.26292481385149,
          -31.93184066188776,
          -41.547534514087076,
          -36.94646592555219,
          -33.286502943867525,
          -36.32671460801907,
          -33.681804511360916,
          -26.838846098767505,
          -10.101191829931835,
          -0.595702638654119,
          2.1978523748031344,
          -4.678635469667024,
          -2.466955793500462,
          6.935871474619727,
          1.6688792333466425
         ],
         "z": [
          61.462860919456965,
          65.38311348592937,
          78.32565481274463,
          68.40066017317605,
          74.28147175572035,
          71.59881595176981,
          78.61279108230077,
          68.70657854194279,
          69.09567220730024,
          79.0908338345546,
          78.98734011649445,
          -31.346134754558943,
          -30.351309461699532,
          -26.79422894836334,
          -27.130680309590787,
          -23.600455312481362,
          -18.37127926587609,
          -16.168467781996565
         ]
        }
       ],
       "layout": {
        "legend": {
         "title": {
          "text": "color"
         },
         "tracegroupgap": 0
        },
        "scene": {
         "domain": {
          "x": [
           0,
           1
          ],
          "y": [
           0,
           1
          ]
         },
         "xaxis": {
          "title": {
           "text": "PC 1"
          }
         },
         "yaxis": {
          "title": {
           "text": "PC 2"
          }
         },
         "zaxis": {
          "title": {
           "text": "PC 3"
          }
         }
        },
        "template": {
         "data": {
          "bar": [
           {
            "error_x": {
             "color": "#2a3f5f"
            },
            "error_y": {
             "color": "#2a3f5f"
            },
            "marker": {
             "line": {
              "color": "#E5ECF6",
              "width": 0.5
             },
             "pattern": {
              "fillmode": "overlay",
              "size": 10,
              "solidity": 0.2
             }
            },
            "type": "bar"
           }
          ],
          "barpolar": [
           {
            "marker": {
             "line": {
              "color": "#E5ECF6",
              "width": 0.5
             },
             "pattern": {
              "fillmode": "overlay",
              "size": 10,
              "solidity": 0.2
             }
            },
            "type": "barpolar"
           }
          ],
          "carpet": [
           {
            "aaxis": {
             "endlinecolor": "#2a3f5f",
             "gridcolor": "white",
             "linecolor": "white",
             "minorgridcolor": "white",
             "startlinecolor": "#2a3f5f"
            },
            "baxis": {
             "endlinecolor": "#2a3f5f",
             "gridcolor": "white",
             "linecolor": "white",
             "minorgridcolor": "white",
             "startlinecolor": "#2a3f5f"
            },
            "type": "carpet"
           }
          ],
          "choropleth": [
           {
            "colorbar": {
             "outlinewidth": 0,
             "ticks": ""
            },
            "type": "choropleth"
           }
          ],
          "contour": [
           {
            "colorbar": {
             "outlinewidth": 0,
             "ticks": ""
            },
            "colorscale": [
             [
              0,
              "#0d0887"
             ],
             [
              0.1111111111111111,
              "#46039f"
             ],
             [
              0.2222222222222222,
              "#7201a8"
             ],
             [
              0.3333333333333333,
              "#9c179e"
             ],
             [
              0.4444444444444444,
              "#bd3786"
             ],
             [
              0.5555555555555556,
              "#d8576b"
             ],
             [
              0.6666666666666666,
              "#ed7953"
             ],
             [
              0.7777777777777778,
              "#fb9f3a"
             ],
             [
              0.8888888888888888,
              "#fdca26"
             ],
             [
              1,
              "#f0f921"
             ]
            ],
            "type": "contour"
           }
          ],
          "contourcarpet": [
           {
            "colorbar": {
             "outlinewidth": 0,
             "ticks": ""
            },
            "type": "contourcarpet"
           }
          ],
          "heatmap": [
           {
            "colorbar": {
             "outlinewidth": 0,
             "ticks": ""
            },
            "colorscale": [
             [
              0,
              "#0d0887"
             ],
             [
              0.1111111111111111,
              "#46039f"
             ],
             [
              0.2222222222222222,
              "#7201a8"
             ],
             [
              0.3333333333333333,
              "#9c179e"
             ],
             [
              0.4444444444444444,
              "#bd3786"
             ],
             [
              0.5555555555555556,
              "#d8576b"
             ],
             [
              0.6666666666666666,
              "#ed7953"
             ],
             [
              0.7777777777777778,
              "#fb9f3a"
             ],
             [
              0.8888888888888888,
              "#fdca26"
             ],
             [
              1,
              "#f0f921"
             ]
            ],
            "type": "heatmap"
           }
          ],
          "heatmapgl": [
           {
            "colorbar": {
             "outlinewidth": 0,
             "ticks": ""
            },
            "colorscale": [
             [
              0,
              "#0d0887"
             ],
             [
              0.1111111111111111,
              "#46039f"
             ],
             [
              0.2222222222222222,
              "#7201a8"
             ],
             [
              0.3333333333333333,
              "#9c179e"
             ],
             [
              0.4444444444444444,
              "#bd3786"
             ],
             [
              0.5555555555555556,
              "#d8576b"
             ],
             [
              0.6666666666666666,
              "#ed7953"
             ],
             [
              0.7777777777777778,
              "#fb9f3a"
             ],
             [
              0.8888888888888888,
              "#fdca26"
             ],
             [
              1,
              "#f0f921"
             ]
            ],
            "type": "heatmapgl"
           }
          ],
          "histogram": [
           {
            "marker": {
             "pattern": {
              "fillmode": "overlay",
              "size": 10,
              "solidity": 0.2
             }
            },
            "type": "histogram"
           }
          ],
          "histogram2d": [
           {
            "colorbar": {
             "outlinewidth": 0,
             "ticks": ""
            },
            "colorscale": [
             [
              0,
              "#0d0887"
             ],
             [
              0.1111111111111111,
              "#46039f"
             ],
             [
              0.2222222222222222,
              "#7201a8"
             ],
             [
              0.3333333333333333,
              "#9c179e"
             ],
             [
              0.4444444444444444,
              "#bd3786"
             ],
             [
              0.5555555555555556,
              "#d8576b"
             ],
             [
              0.6666666666666666,
              "#ed7953"
             ],
             [
              0.7777777777777778,
              "#fb9f3a"
             ],
             [
              0.8888888888888888,
              "#fdca26"
             ],
             [
              1,
              "#f0f921"
             ]
            ],
            "type": "histogram2d"
           }
          ],
          "histogram2dcontour": [
           {
            "colorbar": {
             "outlinewidth": 0,
             "ticks": ""
            },
            "colorscale": [
             [
              0,
              "#0d0887"
             ],
             [
              0.1111111111111111,
              "#46039f"
             ],
             [
              0.2222222222222222,
              "#7201a8"
             ],
             [
              0.3333333333333333,
              "#9c179e"
             ],
             [
              0.4444444444444444,
              "#bd3786"
             ],
             [
              0.5555555555555556,
              "#d8576b"
             ],
             [
              0.6666666666666666,
              "#ed7953"
             ],
             [
              0.7777777777777778,
              "#fb9f3a"
             ],
             [
              0.8888888888888888,
              "#fdca26"
             ],
             [
              1,
              "#f0f921"
             ]
            ],
            "type": "histogram2dcontour"
           }
          ],
          "mesh3d": [
           {
            "colorbar": {
             "outlinewidth": 0,
             "ticks": ""
            },
            "type": "mesh3d"
           }
          ],
          "parcoords": [
           {
            "line": {
             "colorbar": {
              "outlinewidth": 0,
              "ticks": ""
             }
            },
            "type": "parcoords"
           }
          ],
          "pie": [
           {
            "automargin": true,
            "type": "pie"
           }
          ],
          "scatter": [
           {
            "marker": {
             "colorbar": {
              "outlinewidth": 0,
              "ticks": ""
             }
            },
            "type": "scatter"
           }
          ],
          "scatter3d": [
           {
            "line": {
             "colorbar": {
              "outlinewidth": 0,
              "ticks": ""
             }
            },
            "marker": {
             "colorbar": {
              "outlinewidth": 0,
              "ticks": ""
             }
            },
            "type": "scatter3d"
           }
          ],
          "scattercarpet": [
           {
            "marker": {
             "colorbar": {
              "outlinewidth": 0,
              "ticks": ""
             }
            },
            "type": "scattercarpet"
           }
          ],
          "scattergeo": [
           {
            "marker": {
             "colorbar": {
              "outlinewidth": 0,
              "ticks": ""
             }
            },
            "type": "scattergeo"
           }
          ],
          "scattergl": [
           {
            "marker": {
             "colorbar": {
              "outlinewidth": 0,
              "ticks": ""
             }
            },
            "type": "scattergl"
           }
          ],
          "scattermapbox": [
           {
            "marker": {
             "colorbar": {
              "outlinewidth": 0,
              "ticks": ""
             }
            },
            "type": "scattermapbox"
           }
          ],
          "scatterpolar": [
           {
            "marker": {
             "colorbar": {
              "outlinewidth": 0,
              "ticks": ""
             }
            },
            "type": "scatterpolar"
           }
          ],
          "scatterpolargl": [
           {
            "marker": {
             "colorbar": {
              "outlinewidth": 0,
              "ticks": ""
             }
            },
            "type": "scatterpolargl"
           }
          ],
          "scatterternary": [
           {
            "marker": {
             "colorbar": {
              "outlinewidth": 0,
              "ticks": ""
             }
            },
            "type": "scatterternary"
           }
          ],
          "surface": [
           {
            "colorbar": {
             "outlinewidth": 0,
             "ticks": ""
            },
            "colorscale": [
             [
              0,
              "#0d0887"
             ],
             [
              0.1111111111111111,
              "#46039f"
             ],
             [
              0.2222222222222222,
              "#7201a8"
             ],
             [
              0.3333333333333333,
              "#9c179e"
             ],
             [
              0.4444444444444444,
              "#bd3786"
             ],
             [
              0.5555555555555556,
              "#d8576b"
             ],
             [
              0.6666666666666666,
              "#ed7953"
             ],
             [
              0.7777777777777778,
              "#fb9f3a"
             ],
             [
              0.8888888888888888,
              "#fdca26"
             ],
             [
              1,
              "#f0f921"
             ]
            ],
            "type": "surface"
           }
          ],
          "table": [
           {
            "cells": {
             "fill": {
              "color": "#EBF0F8"
             },
             "line": {
              "color": "white"
             }
            },
            "header": {
             "fill": {
              "color": "#C8D4E3"
             },
             "line": {
              "color": "white"
             }
            },
            "type": "table"
           }
          ]
         },
         "layout": {
          "annotationdefaults": {
           "arrowcolor": "#2a3f5f",
           "arrowhead": 0,
           "arrowwidth": 1
          },
          "autotypenumbers": "strict",
          "coloraxis": {
           "colorbar": {
            "outlinewidth": 0,
            "ticks": ""
           }
          },
          "colorscale": {
           "diverging": [
            [
             0,
             "#8e0152"
            ],
            [
             0.1,
             "#c51b7d"
            ],
            [
             0.2,
             "#de77ae"
            ],
            [
             0.3,
             "#f1b6da"
            ],
            [
             0.4,
             "#fde0ef"
            ],
            [
             0.5,
             "#f7f7f7"
            ],
            [
             0.6,
             "#e6f5d0"
            ],
            [
             0.7,
             "#b8e186"
            ],
            [
             0.8,
             "#7fbc41"
            ],
            [
             0.9,
             "#4d9221"
            ],
            [
             1,
             "#276419"
            ]
           ],
           "sequential": [
            [
             0,
             "#0d0887"
            ],
            [
             0.1111111111111111,
             "#46039f"
            ],
            [
             0.2222222222222222,
             "#7201a8"
            ],
            [
             0.3333333333333333,
             "#9c179e"
            ],
            [
             0.4444444444444444,
             "#bd3786"
            ],
            [
             0.5555555555555556,
             "#d8576b"
            ],
            [
             0.6666666666666666,
             "#ed7953"
            ],
            [
             0.7777777777777778,
             "#fb9f3a"
            ],
            [
             0.8888888888888888,
             "#fdca26"
            ],
            [
             1,
             "#f0f921"
            ]
           ],
           "sequentialminus": [
            [
             0,
             "#0d0887"
            ],
            [
             0.1111111111111111,
             "#46039f"
            ],
            [
             0.2222222222222222,
             "#7201a8"
            ],
            [
             0.3333333333333333,
             "#9c179e"
            ],
            [
             0.4444444444444444,
             "#bd3786"
            ],
            [
             0.5555555555555556,
             "#d8576b"
            ],
            [
             0.6666666666666666,
             "#ed7953"
            ],
            [
             0.7777777777777778,
             "#fb9f3a"
            ],
            [
             0.8888888888888888,
             "#fdca26"
            ],
            [
             1,
             "#f0f921"
            ]
           ]
          },
          "colorway": [
           "#636efa",
           "#EF553B",
           "#00cc96",
           "#ab63fa",
           "#FFA15A",
           "#19d3f3",
           "#FF6692",
           "#B6E880",
           "#FF97FF",
           "#FECB52"
          ],
          "font": {
           "color": "#2a3f5f"
          },
          "geo": {
           "bgcolor": "white",
           "lakecolor": "white",
           "landcolor": "#E5ECF6",
           "showlakes": true,
           "showland": true,
           "subunitcolor": "white"
          },
          "hoverlabel": {
           "align": "left"
          },
          "hovermode": "closest",
          "mapbox": {
           "style": "light"
          },
          "paper_bgcolor": "white",
          "plot_bgcolor": "#E5ECF6",
          "polar": {
           "angularaxis": {
            "gridcolor": "white",
            "linecolor": "white",
            "ticks": ""
           },
           "bgcolor": "#E5ECF6",
           "radialaxis": {
            "gridcolor": "white",
            "linecolor": "white",
            "ticks": ""
           }
          },
          "scene": {
           "xaxis": {
            "backgroundcolor": "#E5ECF6",
            "gridcolor": "white",
            "gridwidth": 2,
            "linecolor": "white",
            "showbackground": true,
            "ticks": "",
            "zerolinecolor": "white"
           },
           "yaxis": {
            "backgroundcolor": "#E5ECF6",
            "gridcolor": "white",
            "gridwidth": 2,
            "linecolor": "white",
            "showbackground": true,
            "ticks": "",
            "zerolinecolor": "white"
           },
           "zaxis": {
            "backgroundcolor": "#E5ECF6",
            "gridcolor": "white",
            "gridwidth": 2,
            "linecolor": "white",
            "showbackground": true,
            "ticks": "",
            "zerolinecolor": "white"
           }
          },
          "shapedefaults": {
           "line": {
            "color": "#2a3f5f"
           }
          },
          "ternary": {
           "aaxis": {
            "gridcolor": "white",
            "linecolor": "white",
            "ticks": ""
           },
           "baxis": {
            "gridcolor": "white",
            "linecolor": "white",
            "ticks": ""
           },
           "bgcolor": "#E5ECF6",
           "caxis": {
            "gridcolor": "white",
            "linecolor": "white",
            "ticks": ""
           }
          },
          "title": {
           "x": 0.05
          },
          "xaxis": {
           "automargin": true,
           "gridcolor": "white",
           "linecolor": "white",
           "ticks": "",
           "title": {
            "standoff": 15
           },
           "zerolinecolor": "white",
           "zerolinewidth": 2
          },
          "yaxis": {
           "automargin": true,
           "gridcolor": "white",
           "linecolor": "white",
           "ticks": "",
           "title": {
            "standoff": 15
           },
           "zerolinecolor": "white",
           "zerolinewidth": 2
          }
         }
        },
        "title": {
         "text": "Total Explained Variance: 97.77%"
        }
       }
      }
     },
     "metadata": {},
     "output_type": "display_data"
    }
   ],
   "source": [
    "pca = PCA(n_components=3)\n",
    "components = pca.fit_transform(X)\n",
    "\n",
    "total_var = pca.explained_variance_ratio_.sum() * 100\n",
    "\n",
    "fig = px.scatter_3d(\n",
    "    components, x=0, y=1, z=2, color=df['Species'],\n",
    "    title=f'Total Explained Variance: {total_var:.2f}%',\n",
    "    labels={'0': 'PC 1', '1': 'PC 2', '2': 'PC 3'},\n",
    ")\n",
    "fig.show()"
   ]
  },
  {
   "cell_type": "code",
   "execution_count": 29,
   "metadata": {},
   "outputs": [
    {
     "data": {
      "application/vnd.plotly.v1+json": {
       "config": {
        "plotlyServerURL": "https://plot.ly"
       },
       "data": [
        {
         "diagonal": {
          "visible": false
         },
         "dimensions": [
          {
           "axis": {
            "matches": true
           },
           "label": "PC 1",
           "values": [
            -69.23491678208784,
            -65.73619901302644,
            -71.61894778793042,
            -79.25298017885524,
            -81.92005996760147,
            -89.94650323796576,
            -81.8563233208577,
            -92.66898557180838,
            -83.03164084946755,
            -98.03711888104841
           ]
          },
          {
           "axis": {
            "matches": true
           },
           "label": "PC 2",
           "values": [
            106.00995590773738,
            99.35803375331437,
            113.63039542685534,
            112.98662682096376,
            111.68380170008447,
            118.42636849363741,
            116.2517167688112,
            112.23928840505594,
            117.15508598738268,
            112.7713393749416
           ]
          },
          {
           "axis": {
            "matches": true
           },
           "label": "PC 3",
           "values": [
            -34.48343187224155,
            -32.48119711824576,
            -32.362111532177416,
            -30.27329522180635,
            -32.60274804601203,
            -28.08626149606677,
            -37.710476464123076,
            -32.86731497903549,
            -34.26620343614993,
            -22.39840025421627
           ]
          },
          {
           "axis": {
            "matches": true
           },
           "label": "PC 4",
           "values": [
            2.4211802156517193,
            0.2916415509372965,
            -1.0959986129094152,
            -0.6758640632221226,
            -2.6034802785097733,
            -2.372661980802127,
            -3.422292241921722,
            -1.9216498080084081,
            -1.1708241525319818,
            -6.8665220145264465
           ]
          }
         ],
         "hovertemplate": "Species=mitis<br>%{xaxis.title.text}=%{x}<br>%{yaxis.title.text}=%{y}<extra></extra>",
         "legendgroup": "mitis",
         "marker": {
          "color": "#636efa",
          "symbol": "circle"
         },
         "name": "mitis",
         "showlegend": true,
         "type": "splom"
        },
        {
         "diagonal": {
          "visible": false
         },
         "dimensions": [
          {
           "axis": {
            "matches": true
           },
           "label": "PC 1",
           "values": [
            80.68981843685415,
            73.6647455289341,
            82.7639943567435,
            74.86536197650794,
            74.67924314846958,
            92.10094233978187,
            68.58914240251407,
            73.83875453846979,
            86.9930634160888,
            75.29729349099009
           ]
          },
          {
           "axis": {
            "matches": true
           },
           "label": "PC 2",
           "values": [
            65.82586454874085,
            63.198598698951706,
            70.9725857820143,
            64.02020265450734,
            70.23325615401583,
            72.99140649187937,
            63.8538167717031,
            70.72214264957927,
            63.85809199948367,
            66.52915215918381
           ]
          },
          {
           "axis": {
            "matches": true
           },
           "label": "PC 3",
           "values": [
            31.56663984360154,
            58.39071775365686,
            57.662221638376394,
            45.733161541354384,
            39.12601404637384,
            45.28969805647125,
            48.65475823542538,
            47.958745934507874,
            43.43411198026512,
            43.19299539363079
           ]
          },
          {
           "axis": {
            "matches": true
           },
           "label": "PC 4",
           "values": [
            -4.396082855883353,
            -10.332646566088943,
            -10.24031576742426,
            -6.149088080625447,
            -1.617447139933443,
            -13.143020162546257,
            31.183077609931193,
            -3.172600167563737,
            -8.453072930804089,
            -11.039828637456257
           ]
          }
         ],
         "hovertemplate": "Species=badius<br>%{xaxis.title.text}=%{x}<br>%{yaxis.title.text}=%{y}<extra></extra>",
         "legendgroup": "badius",
         "marker": {
          "color": "#EF553B",
          "symbol": "circle"
         },
         "name": "badius",
         "showlegend": true,
         "type": "splom"
        },
        {
         "diagonal": {
          "visible": false
         },
         "dimensions": [
          {
           "axis": {
            "matches": true
           },
           "label": "PC 1",
           "values": [
            -26.008444421997055,
            -38.376316840030256,
            -44.66694619235017,
            -48.002900799690856,
            -45.86315617418358,
            -45.794245074289975,
            -52.36902198507457,
            -64.74100627859666,
            -52.99590107497763,
            -76.95573194622546,
            156.38467990552647,
            153.59054687736054,
            149.330272764518,
            144.87433417390844,
            147.27478427458036,
            146.4703206166309,
            139.55138872834073,
            133.47432735952802
           ]
          },
          {
           "axis": {
            "matches": true
           },
           "label": "PC 2",
           "values": [
            -80.9703292298119,
            -74.72609004556723,
            -67.6567695377783,
            -68.89202057227895,
            -63.99308587892928,
            -71.33732918198446,
            -58.598996896381564,
            -53.9924968484907,
            -59.0890417594128,
            -48.2598784466114,
            -34.18458636324985,
            -33.299524155391595,
            -28.406522282580987,
            -27.407346173805834,
            -23.46434779448858,
            -25.689971969779073,
            -22.483404454822026,
            -16.852049621021905
           ]
          },
          {
           "axis": {
            "matches": true
           },
           "label": "PC 3",
           "values": [
            -45.9830174920604,
            -27.07001044835349,
            -35.76264765471933,
            -36.26022665993543,
            -30.551518115259437,
            -28.383581948126267,
            -25.540075498686196,
            -23.8404210835784,
            -13.666675613243076,
            -22.083218529385988,
            -51.06391625437274,
            -54.160562672493874,
            -57.29444747620162,
            -44.37145601008749,
            -41.44590030453048,
            -43.49263951186889,
            -33.78681424254598,
            -23.95026457901341
           ]
          },
          {
           "axis": {
            "matches": true
           },
           "label": "PC 4",
           "values": [
            -2.7310883639001,
            -9.986596126261636,
            -7.590352964762434,
            -6.217060687533725,
            -7.713116725405986,
            -5.760436079866395,
            -7.725844362270117,
            -7.019361275360935,
            -6.004745511659663,
            -6.15242327138287,
            2.1725331320617265,
            -1.6602968463259793,
            4.675469642558404,
            0.26940201757019294,
            1.873644671627743,
            3.864968799947015,
            5.044589010059851,
            2.9812376858812284
           ]
          }
         ],
         "hovertemplate": "Species=cristata<br>%{xaxis.title.text}=%{x}<br>%{yaxis.title.text}=%{y}<extra></extra>",
         "legendgroup": "cristata",
         "marker": {
          "color": "#00cc96",
          "symbol": "circle"
         },
         "name": "cristata",
         "showlegend": true,
         "type": "splom"
        },
        {
         "diagonal": {
          "visible": false
         },
         "dimensions": [
          {
           "axis": {
            "matches": true
           },
           "label": "PC 1",
           "values": [
            -57.75210940930982,
            -71.97498807537316,
            -65.2134263248772,
            -65.93264884817161,
            -68.77347130167679,
            -83.9454019475261,
            -81.75001434003248,
            -91.01772317701267,
            -111.68049201207648,
            -136.22188215836175
           ]
          },
          {
           "axis": {
            "matches": true
           },
           "label": "PC 2",
           "values": [
            -42.98003165471123,
            -53.05575468983169,
            -46.20763247475001,
            -46.589083716556935,
            -35.91216445387922,
            -43.80554194183072,
            -30.934440996903426,
            -27.608966964942258,
            -26.64135673681181,
            -7.3673689800158515
           ]
          },
          {
           "axis": {
            "matches": true
           },
           "label": "PC 3",
           "values": [
            -22.651585495707565,
            -16.200629909254896,
            -20.91708679593332,
            -18.15530122554481,
            -11.539593045283487,
            -12.35819776026073,
            -13.97301598479777,
            -11.458639859164593,
            -7.527951512370836,
            1.6633806256943247
           ]
          },
          {
           "axis": {
            "matches": true
           },
           "label": "PC 4",
           "values": [
            -6.404989727657619,
            0.36261919207463184,
            -2.7455882441686583,
            -2.1668375985776187,
            -5.978211450454249,
            -2.0104592000182904,
            -5.918984777081682,
            -2.2472887186663817,
            -5.608539485706852,
            -2.6264517127784055
           ]
          }
         ],
         "hovertemplate": "Species=polykomos<br>%{xaxis.title.text}=%{x}<br>%{yaxis.title.text}=%{y}<extra></extra>",
         "legendgroup": "polykomos",
         "marker": {
          "color": "#ab63fa",
          "symbol": "circle"
         },
         "name": "polykomos",
         "showlegend": true,
         "type": "splom"
        },
        {
         "diagonal": {
          "visible": false
         },
         "dimensions": [
          {
           "axis": {
            "matches": true
           },
           "label": "PC 1",
           "values": [
            -67.80160612659024,
            -63.7278469952327,
            -74.2847711681185,
            -88.42340926439802,
            -71.66083497370903,
            -119.47478277466027,
            -82.98436503539716,
            -74.29040497584393,
            -80.30146061813076
           ]
          },
          {
           "axis": {
            "matches": true
           },
           "label": "PC 2",
           "values": [
            -40.06642561281563,
            -20.584698595734558,
            -13.631313458754281,
            -9.331745085326075,
            -18.19591594387477,
            0.608232640917587,
            -6.731916104923341,
            -19.286103782237266,
            -13.587450820604536
           ]
          },
          {
           "axis": {
            "matches": true
           },
           "label": "PC 3",
           "values": [
            4.090961550397925,
            -9.391585533233277,
            1.4264063258741153,
            5.788560807281211,
            5.65782503652237,
            14.640331748731503,
            -10.049474718245019,
            -3.924410224049878,
            -0.0734609866050271
           ]
          },
          {
           "axis": {
            "matches": true
           },
           "label": "PC 4",
           "values": [
            3.1802324198465683,
            4.984664171981941,
            4.094620185622577,
            53.8606411638994,
            3.050588945136219,
            44.533324921744175,
            0.7033573822050593,
            -2.01365841872491,
            2.373074137022871
           ]
          }
         ],
         "hovertemplate": "Species=torquatus<br>%{xaxis.title.text}=%{x}<br>%{yaxis.title.text}=%{y}<extra></extra>",
         "legendgroup": "torquatus",
         "marker": {
          "color": "#FFA15A",
          "symbol": "circle"
         },
         "name": "torquatus",
         "showlegend": true,
         "type": "splom"
        },
        {
         "diagonal": {
          "visible": false
         },
         "dimensions": [
          {
           "axis": {
            "matches": true
           },
           "label": "PC 1",
           "values": [
            17.496755142257324,
            7.427460795319177,
            -12.649960498835265,
            0.23228370812443253,
            -11.617480917939583,
            -2.2484768331958,
            -23.07746321430931,
            -11.449168339631507,
            -6.599595926191145,
            -25.34782749771092,
            -19.12919005543346,
            145.60687123651485,
            147.010089283642,
            143.52725743588397,
            143.15445156981767,
            140.91361556414415,
            141.14583347142406,
            137.4605166449355
           ]
          },
          {
           "axis": {
            "matches": true
           },
           "label": "PC 2",
           "values": [
            -57.88516457108481,
            -49.19130960364609,
            -36.56526906176269,
            -40.26292481385149,
            -31.93184066188776,
            -41.547534514087076,
            -36.94646592555219,
            -33.286502943867525,
            -36.32671460801907,
            -33.681804511360916,
            -26.838846098767505,
            -10.101191829931835,
            -0.595702638654119,
            2.1978523748031344,
            -4.678635469667024,
            -2.466955793500462,
            6.935871474619727,
            1.6688792333466425
           ]
          },
          {
           "axis": {
            "matches": true
           },
           "label": "PC 3",
           "values": [
            61.462860919456965,
            65.38311348592937,
            78.32565481274463,
            68.40066017317605,
            74.28147175572035,
            71.59881595176981,
            78.61279108230077,
            68.70657854194279,
            69.09567220730024,
            79.0908338345546,
            78.98734011649445,
            -31.346134754558943,
            -30.351309461699532,
            -26.79422894836334,
            -27.130680309590787,
            -23.600455312481362,
            -18.37127926587609,
            -16.168467781996565
           ]
          },
          {
           "axis": {
            "matches": true
           },
           "label": "PC 4",
           "values": [
            -7.5595662510667445,
            -4.553034559820687,
            -8.482803352529817,
            -6.016511086066233,
            -8.11528380539079,
            -5.946153286413148,
            49.04108320921394,
            -5.905502065741341,
            -4.9589524990925025,
            -4.359351391529736,
            -3.9106208422019084,
            7.631182268109359,
            -0.16227024818972552,
            5.623362632510504,
            7.167368986800687,
            6.845560409356955,
            1.0945729368724346,
            5.601779098741228
           ]
          }
         ],
         "hovertemplate": "Species=lar<br>%{xaxis.title.text}=%{x}<br>%{yaxis.title.text}=%{y}<extra></extra>",
         "legendgroup": "lar",
         "marker": {
          "color": "#19d3f3",
          "symbol": "circle"
         },
         "name": "lar",
         "showlegend": true,
         "type": "splom"
        }
       ],
       "layout": {
        "dragmode": "select",
        "legend": {
         "title": {
          "text": "Species"
         },
         "tracegroupgap": 0
        },
        "template": {
         "data": {
          "bar": [
           {
            "error_x": {
             "color": "#2a3f5f"
            },
            "error_y": {
             "color": "#2a3f5f"
            },
            "marker": {
             "line": {
              "color": "#E5ECF6",
              "width": 0.5
             },
             "pattern": {
              "fillmode": "overlay",
              "size": 10,
              "solidity": 0.2
             }
            },
            "type": "bar"
           }
          ],
          "barpolar": [
           {
            "marker": {
             "line": {
              "color": "#E5ECF6",
              "width": 0.5
             },
             "pattern": {
              "fillmode": "overlay",
              "size": 10,
              "solidity": 0.2
             }
            },
            "type": "barpolar"
           }
          ],
          "carpet": [
           {
            "aaxis": {
             "endlinecolor": "#2a3f5f",
             "gridcolor": "white",
             "linecolor": "white",
             "minorgridcolor": "white",
             "startlinecolor": "#2a3f5f"
            },
            "baxis": {
             "endlinecolor": "#2a3f5f",
             "gridcolor": "white",
             "linecolor": "white",
             "minorgridcolor": "white",
             "startlinecolor": "#2a3f5f"
            },
            "type": "carpet"
           }
          ],
          "choropleth": [
           {
            "colorbar": {
             "outlinewidth": 0,
             "ticks": ""
            },
            "type": "choropleth"
           }
          ],
          "contour": [
           {
            "colorbar": {
             "outlinewidth": 0,
             "ticks": ""
            },
            "colorscale": [
             [
              0,
              "#0d0887"
             ],
             [
              0.1111111111111111,
              "#46039f"
             ],
             [
              0.2222222222222222,
              "#7201a8"
             ],
             [
              0.3333333333333333,
              "#9c179e"
             ],
             [
              0.4444444444444444,
              "#bd3786"
             ],
             [
              0.5555555555555556,
              "#d8576b"
             ],
             [
              0.6666666666666666,
              "#ed7953"
             ],
             [
              0.7777777777777778,
              "#fb9f3a"
             ],
             [
              0.8888888888888888,
              "#fdca26"
             ],
             [
              1,
              "#f0f921"
             ]
            ],
            "type": "contour"
           }
          ],
          "contourcarpet": [
           {
            "colorbar": {
             "outlinewidth": 0,
             "ticks": ""
            },
            "type": "contourcarpet"
           }
          ],
          "heatmap": [
           {
            "colorbar": {
             "outlinewidth": 0,
             "ticks": ""
            },
            "colorscale": [
             [
              0,
              "#0d0887"
             ],
             [
              0.1111111111111111,
              "#46039f"
             ],
             [
              0.2222222222222222,
              "#7201a8"
             ],
             [
              0.3333333333333333,
              "#9c179e"
             ],
             [
              0.4444444444444444,
              "#bd3786"
             ],
             [
              0.5555555555555556,
              "#d8576b"
             ],
             [
              0.6666666666666666,
              "#ed7953"
             ],
             [
              0.7777777777777778,
              "#fb9f3a"
             ],
             [
              0.8888888888888888,
              "#fdca26"
             ],
             [
              1,
              "#f0f921"
             ]
            ],
            "type": "heatmap"
           }
          ],
          "heatmapgl": [
           {
            "colorbar": {
             "outlinewidth": 0,
             "ticks": ""
            },
            "colorscale": [
             [
              0,
              "#0d0887"
             ],
             [
              0.1111111111111111,
              "#46039f"
             ],
             [
              0.2222222222222222,
              "#7201a8"
             ],
             [
              0.3333333333333333,
              "#9c179e"
             ],
             [
              0.4444444444444444,
              "#bd3786"
             ],
             [
              0.5555555555555556,
              "#d8576b"
             ],
             [
              0.6666666666666666,
              "#ed7953"
             ],
             [
              0.7777777777777778,
              "#fb9f3a"
             ],
             [
              0.8888888888888888,
              "#fdca26"
             ],
             [
              1,
              "#f0f921"
             ]
            ],
            "type": "heatmapgl"
           }
          ],
          "histogram": [
           {
            "marker": {
             "pattern": {
              "fillmode": "overlay",
              "size": 10,
              "solidity": 0.2
             }
            },
            "type": "histogram"
           }
          ],
          "histogram2d": [
           {
            "colorbar": {
             "outlinewidth": 0,
             "ticks": ""
            },
            "colorscale": [
             [
              0,
              "#0d0887"
             ],
             [
              0.1111111111111111,
              "#46039f"
             ],
             [
              0.2222222222222222,
              "#7201a8"
             ],
             [
              0.3333333333333333,
              "#9c179e"
             ],
             [
              0.4444444444444444,
              "#bd3786"
             ],
             [
              0.5555555555555556,
              "#d8576b"
             ],
             [
              0.6666666666666666,
              "#ed7953"
             ],
             [
              0.7777777777777778,
              "#fb9f3a"
             ],
             [
              0.8888888888888888,
              "#fdca26"
             ],
             [
              1,
              "#f0f921"
             ]
            ],
            "type": "histogram2d"
           }
          ],
          "histogram2dcontour": [
           {
            "colorbar": {
             "outlinewidth": 0,
             "ticks": ""
            },
            "colorscale": [
             [
              0,
              "#0d0887"
             ],
             [
              0.1111111111111111,
              "#46039f"
             ],
             [
              0.2222222222222222,
              "#7201a8"
             ],
             [
              0.3333333333333333,
              "#9c179e"
             ],
             [
              0.4444444444444444,
              "#bd3786"
             ],
             [
              0.5555555555555556,
              "#d8576b"
             ],
             [
              0.6666666666666666,
              "#ed7953"
             ],
             [
              0.7777777777777778,
              "#fb9f3a"
             ],
             [
              0.8888888888888888,
              "#fdca26"
             ],
             [
              1,
              "#f0f921"
             ]
            ],
            "type": "histogram2dcontour"
           }
          ],
          "mesh3d": [
           {
            "colorbar": {
             "outlinewidth": 0,
             "ticks": ""
            },
            "type": "mesh3d"
           }
          ],
          "parcoords": [
           {
            "line": {
             "colorbar": {
              "outlinewidth": 0,
              "ticks": ""
             }
            },
            "type": "parcoords"
           }
          ],
          "pie": [
           {
            "automargin": true,
            "type": "pie"
           }
          ],
          "scatter": [
           {
            "marker": {
             "colorbar": {
              "outlinewidth": 0,
              "ticks": ""
             }
            },
            "type": "scatter"
           }
          ],
          "scatter3d": [
           {
            "line": {
             "colorbar": {
              "outlinewidth": 0,
              "ticks": ""
             }
            },
            "marker": {
             "colorbar": {
              "outlinewidth": 0,
              "ticks": ""
             }
            },
            "type": "scatter3d"
           }
          ],
          "scattercarpet": [
           {
            "marker": {
             "colorbar": {
              "outlinewidth": 0,
              "ticks": ""
             }
            },
            "type": "scattercarpet"
           }
          ],
          "scattergeo": [
           {
            "marker": {
             "colorbar": {
              "outlinewidth": 0,
              "ticks": ""
             }
            },
            "type": "scattergeo"
           }
          ],
          "scattergl": [
           {
            "marker": {
             "colorbar": {
              "outlinewidth": 0,
              "ticks": ""
             }
            },
            "type": "scattergl"
           }
          ],
          "scattermapbox": [
           {
            "marker": {
             "colorbar": {
              "outlinewidth": 0,
              "ticks": ""
             }
            },
            "type": "scattermapbox"
           }
          ],
          "scatterpolar": [
           {
            "marker": {
             "colorbar": {
              "outlinewidth": 0,
              "ticks": ""
             }
            },
            "type": "scatterpolar"
           }
          ],
          "scatterpolargl": [
           {
            "marker": {
             "colorbar": {
              "outlinewidth": 0,
              "ticks": ""
             }
            },
            "type": "scatterpolargl"
           }
          ],
          "scatterternary": [
           {
            "marker": {
             "colorbar": {
              "outlinewidth": 0,
              "ticks": ""
             }
            },
            "type": "scatterternary"
           }
          ],
          "surface": [
           {
            "colorbar": {
             "outlinewidth": 0,
             "ticks": ""
            },
            "colorscale": [
             [
              0,
              "#0d0887"
             ],
             [
              0.1111111111111111,
              "#46039f"
             ],
             [
              0.2222222222222222,
              "#7201a8"
             ],
             [
              0.3333333333333333,
              "#9c179e"
             ],
             [
              0.4444444444444444,
              "#bd3786"
             ],
             [
              0.5555555555555556,
              "#d8576b"
             ],
             [
              0.6666666666666666,
              "#ed7953"
             ],
             [
              0.7777777777777778,
              "#fb9f3a"
             ],
             [
              0.8888888888888888,
              "#fdca26"
             ],
             [
              1,
              "#f0f921"
             ]
            ],
            "type": "surface"
           }
          ],
          "table": [
           {
            "cells": {
             "fill": {
              "color": "#EBF0F8"
             },
             "line": {
              "color": "white"
             }
            },
            "header": {
             "fill": {
              "color": "#C8D4E3"
             },
             "line": {
              "color": "white"
             }
            },
            "type": "table"
           }
          ]
         },
         "layout": {
          "annotationdefaults": {
           "arrowcolor": "#2a3f5f",
           "arrowhead": 0,
           "arrowwidth": 1
          },
          "autotypenumbers": "strict",
          "coloraxis": {
           "colorbar": {
            "outlinewidth": 0,
            "ticks": ""
           }
          },
          "colorscale": {
           "diverging": [
            [
             0,
             "#8e0152"
            ],
            [
             0.1,
             "#c51b7d"
            ],
            [
             0.2,
             "#de77ae"
            ],
            [
             0.3,
             "#f1b6da"
            ],
            [
             0.4,
             "#fde0ef"
            ],
            [
             0.5,
             "#f7f7f7"
            ],
            [
             0.6,
             "#e6f5d0"
            ],
            [
             0.7,
             "#b8e186"
            ],
            [
             0.8,
             "#7fbc41"
            ],
            [
             0.9,
             "#4d9221"
            ],
            [
             1,
             "#276419"
            ]
           ],
           "sequential": [
            [
             0,
             "#0d0887"
            ],
            [
             0.1111111111111111,
             "#46039f"
            ],
            [
             0.2222222222222222,
             "#7201a8"
            ],
            [
             0.3333333333333333,
             "#9c179e"
            ],
            [
             0.4444444444444444,
             "#bd3786"
            ],
            [
             0.5555555555555556,
             "#d8576b"
            ],
            [
             0.6666666666666666,
             "#ed7953"
            ],
            [
             0.7777777777777778,
             "#fb9f3a"
            ],
            [
             0.8888888888888888,
             "#fdca26"
            ],
            [
             1,
             "#f0f921"
            ]
           ],
           "sequentialminus": [
            [
             0,
             "#0d0887"
            ],
            [
             0.1111111111111111,
             "#46039f"
            ],
            [
             0.2222222222222222,
             "#7201a8"
            ],
            [
             0.3333333333333333,
             "#9c179e"
            ],
            [
             0.4444444444444444,
             "#bd3786"
            ],
            [
             0.5555555555555556,
             "#d8576b"
            ],
            [
             0.6666666666666666,
             "#ed7953"
            ],
            [
             0.7777777777777778,
             "#fb9f3a"
            ],
            [
             0.8888888888888888,
             "#fdca26"
            ],
            [
             1,
             "#f0f921"
            ]
           ]
          },
          "colorway": [
           "#636efa",
           "#EF553B",
           "#00cc96",
           "#ab63fa",
           "#FFA15A",
           "#19d3f3",
           "#FF6692",
           "#B6E880",
           "#FF97FF",
           "#FECB52"
          ],
          "font": {
           "color": "#2a3f5f"
          },
          "geo": {
           "bgcolor": "white",
           "lakecolor": "white",
           "landcolor": "#E5ECF6",
           "showlakes": true,
           "showland": true,
           "subunitcolor": "white"
          },
          "hoverlabel": {
           "align": "left"
          },
          "hovermode": "closest",
          "mapbox": {
           "style": "light"
          },
          "paper_bgcolor": "white",
          "plot_bgcolor": "#E5ECF6",
          "polar": {
           "angularaxis": {
            "gridcolor": "white",
            "linecolor": "white",
            "ticks": ""
           },
           "bgcolor": "#E5ECF6",
           "radialaxis": {
            "gridcolor": "white",
            "linecolor": "white",
            "ticks": ""
           }
          },
          "scene": {
           "xaxis": {
            "backgroundcolor": "#E5ECF6",
            "gridcolor": "white",
            "gridwidth": 2,
            "linecolor": "white",
            "showbackground": true,
            "ticks": "",
            "zerolinecolor": "white"
           },
           "yaxis": {
            "backgroundcolor": "#E5ECF6",
            "gridcolor": "white",
            "gridwidth": 2,
            "linecolor": "white",
            "showbackground": true,
            "ticks": "",
            "zerolinecolor": "white"
           },
           "zaxis": {
            "backgroundcolor": "#E5ECF6",
            "gridcolor": "white",
            "gridwidth": 2,
            "linecolor": "white",
            "showbackground": true,
            "ticks": "",
            "zerolinecolor": "white"
           }
          },
          "shapedefaults": {
           "line": {
            "color": "#2a3f5f"
           }
          },
          "ternary": {
           "aaxis": {
            "gridcolor": "white",
            "linecolor": "white",
            "ticks": ""
           },
           "baxis": {
            "gridcolor": "white",
            "linecolor": "white",
            "ticks": ""
           },
           "bgcolor": "#E5ECF6",
           "caxis": {
            "gridcolor": "white",
            "linecolor": "white",
            "ticks": ""
           }
          },
          "title": {
           "x": 0.05
          },
          "xaxis": {
           "automargin": true,
           "gridcolor": "white",
           "linecolor": "white",
           "ticks": "",
           "title": {
            "standoff": 15
           },
           "zerolinecolor": "white",
           "zerolinewidth": 2
          },
          "yaxis": {
           "automargin": true,
           "gridcolor": "white",
           "linecolor": "white",
           "ticks": "",
           "title": {
            "standoff": 15
           },
           "zerolinecolor": "white",
           "zerolinewidth": 2
          }
         }
        },
        "title": {
         "text": "Total Explained Variance: 98.80%"
        }
       }
      }
     },
     "metadata": {},
     "output_type": "display_data"
    }
   ],
   "source": [
    "n_components = 4\n",
    "\n",
    "pca = PCA(n_components=n_components)\n",
    "components = pca.fit_transform(X)\n",
    "\n",
    "total_var = pca.explained_variance_ratio_.sum() * 100\n",
    "\n",
    "labels = {str(i): f\"PC {i+1}\" for i in range(n_components)}\n",
    "labels['color'] = 'Species'\n",
    "\n",
    "fig = px.scatter_matrix(\n",
    "    components,\n",
    "    color=df.Species,\n",
    "    dimensions=range(n_components),\n",
    "    labels=labels,\n",
    "    title=f'Total Explained Variance: {total_var:.2f}%',\n",
    ")\n",
    "fig.update_traces(diagonal_visible=False)\n",
    "fig.show()"
   ]
  }
 ],
 "metadata": {
  "interpreter": {
   "hash": "3edaea292c0121a4edf57fb9b1fd8f07f262e12aa8a67f7e3de01891f262632f"
  },
  "kernelspec": {
   "display_name": "Python 3.9.12 ('base')",
   "language": "python",
   "name": "python3"
  },
  "language_info": {
   "codemirror_mode": {
    "name": "ipython",
    "version": 3
   },
   "file_extension": ".py",
   "mimetype": "text/x-python",
   "name": "python",
   "nbconvert_exporter": "python",
   "pygments_lexer": "ipython3",
   "version": "3.9.12"
  },
  "orig_nbformat": 4
 },
 "nbformat": 4,
 "nbformat_minor": 2
}
