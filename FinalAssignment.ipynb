{
 "cells": [
  {
   "cell_type": "markdown",
   "metadata": {},
   "source": [
    "## Unsupervised final assignment\n",
    "\n",
    "* Data: primates-morphology.csv\n",
    "* Author: Peter Riesebos\n",
    "\n",
    "### Table of contents:\n",
    "- Data inspection and cleanup\n",
    "- PCA\n",
    "- Model Creation\n",
    "    - Kmeans\n",
    "    - DBScan\n",
    "- Conclusion"
   ]
  },
  {
   "cell_type": "markdown",
   "metadata": {},
   "source": [
    "Importing libraries, modules and the data"
   ]
  },
  {
   "cell_type": "code",
   "execution_count": 190,
   "metadata": {},
   "outputs": [],
   "source": [
    "import pandas as pd\n",
    "import numpy as np\n",
    "import matplotlib.pyplot as plt\n",
    "import seaborn as sn\n",
    "import plotly.express as px\n",
    "from sklearn.decomposition import PCA\n",
    "from sklearn.cluster import KMeans\n",
    "from sklearn.cluster import DBSCAN\n",
    "from sklearn import metrics"
   ]
  },
  {
   "cell_type": "code",
   "execution_count": 191,
   "metadata": {},
   "outputs": [
    {
     "data": {
      "text/html": [
       "<div>\n",
       "<style scoped>\n",
       "    .dataframe tbody tr th:only-of-type {\n",
       "        vertical-align: middle;\n",
       "    }\n",
       "\n",
       "    .dataframe tbody tr th {\n",
       "        vertical-align: top;\n",
       "    }\n",
       "\n",
       "    .dataframe thead th {\n",
       "        text-align: right;\n",
       "    }\n",
       "</style>\n",
       "<table border=\"1\" class=\"dataframe\">\n",
       "  <thead>\n",
       "    <tr style=\"text-align: right;\">\n",
       "      <th></th>\n",
       "      <th>Unnamed: 0</th>\n",
       "      <th>0</th>\n",
       "      <th>1</th>\n",
       "      <th>2</th>\n",
       "      <th>3</th>\n",
       "      <th>4</th>\n",
       "      <th>5</th>\n",
       "      <th>6</th>\n",
       "      <th>7</th>\n",
       "      <th>8</th>\n",
       "      <th>...</th>\n",
       "      <th>25</th>\n",
       "      <th>26</th>\n",
       "      <th>27</th>\n",
       "      <th>28</th>\n",
       "      <th>29</th>\n",
       "      <th>Abbreviation</th>\n",
       "      <th>Genus</th>\n",
       "      <th>Species</th>\n",
       "      <th>Sex</th>\n",
       "      <th>Age</th>\n",
       "    </tr>\n",
       "  </thead>\n",
       "  <tbody>\n",
       "    <tr>\n",
       "      <th>0</th>\n",
       "      <td>37773</td>\n",
       "      <td>133.426742</td>\n",
       "      <td>-101.627603</td>\n",
       "      <td>21.125902</td>\n",
       "      <td>-11.518251</td>\n",
       "      <td>4.621089</td>\n",
       "      <td>-1.519551</td>\n",
       "      <td>0.583410</td>\n",
       "      <td>-7.182875</td>\n",
       "      <td>1.410030</td>\n",
       "      <td>...</td>\n",
       "      <td>-0.301822</td>\n",
       "      <td>-0.433051</td>\n",
       "      <td>0.037651</td>\n",
       "      <td>-0.279618</td>\n",
       "      <td>-0.421040</td>\n",
       "      <td>Ph</td>\n",
       "      <td>Presbytis</td>\n",
       "      <td>hosei</td>\n",
       "      <td>U</td>\n",
       "      <td>A</td>\n",
       "    </tr>\n",
       "    <tr>\n",
       "      <th>1</th>\n",
       "      <td>37772</td>\n",
       "      <td>145.344740</td>\n",
       "      <td>-108.229812</td>\n",
       "      <td>21.121390</td>\n",
       "      <td>-14.982879</td>\n",
       "      <td>2.299335</td>\n",
       "      <td>-2.354040</td>\n",
       "      <td>0.431199</td>\n",
       "      <td>-5.266930</td>\n",
       "      <td>-1.424469</td>\n",
       "      <td>...</td>\n",
       "      <td>0.215340</td>\n",
       "      <td>-0.299550</td>\n",
       "      <td>0.709472</td>\n",
       "      <td>0.876382</td>\n",
       "      <td>-0.150133</td>\n",
       "      <td>Ph</td>\n",
       "      <td>Presbytis</td>\n",
       "      <td>hosei</td>\n",
       "      <td>F</td>\n",
       "      <td>A</td>\n",
       "    </tr>\n",
       "    <tr>\n",
       "      <th>2</th>\n",
       "      <td>22276</td>\n",
       "      <td>137.773342</td>\n",
       "      <td>-107.162743</td>\n",
       "      <td>18.232497</td>\n",
       "      <td>-17.116294</td>\n",
       "      <td>3.016809</td>\n",
       "      <td>-5.295234</td>\n",
       "      <td>1.716895</td>\n",
       "      <td>-1.668914</td>\n",
       "      <td>-1.917478</td>\n",
       "      <td>...</td>\n",
       "      <td>-0.481468</td>\n",
       "      <td>-0.243025</td>\n",
       "      <td>-0.537644</td>\n",
       "      <td>-0.140292</td>\n",
       "      <td>0.082158</td>\n",
       "      <td>Pr</td>\n",
       "      <td>Presbytis</td>\n",
       "      <td>rubicunda</td>\n",
       "      <td>U</td>\n",
       "      <td>A</td>\n",
       "    </tr>\n",
       "    <tr>\n",
       "      <th>3</th>\n",
       "      <td>37776</td>\n",
       "      <td>141.523739</td>\n",
       "      <td>-107.436626</td>\n",
       "      <td>17.448083</td>\n",
       "      <td>-16.861469</td>\n",
       "      <td>3.382894</td>\n",
       "      <td>-1.071286</td>\n",
       "      <td>1.768891</td>\n",
       "      <td>-2.735232</td>\n",
       "      <td>-1.136700</td>\n",
       "      <td>...</td>\n",
       "      <td>0.586941</td>\n",
       "      <td>-0.043639</td>\n",
       "      <td>-0.518699</td>\n",
       "      <td>-1.051100</td>\n",
       "      <td>0.542354</td>\n",
       "      <td>Pr</td>\n",
       "      <td>Presbytis</td>\n",
       "      <td>rubicunda</td>\n",
       "      <td>M</td>\n",
       "      <td>A</td>\n",
       "    </tr>\n",
       "    <tr>\n",
       "      <th>4</th>\n",
       "      <td>37777</td>\n",
       "      <td>142.357906</td>\n",
       "      <td>-97.195294</td>\n",
       "      <td>10.511391</td>\n",
       "      <td>-6.520641</td>\n",
       "      <td>3.555506</td>\n",
       "      <td>1.652390</td>\n",
       "      <td>-0.655919</td>\n",
       "      <td>-5.373075</td>\n",
       "      <td>-1.466841</td>\n",
       "      <td>...</td>\n",
       "      <td>0.653851</td>\n",
       "      <td>0.718319</td>\n",
       "      <td>0.798722</td>\n",
       "      <td>-0.396749</td>\n",
       "      <td>0.844772</td>\n",
       "      <td>Pr</td>\n",
       "      <td>Presbytis</td>\n",
       "      <td>rubicunda</td>\n",
       "      <td>F</td>\n",
       "      <td>A</td>\n",
       "    </tr>\n",
       "  </tbody>\n",
       "</table>\n",
       "<p>5 rows × 36 columns</p>\n",
       "</div>"
      ],
      "text/plain": [
       "   Unnamed: 0           0           1          2          3         4  \\\n",
       "0       37773  133.426742 -101.627603  21.125902 -11.518251  4.621089   \n",
       "1       37772  145.344740 -108.229812  21.121390 -14.982879  2.299335   \n",
       "2       22276  137.773342 -107.162743  18.232497 -17.116294  3.016809   \n",
       "3       37776  141.523739 -107.436626  17.448083 -16.861469  3.382894   \n",
       "4       37777  142.357906  -97.195294  10.511391  -6.520641  3.555506   \n",
       "\n",
       "          5         6         7         8  ...        25        26        27  \\\n",
       "0 -1.519551  0.583410 -7.182875  1.410030  ... -0.301822 -0.433051  0.037651   \n",
       "1 -2.354040  0.431199 -5.266930 -1.424469  ...  0.215340 -0.299550  0.709472   \n",
       "2 -5.295234  1.716895 -1.668914 -1.917478  ... -0.481468 -0.243025 -0.537644   \n",
       "3 -1.071286  1.768891 -2.735232 -1.136700  ...  0.586941 -0.043639 -0.518699   \n",
       "4  1.652390 -0.655919 -5.373075 -1.466841  ...  0.653851  0.718319  0.798722   \n",
       "\n",
       "         28        29  Abbreviation      Genus    Species  Sex  Age  \n",
       "0 -0.279618 -0.421040            Ph  Presbytis      hosei    U    A  \n",
       "1  0.876382 -0.150133            Ph  Presbytis      hosei    F    A  \n",
       "2 -0.140292  0.082158            Pr  Presbytis  rubicunda    U    A  \n",
       "3 -1.051100  0.542354            Pr  Presbytis  rubicunda    M    A  \n",
       "4 -0.396749  0.844772            Pr  Presbytis  rubicunda    F    A  \n",
       "\n",
       "[5 rows x 36 columns]"
      ]
     },
     "execution_count": 191,
     "metadata": {},
     "output_type": "execute_result"
    }
   ],
   "source": [
    "data = pd.read_csv(\"./Data/primates-morphology.csv\")\n",
    "df = data.copy()\n",
    "df.head()"
   ]
  },
  {
   "cell_type": "markdown",
   "metadata": {},
   "source": [
    "### Data inspection and cleanup\n",
    "\n",
    "Inspecting the data for missing values, distribution, linearity,  skewness, and it's correlations"
   ]
  },
  {
   "cell_type": "code",
   "execution_count": 192,
   "metadata": {},
   "outputs": [
    {
     "name": "stdout",
     "output_type": "stream",
     "text": [
      "<class 'pandas.core.frame.DataFrame'>\n",
      "RangeIndex: 165 entries, 0 to 164\n",
      "Data columns (total 36 columns):\n",
      " #   Column        Non-Null Count  Dtype  \n",
      "---  ------        --------------  -----  \n",
      " 0   Unnamed: 0    165 non-null    int64  \n",
      " 1   0             165 non-null    float64\n",
      " 2   1             165 non-null    float64\n",
      " 3   2             165 non-null    float64\n",
      " 4   3             165 non-null    float64\n",
      " 5   4             165 non-null    float64\n",
      " 6   5             165 non-null    float64\n",
      " 7   6             165 non-null    float64\n",
      " 8   7             165 non-null    float64\n",
      " 9   8             165 non-null    float64\n",
      " 10  9             165 non-null    float64\n",
      " 11  10            165 non-null    float64\n",
      " 12  11            165 non-null    float64\n",
      " 13  12            165 non-null    float64\n",
      " 14  13            165 non-null    float64\n",
      " 15  14            165 non-null    float64\n",
      " 16  15            165 non-null    float64\n",
      " 17  16            165 non-null    float64\n",
      " 18  17            165 non-null    float64\n",
      " 19  18            165 non-null    float64\n",
      " 20  19            165 non-null    float64\n",
      " 21  20            165 non-null    float64\n",
      " 22  21            165 non-null    float64\n",
      " 23  22            165 non-null    float64\n",
      " 24  23            165 non-null    float64\n",
      " 25  24            165 non-null    float64\n",
      " 26  25            165 non-null    float64\n",
      " 27  26            165 non-null    float64\n",
      " 28  27            165 non-null    float64\n",
      " 29  28            165 non-null    float64\n",
      " 30  29            165 non-null    float64\n",
      " 31  Abbreviation  165 non-null    object \n",
      " 32  Genus         165 non-null    object \n",
      " 33  Species       165 non-null    object \n",
      " 34  Sex           165 non-null    object \n",
      " 35  Age           165 non-null    object \n",
      "dtypes: float64(30), int64(1), object(5)\n",
      "memory usage: 46.5+ KB\n",
      "Empty value count: 0\n"
     ]
    }
   ],
   "source": [
    "df.info() # general dataframe info\n",
    "na_count = df.isna().sum().sum() # there doesn't seem to be any missing data\n",
    "df.drop('Unnamed: 0', axis=1, inplace=True) # dropping the unneeded, presumably index column\n",
    "\n",
    "print(f'Empty value count: {na_count}')"
   ]
  },
  {
   "cell_type": "markdown",
   "metadata": {},
   "source": [
    "Here we inspect the data for it's data types and missing values as well as dropping the unneeded 'Unnamed 0' column"
   ]
  },
  {
   "cell_type": "code",
   "execution_count": 193,
   "metadata": {},
   "outputs": [],
   "source": [
    "features = list(df.columns[:30]) # selecting the value columns\n",
    "\n",
    "df_values = df[features]\n",
    "df_labels = df['Species']"
   ]
  },
  {
   "cell_type": "markdown",
   "metadata": {},
   "source": [
    "Here we create two subsets of the data for which we are going to do unsupervised machine learning on. We seperate the data in the values and labels."
   ]
  },
  {
   "cell_type": "code",
   "execution_count": 194,
   "metadata": {},
   "outputs": [
    {
     "data": {
      "text/html": [
       "<div>\n",
       "<style scoped>\n",
       "    .dataframe tbody tr th:only-of-type {\n",
       "        vertical-align: middle;\n",
       "    }\n",
       "\n",
       "    .dataframe tbody tr th {\n",
       "        vertical-align: top;\n",
       "    }\n",
       "\n",
       "    .dataframe thead th {\n",
       "        text-align: right;\n",
       "    }\n",
       "</style>\n",
       "<table border=\"1\" class=\"dataframe\">\n",
       "  <thead>\n",
       "    <tr style=\"text-align: right;\">\n",
       "      <th></th>\n",
       "      <th>0</th>\n",
       "      <th>1</th>\n",
       "      <th>2</th>\n",
       "      <th>3</th>\n",
       "      <th>4</th>\n",
       "      <th>5</th>\n",
       "      <th>6</th>\n",
       "      <th>7</th>\n",
       "      <th>8</th>\n",
       "      <th>9</th>\n",
       "      <th>...</th>\n",
       "      <th>20</th>\n",
       "      <th>21</th>\n",
       "      <th>22</th>\n",
       "      <th>23</th>\n",
       "      <th>24</th>\n",
       "      <th>25</th>\n",
       "      <th>26</th>\n",
       "      <th>27</th>\n",
       "      <th>28</th>\n",
       "      <th>29</th>\n",
       "    </tr>\n",
       "  </thead>\n",
       "  <tbody>\n",
       "    <tr>\n",
       "      <th>count</th>\n",
       "      <td>165.000000</td>\n",
       "      <td>165.000000</td>\n",
       "      <td>165.000000</td>\n",
       "      <td>165.000000</td>\n",
       "      <td>165.000000</td>\n",
       "      <td>165.000000</td>\n",
       "      <td>165.000000</td>\n",
       "      <td>165.000000</td>\n",
       "      <td>165.000000</td>\n",
       "      <td>165.000000</td>\n",
       "      <td>...</td>\n",
       "      <td>165.000000</td>\n",
       "      <td>165.000000</td>\n",
       "      <td>165.000000</td>\n",
       "      <td>165.000000</td>\n",
       "      <td>165.000000</td>\n",
       "      <td>165.000000</td>\n",
       "      <td>165.000000</td>\n",
       "      <td>165.000000</td>\n",
       "      <td>165.000000</td>\n",
       "      <td>165.000000</td>\n",
       "    </tr>\n",
       "    <tr>\n",
       "      <th>mean</th>\n",
       "      <td>5.537129</td>\n",
       "      <td>1.196007</td>\n",
       "      <td>-0.125596</td>\n",
       "      <td>0.774423</td>\n",
       "      <td>-0.161111</td>\n",
       "      <td>-0.182550</td>\n",
       "      <td>-0.077955</td>\n",
       "      <td>0.180683</td>\n",
       "      <td>0.132617</td>\n",
       "      <td>-0.030271</td>\n",
       "      <td>...</td>\n",
       "      <td>0.057334</td>\n",
       "      <td>-0.014223</td>\n",
       "      <td>0.013269</td>\n",
       "      <td>-0.002892</td>\n",
       "      <td>0.005006</td>\n",
       "      <td>0.003208</td>\n",
       "      <td>-0.001137</td>\n",
       "      <td>-0.002748</td>\n",
       "      <td>-0.012738</td>\n",
       "      <td>-0.013131</td>\n",
       "    </tr>\n",
       "    <tr>\n",
       "      <th>std</th>\n",
       "      <td>99.061556</td>\n",
       "      <td>69.971050</td>\n",
       "      <td>56.627559</td>\n",
       "      <td>18.591984</td>\n",
       "      <td>11.336600</td>\n",
       "      <td>8.710069</td>\n",
       "      <td>5.463093</td>\n",
       "      <td>5.214248</td>\n",
       "      <td>4.520787</td>\n",
       "      <td>3.389125</td>\n",
       "      <td>...</td>\n",
       "      <td>1.254471</td>\n",
       "      <td>1.161247</td>\n",
       "      <td>0.971599</td>\n",
       "      <td>0.932425</td>\n",
       "      <td>0.865874</td>\n",
       "      <td>0.750532</td>\n",
       "      <td>0.720479</td>\n",
       "      <td>0.484438</td>\n",
       "      <td>0.461879</td>\n",
       "      <td>0.374258</td>\n",
       "    </tr>\n",
       "    <tr>\n",
       "      <th>min</th>\n",
       "      <td>-201.591249</td>\n",
       "      <td>-111.659165</td>\n",
       "      <td>-114.986835</td>\n",
       "      <td>-54.636918</td>\n",
       "      <td>-19.375303</td>\n",
       "      <td>-24.431319</td>\n",
       "      <td>-54.611282</td>\n",
       "      <td>-20.855026</td>\n",
       "      <td>-18.487708</td>\n",
       "      <td>-13.764311</td>\n",
       "      <td>...</td>\n",
       "      <td>-3.793245</td>\n",
       "      <td>-2.894577</td>\n",
       "      <td>-3.849517</td>\n",
       "      <td>-1.838070</td>\n",
       "      <td>-2.274559</td>\n",
       "      <td>-2.037714</td>\n",
       "      <td>-2.934118</td>\n",
       "      <td>-1.245955</td>\n",
       "      <td>-2.115305</td>\n",
       "      <td>-1.128128</td>\n",
       "    </tr>\n",
       "    <tr>\n",
       "      <th>25%</th>\n",
       "      <td>-58.767559</td>\n",
       "      <td>-44.542377</td>\n",
       "      <td>-45.981261</td>\n",
       "      <td>-12.328664</td>\n",
       "      <td>-7.348686</td>\n",
       "      <td>-5.823589</td>\n",
       "      <td>-1.389680</td>\n",
       "      <td>-2.572926</td>\n",
       "      <td>-2.279476</td>\n",
       "      <td>-1.834020</td>\n",
       "      <td>...</td>\n",
       "      <td>-0.697783</td>\n",
       "      <td>-0.739499</td>\n",
       "      <td>-0.482541</td>\n",
       "      <td>-0.585089</td>\n",
       "      <td>-0.587203</td>\n",
       "      <td>-0.413921</td>\n",
       "      <td>-0.411248</td>\n",
       "      <td>-0.300449</td>\n",
       "      <td>-0.320591</td>\n",
       "      <td>-0.248282</td>\n",
       "    </tr>\n",
       "    <tr>\n",
       "      <th>50%</th>\n",
       "      <td>-4.994670</td>\n",
       "      <td>18.343281</td>\n",
       "      <td>-2.090244</td>\n",
       "      <td>4.082730</td>\n",
       "      <td>-2.158090</td>\n",
       "      <td>-1.071286</td>\n",
       "      <td>-0.124301</td>\n",
       "      <td>-0.379776</td>\n",
       "      <td>-0.057433</td>\n",
       "      <td>-0.158941</td>\n",
       "      <td>...</td>\n",
       "      <td>0.086293</td>\n",
       "      <td>-0.103932</td>\n",
       "      <td>0.123128</td>\n",
       "      <td>-0.072030</td>\n",
       "      <td>-0.018886</td>\n",
       "      <td>-0.023107</td>\n",
       "      <td>-0.022457</td>\n",
       "      <td>0.001251</td>\n",
       "      <td>-0.018000</td>\n",
       "      <td>-0.010527</td>\n",
       "    </tr>\n",
       "    <tr>\n",
       "      <th>75%</th>\n",
       "      <td>89.480991</td>\n",
       "      <td>42.633134</td>\n",
       "      <td>32.805157</td>\n",
       "      <td>16.969797</td>\n",
       "      <td>3.716401</td>\n",
       "      <td>5.078963</td>\n",
       "      <td>1.575336</td>\n",
       "      <td>3.017432</td>\n",
       "      <td>3.199454</td>\n",
       "      <td>1.722897</td>\n",
       "      <td>...</td>\n",
       "      <td>0.784991</td>\n",
       "      <td>0.633467</td>\n",
       "      <td>0.526249</td>\n",
       "      <td>0.512882</td>\n",
       "      <td>0.621830</td>\n",
       "      <td>0.474782</td>\n",
       "      <td>0.418680</td>\n",
       "      <td>0.274560</td>\n",
       "      <td>0.277566</td>\n",
       "      <td>0.268744</td>\n",
       "    </tr>\n",
       "    <tr>\n",
       "      <th>max</th>\n",
       "      <td>192.170450</td>\n",
       "      <td>433.444316</td>\n",
       "      <td>142.161119</td>\n",
       "      <td>33.486208</td>\n",
       "      <td>68.005131</td>\n",
       "      <td>21.570367</td>\n",
       "      <td>18.598186</td>\n",
       "      <td>20.232449</td>\n",
       "      <td>18.859660</td>\n",
       "      <td>11.154277</td>\n",
       "      <td>...</td>\n",
       "      <td>3.300278</td>\n",
       "      <td>3.376167</td>\n",
       "      <td>3.423704</td>\n",
       "      <td>4.006407</td>\n",
       "      <td>3.131717</td>\n",
       "      <td>2.052453</td>\n",
       "      <td>2.727110</td>\n",
       "      <td>1.319978</td>\n",
       "      <td>1.653007</td>\n",
       "      <td>0.844772</td>\n",
       "    </tr>\n",
       "  </tbody>\n",
       "</table>\n",
       "<p>8 rows × 30 columns</p>\n",
       "</div>"
      ],
      "text/plain": [
       "                0           1           2           3           4           5  \\\n",
       "count  165.000000  165.000000  165.000000  165.000000  165.000000  165.000000   \n",
       "mean     5.537129    1.196007   -0.125596    0.774423   -0.161111   -0.182550   \n",
       "std     99.061556   69.971050   56.627559   18.591984   11.336600    8.710069   \n",
       "min   -201.591249 -111.659165 -114.986835  -54.636918  -19.375303  -24.431319   \n",
       "25%    -58.767559  -44.542377  -45.981261  -12.328664   -7.348686   -5.823589   \n",
       "50%     -4.994670   18.343281   -2.090244    4.082730   -2.158090   -1.071286   \n",
       "75%     89.480991   42.633134   32.805157   16.969797    3.716401    5.078963   \n",
       "max    192.170450  433.444316  142.161119   33.486208   68.005131   21.570367   \n",
       "\n",
       "                6           7           8           9  ...          20  \\\n",
       "count  165.000000  165.000000  165.000000  165.000000  ...  165.000000   \n",
       "mean    -0.077955    0.180683    0.132617   -0.030271  ...    0.057334   \n",
       "std      5.463093    5.214248    4.520787    3.389125  ...    1.254471   \n",
       "min    -54.611282  -20.855026  -18.487708  -13.764311  ...   -3.793245   \n",
       "25%     -1.389680   -2.572926   -2.279476   -1.834020  ...   -0.697783   \n",
       "50%     -0.124301   -0.379776   -0.057433   -0.158941  ...    0.086293   \n",
       "75%      1.575336    3.017432    3.199454    1.722897  ...    0.784991   \n",
       "max     18.598186   20.232449   18.859660   11.154277  ...    3.300278   \n",
       "\n",
       "               21          22          23          24          25          26  \\\n",
       "count  165.000000  165.000000  165.000000  165.000000  165.000000  165.000000   \n",
       "mean    -0.014223    0.013269   -0.002892    0.005006    0.003208   -0.001137   \n",
       "std      1.161247    0.971599    0.932425    0.865874    0.750532    0.720479   \n",
       "min     -2.894577   -3.849517   -1.838070   -2.274559   -2.037714   -2.934118   \n",
       "25%     -0.739499   -0.482541   -0.585089   -0.587203   -0.413921   -0.411248   \n",
       "50%     -0.103932    0.123128   -0.072030   -0.018886   -0.023107   -0.022457   \n",
       "75%      0.633467    0.526249    0.512882    0.621830    0.474782    0.418680   \n",
       "max      3.376167    3.423704    4.006407    3.131717    2.052453    2.727110   \n",
       "\n",
       "               27          28          29  \n",
       "count  165.000000  165.000000  165.000000  \n",
       "mean    -0.002748   -0.012738   -0.013131  \n",
       "std      0.484438    0.461879    0.374258  \n",
       "min     -1.245955   -2.115305   -1.128128  \n",
       "25%     -0.300449   -0.320591   -0.248282  \n",
       "50%      0.001251   -0.018000   -0.010527  \n",
       "75%      0.274560    0.277566    0.268744  \n",
       "max      1.319978    1.653007    0.844772  \n",
       "\n",
       "[8 rows x 30 columns]"
      ]
     },
     "execution_count": 194,
     "metadata": {},
     "output_type": "execute_result"
    },
    {
     "data": {
      "image/png": "[encoded data removed]",
      "text/plain": [
       "<Figure size 720x576 with 1 Axes>"
      ]
     },
     "metadata": {
      "needs_background": "light"
     },
     "output_type": "display_data"
    },
    {
     "data": {
      "image/png": "[encoded data removed]",
      "text/plain": [
       "<Figure size 432x288 with 30 Axes>"
      ]
     },
     "metadata": {
      "needs_background": "light"
     },
     "output_type": "display_data"
    }
   ],
   "source": [
    "plt.figure(figsize=(10,8))\n",
    "df_values.boxplot()\n",
    "df_values.hist(bins='auto')\n",
    "df.describe()"
   ]
  },
  {
   "cell_type": "markdown",
   "metadata": {},
   "source": [
    "After doing some futher data inspection we find that the first six columns seem to differ the most in their regards to their value ranges. most columns however seem to be distrubuted normally. Also, some outliers can be observed. Particularly for the second column (column 1)."
   ]
  },
  {
   "cell_type": "code",
   "execution_count": 195,
   "metadata": {},
   "outputs": [
    {
     "name": "stdout",
     "output_type": "stream",
     "text": [
      "4     2.358456\n",
      "1     1.272854\n",
      "14    1.267799\n",
      "23    0.782396\n",
      "2     0.408304\n",
      "7     0.348291\n",
      "5     0.262781\n",
      "26    0.211428\n",
      "24    0.192550\n",
      "21    0.144393\n",
      "dtype: float64\n"
     ]
    },
    {
     "data": {
      "image/png": "[encoded data removed]",
      "text/plain": [
       "<Figure size 432x288 with 1 Axes>"
      ]
     },
     "metadata": {
      "needs_background": "light"
     },
     "output_type": "display_data"
    }
   ],
   "source": [
    "skewness = df_values.skew()\n",
    "skewness_sorted = skewness.sort_values(ascending=False)\n",
    "skewness.plot(kind = 'bar')\n",
    "print(skewness_sorted[:10])"
   ]
  },
  {
   "cell_type": "markdown",
   "metadata": {},
   "source": [
    "The data seems to be especially skewed for column 4 and 6. However, I won't be doing any normalization because the data has already been preprocessed according to Tsjerk."
   ]
  },
  {
   "cell_type": "code",
   "execution_count": 196,
   "metadata": {},
   "outputs": [
    {
     "data": {
      "text/plain": [
       "<AxesSubplot:>"
      ]
     },
     "execution_count": 196,
     "metadata": {},
     "output_type": "execute_result"
    },
    {
     "data": {
      "image/png": "[encoded data removed]",
      "text/plain": [
       "<Figure size 432x288 with 2 Axes>"
      ]
     },
     "metadata": {
      "needs_background": "light"
     },
     "output_type": "display_data"
    }
   ],
   "source": [
    "correlation = df_values.corr()\n",
    "sn.heatmap(correlation, annot=False, cmap=\"coolwarm\")"
   ]
  },
  {
   "cell_type": "markdown",
   "metadata": {},
   "source": [
    "There do not appear to be any notheworthy correlations in the data. Drawing any futher conclusions from the data doesn't seem to be useful since the data is in coordinates space."
   ]
  },
  {
   "cell_type": "code",
   "execution_count": 197,
   "metadata": {},
   "outputs": [
    {
     "data": {
      "text/html": [
       "<div>\n",
       "<style scoped>\n",
       "    .dataframe tbody tr th:only-of-type {\n",
       "        vertical-align: middle;\n",
       "    }\n",
       "\n",
       "    .dataframe tbody tr th {\n",
       "        vertical-align: top;\n",
       "    }\n",
       "\n",
       "    .dataframe thead th {\n",
       "        text-align: right;\n",
       "    }\n",
       "</style>\n",
       "<table border=\"1\" class=\"dataframe\">\n",
       "  <thead>\n",
       "    <tr style=\"text-align: right;\">\n",
       "      <th></th>\n",
       "      <th>index</th>\n",
       "      <th>Species</th>\n",
       "    </tr>\n",
       "  </thead>\n",
       "  <tbody>\n",
       "    <tr>\n",
       "      <th>0</th>\n",
       "      <td>cristata</td>\n",
       "      <td>18</td>\n",
       "    </tr>\n",
       "    <tr>\n",
       "      <th>1</th>\n",
       "      <td>lar</td>\n",
       "      <td>18</td>\n",
       "    </tr>\n",
       "    <tr>\n",
       "      <th>2</th>\n",
       "      <td>polykomos</td>\n",
       "      <td>10</td>\n",
       "    </tr>\n",
       "    <tr>\n",
       "      <th>3</th>\n",
       "      <td>mitis</td>\n",
       "      <td>10</td>\n",
       "    </tr>\n",
       "    <tr>\n",
       "      <th>4</th>\n",
       "      <td>badius</td>\n",
       "      <td>10</td>\n",
       "    </tr>\n",
       "    <tr>\n",
       "      <th>5</th>\n",
       "      <td>troglodytes</td>\n",
       "      <td>9</td>\n",
       "    </tr>\n",
       "    <tr>\n",
       "      <th>6</th>\n",
       "      <td>larvatus</td>\n",
       "      <td>9</td>\n",
       "    </tr>\n",
       "    <tr>\n",
       "      <th>7</th>\n",
       "      <td>anubis</td>\n",
       "      <td>9</td>\n",
       "    </tr>\n",
       "    <tr>\n",
       "      <th>8</th>\n",
       "      <td>torquatus</td>\n",
       "      <td>9</td>\n",
       "    </tr>\n",
       "    <tr>\n",
       "      <th>9</th>\n",
       "      <td>fascicularis</td>\n",
       "      <td>8</td>\n",
       "    </tr>\n",
       "    <tr>\n",
       "      <th>10</th>\n",
       "      <td>rubicunda</td>\n",
       "      <td>8</td>\n",
       "    </tr>\n",
       "    <tr>\n",
       "      <th>11</th>\n",
       "      <td>gorilla</td>\n",
       "      <td>6</td>\n",
       "    </tr>\n",
       "    <tr>\n",
       "      <th>12</th>\n",
       "      <td>albigena</td>\n",
       "      <td>6</td>\n",
       "    </tr>\n",
       "    <tr>\n",
       "      <th>13</th>\n",
       "      <td>talapoin</td>\n",
       "      <td>5</td>\n",
       "    </tr>\n",
       "    <tr>\n",
       "      <th>14</th>\n",
       "      <td>hosei</td>\n",
       "      <td>5</td>\n",
       "    </tr>\n",
       "    <tr>\n",
       "      <th>15</th>\n",
       "      <td>leucophaeus</td>\n",
       "      <td>4</td>\n",
       "    </tr>\n",
       "    <tr>\n",
       "      <th>16</th>\n",
       "      <td>patas</td>\n",
       "      <td>4</td>\n",
       "    </tr>\n",
       "    <tr>\n",
       "      <th>17</th>\n",
       "      <td>mulatta</td>\n",
       "      <td>3</td>\n",
       "    </tr>\n",
       "    <tr>\n",
       "      <th>18</th>\n",
       "      <td>paniscus</td>\n",
       "      <td>3</td>\n",
       "    </tr>\n",
       "    <tr>\n",
       "      <th>19</th>\n",
       "      <td>fuscata</td>\n",
       "      <td>2</td>\n",
       "    </tr>\n",
       "    <tr>\n",
       "      <th>20</th>\n",
       "      <td>sphinx</td>\n",
       "      <td>2</td>\n",
       "    </tr>\n",
       "    <tr>\n",
       "      <th>21</th>\n",
       "      <td>sylvanus</td>\n",
       "      <td>2</td>\n",
       "    </tr>\n",
       "    <tr>\n",
       "      <th>22</th>\n",
       "      <td>syndactylus</td>\n",
       "      <td>2</td>\n",
       "    </tr>\n",
       "    <tr>\n",
       "      <th>23</th>\n",
       "      <td>pygmaeus</td>\n",
       "      <td>2</td>\n",
       "    </tr>\n",
       "    <tr>\n",
       "      <th>24</th>\n",
       "      <td>gelada</td>\n",
       "      <td>1</td>\n",
       "    </tr>\n",
       "  </tbody>\n",
       "</table>\n",
       "</div>"
      ],
      "text/plain": [
       "           index  Species\n",
       "0       cristata       18\n",
       "1            lar       18\n",
       "2      polykomos       10\n",
       "3          mitis       10\n",
       "4         badius       10\n",
       "5    troglodytes        9\n",
       "6       larvatus        9\n",
       "7         anubis        9\n",
       "8      torquatus        9\n",
       "9   fascicularis        8\n",
       "10     rubicunda        8\n",
       "11       gorilla        6\n",
       "12      albigena        6\n",
       "13      talapoin        5\n",
       "14         hosei        5\n",
       "15   leucophaeus        4\n",
       "16         patas        4\n",
       "17       mulatta        3\n",
       "18      paniscus        3\n",
       "19       fuscata        2\n",
       "20        sphinx        2\n",
       "21      sylvanus        2\n",
       "22   syndactylus        2\n",
       "23      pygmaeus        2\n",
       "24        gelada        1"
      ]
     },
     "execution_count": 197,
     "metadata": {},
     "output_type": "execute_result"
    }
   ],
   "source": [
    "value_count = pd.DataFrame(df['Species'].value_counts().reset_index())\n",
    "value_count"
   ]
  },
  {
   "cell_type": "markdown",
   "metadata": {},
   "source": [
    "Lastly we inspect how many values each species has in the dataset. Which shows us that a lot of species have a little amount of values. This is not preferable. Hence we set the cut off point for the value count a species must have to 7 which is a little bit above the middle."
   ]
  },
  {
   "cell_type": "code",
   "execution_count": 198,
   "metadata": {},
   "outputs": [
    {
     "data": {
      "text/plain": [
       "['cristata',\n",
       " 'lar',\n",
       " 'polykomos',\n",
       " 'mitis',\n",
       " 'badius',\n",
       " 'troglodytes',\n",
       " 'larvatus',\n",
       " 'anubis',\n",
       " 'torquatus',\n",
       " 'fascicularis',\n",
       " 'rubicunda']"
      ]
     },
     "execution_count": 198,
     "metadata": {},
     "output_type": "execute_result"
    }
   ],
   "source": [
    "selection = value_count[value_count['Species'] >= 7]['index'].tolist()\n",
    "selection"
   ]
  },
  {
   "cell_type": "markdown",
   "metadata": {},
   "source": [
    "This leaves us with 11 species of interest"
   ]
  },
  {
   "cell_type": "markdown",
   "metadata": {},
   "source": [
    "### PCA\n",
    "\n",
    "With the use of PCA I will visualize the distribution of the species in 2d and 3d space"
   ]
  },
  {
   "cell_type": "code",
   "execution_count": 199,
   "metadata": {},
   "outputs": [],
   "source": [
    "# only get the data where the species are the ones we filtered earlier\n",
    "updated_df = df[df['Species'].isin(selection)]\n",
    "\n",
    "# split the data in values and labels again\n",
    "X = updated_df[df_values.columns]\n",
    "y = updated_df['Species']"
   ]
  },
  {
   "cell_type": "code",
   "execution_count": 200,
   "metadata": {},
   "outputs": [
    {
     "data": {
      "application/vnd.plotly.v1+json": {
       "config": {
        "plotlyServerURL": "https://plot.ly"
       },
       "data": [
        {
         "hovertemplate": "color=rubicunda<br>0=%{x}<br>1=%{y}<extra></extra>",
         "legendgroup": "rubicunda",
         "marker": {
          "color": "#636efa",
          "symbol": "circle"
         },
         "mode": "markers",
         "name": "rubicunda",
         "orientation": "v",
         "showlegend": true,
         "type": "scatter",
         "x": [
          -121.41964261578617,
          -125.0229297539317,
          -126.19178821074698,
          82.44781073450098,
          73.96002455916724,
          68.18616125468502,
          67.974039317463,
          67.34617433145263
         ],
         "xaxis": "x",
         "y": [
          108.02828122085343,
          108.22814825448104,
          95.83036777861606,
          61.663622035560174,
          57.877744520088726,
          64.55014912929556,
          61.41972244133303,
          67.32416163811841
         ],
         "yaxis": "y"
        },
        {
         "hovertemplate": "color=mitis<br>0=%{x}<br>1=%{y}<extra></extra>",
         "legendgroup": "mitis",
         "marker": {
          "color": "#EF553B",
          "symbol": "circle"
         },
         "mode": "markers",
         "name": "mitis",
         "orientation": "v",
         "showlegend": true,
         "type": "scatter",
         "x": [
          -111.11474084542661,
          -106.68566891422822,
          -113.64221230988882,
          -120.24921799066641,
          -123.5926147766812,
          -130.34150515544127,
          -124.6325643587252,
          -134.29045579857774,
          -125.58011903635838,
          -136.65020636215064
         ],
         "xaxis": "x",
         "y": [
          98.8224416818835,
          93.35499407002324,
          103.63247883168184,
          100.23187473413766,
          99.63109647996052,
          100.98668581960384,
          105.16991709845091,
          97.66905578507279,
          104.58717579739253,
          92.11579523979071
         ],
         "yaxis": "y"
        },
        {
         "hovertemplate": "color=badius<br>0=%{x}<br>1=%{y}<extra></extra>",
         "legendgroup": "badius",
         "marker": {
          "color": "#00cc96",
          "symbol": "circle"
         },
         "mode": "markers",
         "name": "badius",
         "orientation": "v",
         "showlegend": true,
         "type": "scatter",
         "x": [
          56.259431112558566,
          56.27380184673665,
          64.4317777247996,
          53.72176307362695,
          51.28262524174973,
          69.99060453555458,
          48.444164407062026,
          53.01163297428257,
          65.22586510178125,
          52.748418688395034
         ],
         "xaxis": "x",
         "y": [
          73.20795997439339,
          57.822521621940886,
          66.73772649834574,
          64.5196990947984,
          72.47842893942246,
          75.94989402838239,
          61.678006941301575,
          68.66845745125597,
          68.12121966510955,
          67.9777131314258
         ],
         "yaxis": "y"
        },
        {
         "hovertemplate": "color=fascicularis<br>0=%{x}<br>1=%{y}<extra></extra>",
         "legendgroup": "fascicularis",
         "marker": {
          "color": "#ab63fa",
          "symbol": "circle"
         },
         "mode": "markers",
         "name": "fascicularis",
         "orientation": "v",
         "showlegend": true,
         "type": "scatter",
         "x": [
          19.303632025313462,
          8.36857879331967,
          24.039787474620535,
          11.377497558470246,
          5.344199762918236,
          14.637593755164005,
          5.166072065511731,
          12.761552373850098
         ],
         "xaxis": "x",
         "y": [
          -76.7477332392432,
          -75.5547738732253,
          -73.3080497556893,
          -71.29445471434462,
          -79.20032739295716,
          -62.29719826088437,
          -78.98318848061241,
          -70.25340776674616
         ],
         "yaxis": "y"
        },
        {
         "hovertemplate": "color=cristata<br>0=%{x}<br>1=%{y}<extra></extra>",
         "legendgroup": "cristata",
         "marker": {
          "color": "#FFA15A",
          "symbol": "circle"
         },
         "mode": "markers",
         "name": "cristata",
         "orientation": "v",
         "showlegend": true,
         "type": "scatter",
         "x": [
          -46.53284527863607,
          -53.90332738273072,
          -63.17461897211709,
          -66.3801368623535,
          -63.488458601512136,
          -62.10416012608525,
          -69.36986877222701,
          -81.21778951262866,
          -66.89863850562426,
          -93.08529806969213,
          118.33699249088683,
          114.65542848644583,
          107.96660527041607,
          108.19958162974449,
          110.6775822730805,
          109.51956858396214,
          105.014343533667,
          100.7963112551206
         ],
         "xaxis": "x",
         "y": [
          -45.52342676244273,
          -51.852169468203144,
          -43.55338471264823,
          -45.21305670142814,
          -42.95865238482743,
          -49.99476849398475,
          -42.05398212316632,
          -42.113921741402265,
          -47.7014792053657,
          -41.12570509690031,
          44.083609992961264,
          45.5573545532763,
          50.684953162649926,
          44.038596368535295,
          46.79464489533059,
          45.692122584670294,
          42.461272775005625,
          41.57901617444676
         ],
         "yaxis": "y"
        },
        {
         "hovertemplate": "color=polykomos<br>0=%{x}<br>1=%{y}<extra></extra>",
         "legendgroup": "polykomos",
         "marker": {
          "color": "#19d3f3",
          "symbol": "circle"
         },
         "mode": "markers",
         "name": "polykomos",
         "orientation": "v",
         "showlegend": true,
         "type": "scatter",
         "x": [
          -74.82311446435821,
          -85.82336247326633,
          -81.50419648978567,
          -81.11541753053544,
          -83.04919068285736,
          -97.521625312993,
          -97.30555946485309,
          -105.97886874103122,
          -124.9106515813052,
          -148.6803440678499
         ],
         "xaxis": "x",
         "y": [
          -31.922970237739484,
          -46.66733516236486,
          -37.09868101484122,
          -38.976844549908314,
          -33.7136917966398,
          -43.50201064870377,
          -31.431668899594072,
          -32.01546677915716,
          -38.16644371809122,
          -31.765600684986165
         ],
         "yaxis": "y"
        },
        {
         "hovertemplate": "color=torquatus<br>0=%{x}<br>1=%{y}<extra></extra>",
         "legendgroup": "torquatus",
         "marker": {
          "color": "#FF6692",
          "symbol": "circle"
         },
         "mode": "markers",
         "name": "torquatus",
         "orientation": "v",
         "showlegend": true,
         "type": "scatter",
         "x": [
          -78.09374471932223,
          -79.40939335495847,
          -88.12898121200364,
          -101.40988633674829,
          -82.95530436403496,
          -130.37726827438271,
          -99.66666825820239,
          -88.75500287270621,
          -93.3210735125112
         ],
         "xaxis": "x",
         "y": [
          -43.484313337600085,
          -20.52378374797394,
          -21.627383164156065,
          -23.08274666083125,
          -27.327175759830276,
          -26.121765452824317,
          -13.49523959900384,
          -24.292394965844682,
          -23.099691303641006
         ],
         "yaxis": "y"
        },
        {
         "hovertemplate": "color=anubis<br>0=%{x}<br>1=%{y}<extra></extra>",
         "legendgroup": "anubis",
         "marker": {
          "color": "#B6E880",
          "symbol": "circle"
         },
         "mode": "markers",
         "name": "anubis",
         "orientation": "v",
         "showlegend": true,
         "type": "scatter",
         "x": [
          76.60014219863183,
          50.99309850033451,
          22.676586060634598,
          12.342829080109667,
          29.600759519992494,
          21.49723951450624,
          19.313887946022213,
          22.051289579078215,
          2.47150971076915
         ],
         "xaxis": "x",
         "y": [
          0.67214582453959,
          14.192331048584316,
          -0.1990480492283136,
          11.755880601071974,
          11.936170033568965,
          -2.2805762236429636,
          -11.810347239359926,
          16.47644953037121,
          -13.25956776025398
         ],
         "yaxis": "y"
        },
        {
         "hovertemplate": "color=larvatus<br>0=%{x}<br>1=%{y}<extra></extra>",
         "legendgroup": "larvatus",
         "marker": {
          "color": "#FF97FF",
          "symbol": "circle"
         },
         "mode": "markers",
         "name": "larvatus",
         "orientation": "v",
         "showlegend": true,
         "type": "scatter",
         "x": [
          6.99146200589209,
          -20.69331489109635,
          -26.846882341896833,
          -43.36491399673158,
          21.93133123772149,
          25.41553889471938,
          25.52421259398408,
          15.033346561136417,
          19.85604163502221
         ],
         "xaxis": "x",
         "y": [
          -41.63317457603557,
          -37.35640157291118,
          -39.571643651827706,
          -39.90695560583389,
          -40.45210220104715,
          -36.52599648182767,
          -41.02459989341204,
          -40.984843766989556,
          -42.042636006355934
         ],
         "yaxis": "y"
        },
        {
         "hovertemplate": "color=lar<br>0=%{x}<br>1=%{y}<extra></extra>",
         "legendgroup": "lar",
         "marker": {
          "color": "#FECB52",
          "symbol": "circle"
         },
         "mode": "markers",
         "name": "lar",
         "orientation": "v",
         "showlegend": true,
         "type": "scatter",
         "x": [
          20.418315292444117,
          10.391366254427107,
          -6.633583111799228,
          3.471934564808526,
          -7.49196327552831,
          1.5857859072414466,
          -17.205408365262294,
          -8.823913921613514,
          -3.5864757377169907,
          -19.534498774431235,
          -14.682829035390313,
          110.09857604687089,
          110.59552001181243,
          107.55888310267521,
          107.80445296301039,
          106.3147188863415,
          106.65283854872114,
          104.58132387931845
         ],
         "xaxis": "x",
         "y": [
          -61.58022662814062,
          -58.304230442918644,
          -58.52634203443731,
          -54.02681663617267,
          -52.42534896149349,
          -56.80465947734635,
          -60.91727242643357,
          -50.98804019625002,
          -52.55560598933298,
          -59.28424874367537,
          -51.655127279288,
          53.368588300245435,
          61.27283661511212,
          61.369566732217315,
          55.693038606632214,
          55.4389531778287,
          61.23356849001038,
          54.77264351761729
         ],
         "yaxis": "y"
        },
        {
         "hovertemplate": "color=troglodytes<br>0=%{x}<br>1=%{y}<extra></extra>",
         "legendgroup": "troglodytes",
         "marker": {
          "color": "#636efa",
          "symbol": "circle"
         },
         "mode": "markers",
         "name": "troglodytes",
         "orientation": "v",
         "showlegend": true,
         "type": "scatter",
         "x": [
          153.8527159140691,
          132.79534903509474,
          128.69039954853233,
          108.11018030951294,
          141.52571618337106,
          126.54428111359859,
          104.90069106492062,
          133.98654446390898,
          157.61375501184736
         ],
         "xaxis": "x",
         "y": [
          -50.394737340423525,
          -50.90377546582217,
          -56.919497976476094,
          -50.87476144675193,
          -57.57701725234885,
          -57.885667690710335,
          -46.94820172322103,
          -48.448006126796194,
          -65.24671836282755
         ],
         "yaxis": "y"
        }
       ],
       "layout": {
        "annotations": [
         {
          "ax": 0,
          "ay": 0,
          "text": "0",
          "x": -84.38092179676863,
          "xanchor": "center",
          "y": 4.237283602425908,
          "yanchor": "bottom"
         },
         {
          "ax": 0,
          "ay": 0,
          "text": "1",
          "x": -5.308857447867863,
          "xanchor": "center",
          "y": -53.32110851481178,
          "yanchor": "bottom"
         },
         {
          "ax": 0,
          "ay": 0,
          "text": "2",
          "x": 3.7281241235351645,
          "xanchor": "center",
          "y": 22.93821334541991,
          "yanchor": "bottom"
         },
         {
          "ax": 0,
          "ay": 0,
          "text": "3",
          "x": 4.912302815502673,
          "xanchor": "center",
          "y": -2.1771762926108584,
          "yanchor": "bottom"
         },
         {
          "ax": 0,
          "ay": 0,
          "text": "4",
          "x": -0.4672990395302123,
          "xanchor": "center",
          "y": 1.8631246082943953,
          "yanchor": "bottom"
         },
         {
          "ax": 0,
          "ay": 0,
          "text": "5",
          "x": 0.6932334420633326,
          "xanchor": "center",
          "y": -0.33945373375827936,
          "yanchor": "bottom"
         },
         {
          "ax": 0,
          "ay": 0,
          "text": "6",
          "x": 0.06249941254086349,
          "xanchor": "center",
          "y": -0.03853759294843444,
          "yanchor": "bottom"
         },
         {
          "ax": 0,
          "ay": 0,
          "text": "7",
          "x": -0.5075112610524188,
          "xanchor": "center",
          "y": -1.0435188005307405,
          "yanchor": "bottom"
         },
         {
          "ax": 0,
          "ay": 0,
          "text": "8",
          "x": 0.4179336952761675,
          "xanchor": "center",
          "y": 1.113661099690337,
          "yanchor": "bottom"
         },
         {
          "ax": 0,
          "ay": 0,
          "text": "9",
          "x": -0.43451420762971615,
          "xanchor": "center",
          "y": 0.3424124226181464,
          "yanchor": "bottom"
         },
         {
          "ax": 0,
          "ay": 0,
          "text": "10",
          "x": -0.5021568795345112,
          "xanchor": "center",
          "y": 0.1647040208735551,
          "yanchor": "bottom"
         },
         {
          "ax": 0,
          "ay": 0,
          "text": "11",
          "x": -0.8698708248934441,
          "xanchor": "center",
          "y": 0.1529725047372431,
          "yanchor": "bottom"
         },
         {
          "ax": 0,
          "ay": 0,
          "text": "12",
          "x": -0.242660708246867,
          "xanchor": "center",
          "y": -0.2788337369657923,
          "yanchor": "bottom"
         },
         {
          "ax": 0,
          "ay": 0,
          "text": "13",
          "x": -0.462281698626869,
          "xanchor": "center",
          "y": -0.016896357086985357,
          "yanchor": "bottom"
         },
         {
          "ax": 0,
          "ay": 0,
          "text": "14",
          "x": 0.03220676569917077,
          "xanchor": "center",
          "y": 0.053996255929263465,
          "yanchor": "bottom"
         },
         {
          "ax": 0,
          "ay": 0,
          "text": "15",
          "x": 0.08163319689660863,
          "xanchor": "center",
          "y": 0.06860040677698553,
          "yanchor": "bottom"
         },
         {
          "ax": 0,
          "ay": 0,
          "text": "16",
          "x": -0.04800143547220728,
          "xanchor": "center",
          "y": 0.1678607992095997,
          "yanchor": "bottom"
         },
         {
          "ax": 0,
          "ay": 0,
          "text": "17",
          "x": -0.06620576205269017,
          "xanchor": "center",
          "y": -0.3535489261455681,
          "yanchor": "bottom"
         },
         {
          "ax": 0,
          "ay": 0,
          "text": "18",
          "x": -0.05115231532644285,
          "xanchor": "center",
          "y": 0.11148230373401463,
          "yanchor": "bottom"
         },
         {
          "ax": 0,
          "ay": 0,
          "text": "19",
          "x": 0.21776471887024448,
          "xanchor": "center",
          "y": 0.05818774549434714,
          "yanchor": "bottom"
         },
         {
          "ax": 0,
          "ay": 0,
          "text": "20",
          "x": 0.03922372981573487,
          "xanchor": "center",
          "y": 0.04389720018420211,
          "yanchor": "bottom"
         },
         {
          "ax": 0,
          "ay": 0,
          "text": "21",
          "x": 0.16201381470160725,
          "xanchor": "center",
          "y": 0.006403965871182343,
          "yanchor": "bottom"
         },
         {
          "ax": 0,
          "ay": 0,
          "text": "22",
          "x": 0.17047554963388925,
          "xanchor": "center",
          "y": 0.10123356820194955,
          "yanchor": "bottom"
         },
         {
          "ax": 0,
          "ay": 0,
          "text": "23",
          "x": 0.047548195222598295,
          "xanchor": "center",
          "y": 0.03308713771799199,
          "yanchor": "bottom"
         },
         {
          "ax": 0,
          "ay": 0,
          "text": "24",
          "x": -0.02956689635270701,
          "xanchor": "center",
          "y": 0.07703994738365372,
          "yanchor": "bottom"
         },
         {
          "ax": 0,
          "ay": 0,
          "text": "25",
          "x": -0.016079874839736878,
          "xanchor": "center",
          "y": -0.015102056242124184,
          "yanchor": "bottom"
         },
         {
          "ax": 0,
          "ay": 0,
          "text": "26",
          "x": 0.07592996685669322,
          "xanchor": "center",
          "y": 0.03823565977699733,
          "yanchor": "bottom"
         },
         {
          "ax": 0,
          "ay": 0,
          "text": "27",
          "x": 0.032918306952371613,
          "xanchor": "center",
          "y": 0.025728519506378337,
          "yanchor": "bottom"
         },
         {
          "ax": 0,
          "ay": 0,
          "text": "28",
          "x": 0.039255885717732336,
          "xanchor": "center",
          "y": 0.0013936827243942458,
          "yanchor": "bottom"
         },
         {
          "ax": 0,
          "ay": 0,
          "text": "29",
          "x": -0.015688676754364337,
          "xanchor": "center",
          "y": 0.02723315220372624,
          "yanchor": "bottom"
         }
        ],
        "legend": {
         "title": {
          "text": "color"
         },
         "tracegroupgap": 0
        },
        "margin": {
         "t": 60
        },
        "shapes": [
         {
          "type": "line",
          "x0": 0,
          "x1": -84.38092179676863,
          "y0": 0,
          "y1": 4.237283602425908
         },
         {
          "type": "line",
          "x0": 0,
          "x1": -5.308857447867863,
          "y0": 0,
          "y1": -53.32110851481178
         },
         {
          "type": "line",
          "x0": 0,
          "x1": 3.7281241235351645,
          "y0": 0,
          "y1": 22.93821334541991
         },
         {
          "type": "line",
          "x0": 0,
          "x1": 4.912302815502673,
          "y0": 0,
          "y1": -2.1771762926108584
         },
         {
          "type": "line",
          "x0": 0,
          "x1": -0.4672990395302123,
          "y0": 0,
          "y1": 1.8631246082943953
         },
         {
          "type": "line",
          "x0": 0,
          "x1": 0.6932334420633326,
          "y0": 0,
          "y1": -0.33945373375827936
         },
         {
          "type": "line",
          "x0": 0,
          "x1": 0.06249941254086349,
          "y0": 0,
          "y1": -0.03853759294843444
         },
         {
          "type": "line",
          "x0": 0,
          "x1": -0.5075112610524188,
          "y0": 0,
          "y1": -1.0435188005307405
         },
         {
          "type": "line",
          "x0": 0,
          "x1": 0.4179336952761675,
          "y0": 0,
          "y1": 1.113661099690337
         },
         {
          "type": "line",
          "x0": 0,
          "x1": -0.43451420762971615,
          "y0": 0,
          "y1": 0.3424124226181464
         },
         {
          "type": "line",
          "x0": 0,
          "x1": -0.5021568795345112,
          "y0": 0,
          "y1": 0.1647040208735551
         },
         {
          "type": "line",
          "x0": 0,
          "x1": -0.8698708248934441,
          "y0": 0,
          "y1": 0.1529725047372431
         },
         {
          "type": "line",
          "x0": 0,
          "x1": -0.242660708246867,
          "y0": 0,
          "y1": -0.2788337369657923
         },
         {
          "type": "line",
          "x0": 0,
          "x1": -0.462281698626869,
          "y0": 0,
          "y1": -0.016896357086985357
         },
         {
          "type": "line",
          "x0": 0,
          "x1": 0.03220676569917077,
          "y0": 0,
          "y1": 0.053996255929263465
         },
         {
          "type": "line",
          "x0": 0,
          "x1": 0.08163319689660863,
          "y0": 0,
          "y1": 0.06860040677698553
         },
         {
          "type": "line",
          "x0": 0,
          "x1": -0.04800143547220728,
          "y0": 0,
          "y1": 0.1678607992095997
         },
         {
          "type": "line",
          "x0": 0,
          "x1": -0.06620576205269017,
          "y0": 0,
          "y1": -0.3535489261455681
         },
         {
          "type": "line",
          "x0": 0,
          "x1": -0.05115231532644285,
          "y0": 0,
          "y1": 0.11148230373401463
         },
         {
          "type": "line",
          "x0": 0,
          "x1": 0.21776471887024448,
          "y0": 0,
          "y1": 0.05818774549434714
         },
         {
          "type": "line",
          "x0": 0,
          "x1": 0.03922372981573487,
          "y0": 0,
          "y1": 0.04389720018420211
         },
         {
          "type": "line",
          "x0": 0,
          "x1": 0.16201381470160725,
          "y0": 0,
          "y1": 0.006403965871182343
         },
         {
          "type": "line",
          "x0": 0,
          "x1": 0.17047554963388925,
          "y0": 0,
          "y1": 0.10123356820194955
         },
         {
          "type": "line",
          "x0": 0,
          "x1": 0.047548195222598295,
          "y0": 0,
          "y1": 0.03308713771799199
         },
         {
          "type": "line",
          "x0": 0,
          "x1": -0.02956689635270701,
          "y0": 0,
          "y1": 0.07703994738365372
         },
         {
          "type": "line",
          "x0": 0,
          "x1": -0.016079874839736878,
          "y0": 0,
          "y1": -0.015102056242124184
         },
         {
          "type": "line",
          "x0": 0,
          "x1": 0.07592996685669322,
          "y0": 0,
          "y1": 0.03823565977699733
         },
         {
          "type": "line",
          "x0": 0,
          "x1": 0.032918306952371613,
          "y0": 0,
          "y1": 0.025728519506378337
         },
         {
          "type": "line",
          "x0": 0,
          "x1": 0.039255885717732336,
          "y0": 0,
          "y1": 0.0013936827243942458
         },
         {
          "type": "line",
          "x0": 0,
          "x1": -0.015688676754364337,
          "y0": 0,
          "y1": 0.02723315220372624
         }
        ],
        "template": {
         "data": {
          "bar": [
           {
            "error_x": {
             "color": "#2a3f5f"
            },
            "error_y": {
             "color": "#2a3f5f"
            },
            "marker": {
             "line": {
              "color": "#E5ECF6",
              "width": 0.5
             },
             "pattern": {
              "fillmode": "overlay",
              "size": 10,
              "solidity": 0.2
             }
            },
            "type": "bar"
           }
          ],
          "barpolar": [
           {
            "marker": {
             "line": {
              "color": "#E5ECF6",
              "width": 0.5
             },
             "pattern": {
              "fillmode": "overlay",
              "size": 10,
              "solidity": 0.2
             }
            },
            "type": "barpolar"
           }
          ],
          "carpet": [
           {
            "aaxis": {
             "endlinecolor": "#2a3f5f",
             "gridcolor": "white",
             "linecolor": "white",
             "minorgridcolor": "white",
             "startlinecolor": "#2a3f5f"
            },
            "baxis": {
             "endlinecolor": "#2a3f5f",
             "gridcolor": "white",
             "linecolor": "white",
             "minorgridcolor": "white",
             "startlinecolor": "#2a3f5f"
            },
            "type": "carpet"
           }
          ],
          "choropleth": [
           {
            "colorbar": {
             "outlinewidth": 0,
             "ticks": ""
            },
            "type": "choropleth"
           }
          ],
          "contour": [
           {
            "colorbar": {
             "outlinewidth": 0,
             "ticks": ""
            },
            "colorscale": [
             [
              0,
              "#0d0887"
             ],
             [
              0.1111111111111111,
              "#46039f"
             ],
             [
              0.2222222222222222,
              "#7201a8"
             ],
             [
              0.3333333333333333,
              "#9c179e"
             ],
             [
              0.4444444444444444,
              "#bd3786"
             ],
             [
              0.5555555555555556,
              "#d8576b"
             ],
             [
              0.6666666666666666,
              "#ed7953"
             ],
             [
              0.7777777777777778,
              "#fb9f3a"
             ],
             [
              0.8888888888888888,
              "#fdca26"
             ],
             [
              1,
              "#f0f921"
             ]
            ],
            "type": "contour"
           }
          ],
          "contourcarpet": [
           {
            "colorbar": {
             "outlinewidth": 0,
             "ticks": ""
            },
            "type": "contourcarpet"
           }
          ],
          "heatmap": [
           {
            "colorbar": {
             "outlinewidth": 0,
             "ticks": ""
            },
            "colorscale": [
             [
              0,
              "#0d0887"
             ],
             [
              0.1111111111111111,
              "#46039f"
             ],
             [
              0.2222222222222222,
              "#7201a8"
             ],
             [
              0.3333333333333333,
              "#9c179e"
             ],
             [
              0.4444444444444444,
              "#bd3786"
             ],
             [
              0.5555555555555556,
              "#d8576b"
             ],
             [
              0.6666666666666666,
              "#ed7953"
             ],
             [
              0.7777777777777778,
              "#fb9f3a"
             ],
             [
              0.8888888888888888,
              "#fdca26"
             ],
             [
              1,
              "#f0f921"
             ]
            ],
            "type": "heatmap"
           }
          ],
          "heatmapgl": [
           {
            "colorbar": {
             "outlinewidth": 0,
             "ticks": ""
            },
            "colorscale": [
             [
              0,
              "#0d0887"
             ],
             [
              0.1111111111111111,
              "#46039f"
             ],
             [
              0.2222222222222222,
              "#7201a8"
             ],
             [
              0.3333333333333333,
              "#9c179e"
             ],
             [
              0.4444444444444444,
              "#bd3786"
             ],
             [
              0.5555555555555556,
              "#d8576b"
             ],
             [
              0.6666666666666666,
              "#ed7953"
             ],
             [
              0.7777777777777778,
              "#fb9f3a"
             ],
             [
              0.8888888888888888,
              "#fdca26"
             ],
             [
              1,
              "#f0f921"
             ]
            ],
            "type": "heatmapgl"
           }
          ],
          "histogram": [
           {
            "marker": {
             "pattern": {
              "fillmode": "overlay",
              "size": 10,
              "solidity": 0.2
             }
            },
            "type": "histogram"
           }
          ],
          "histogram2d": [
           {
            "colorbar": {
             "outlinewidth": 0,
             "ticks": ""
            },
            "colorscale": [
             [
              0,
              "#0d0887"
             ],
             [
              0.1111111111111111,
              "#46039f"
             ],
             [
              0.2222222222222222,
              "#7201a8"
             ],
             [
              0.3333333333333333,
              "#9c179e"
             ],
             [
              0.4444444444444444,
              "#bd3786"
             ],
             [
              0.5555555555555556,
              "#d8576b"
             ],
             [
              0.6666666666666666,
              "#ed7953"
             ],
             [
              0.7777777777777778,
              "#fb9f3a"
             ],
             [
              0.8888888888888888,
              "#fdca26"
             ],
             [
              1,
              "#f0f921"
             ]
            ],
            "type": "histogram2d"
           }
          ],
          "histogram2dcontour": [
           {
            "colorbar": {
             "outlinewidth": 0,
             "ticks": ""
            },
            "colorscale": [
             [
              0,
              "#0d0887"
             ],
             [
              0.1111111111111111,
              "#46039f"
             ],
             [
              0.2222222222222222,
              "#7201a8"
             ],
             [
              0.3333333333333333,
              "#9c179e"
             ],
             [
              0.4444444444444444,
              "#bd3786"
             ],
             [
              0.5555555555555556,
              "#d8576b"
             ],
             [
              0.6666666666666666,
              "#ed7953"
             ],
             [
              0.7777777777777778,
              "#fb9f3a"
             ],
             [
              0.8888888888888888,
              "#fdca26"
             ],
             [
              1,
              "#f0f921"
             ]
            ],
            "type": "histogram2dcontour"
           }
          ],
          "mesh3d": [
           {
            "colorbar": {
             "outlinewidth": 0,
             "ticks": ""
            },
            "type": "mesh3d"
           }
          ],
          "parcoords": [
           {
            "line": {
             "colorbar": {
              "outlinewidth": 0,
              "ticks": ""
             }
            },
            "type": "parcoords"
           }
          ],
          "pie": [
           {
            "automargin": true,
            "type": "pie"
           }
          ],
          "scatter": [
           {
            "marker": {
             "colorbar": {
              "outlinewidth": 0,
              "ticks": ""
             }
            },
            "type": "scatter"
           }
          ],
          "scatter3d": [
           {
            "line": {
             "colorbar": {
              "outlinewidth": 0,
              "ticks": ""
             }
            },
            "marker": {
             "colorbar": {
              "outlinewidth": 0,
              "ticks": ""
             }
            },
            "type": "scatter3d"
           }
          ],
          "scattercarpet": [
           {
            "marker": {
             "colorbar": {
              "outlinewidth": 0,
              "ticks": ""
             }
            },
            "type": "scattercarpet"
           }
          ],
          "scattergeo": [
           {
            "marker": {
             "colorbar": {
              "outlinewidth": 0,
              "ticks": ""
             }
            },
            "type": "scattergeo"
           }
          ],
          "scattergl": [
           {
            "marker": {
             "colorbar": {
              "outlinewidth": 0,
              "ticks": ""
             }
            },
            "type": "scattergl"
           }
          ],
          "scattermapbox": [
           {
            "marker": {
             "colorbar": {
              "outlinewidth": 0,
              "ticks": ""
             }
            },
            "type": "scattermapbox"
           }
          ],
          "scatterpolar": [
           {
            "marker": {
             "colorbar": {
              "outlinewidth": 0,
              "ticks": ""
             }
            },
            "type": "scatterpolar"
           }
          ],
          "scatterpolargl": [
           {
            "marker": {
             "colorbar": {
              "outlinewidth": 0,
              "ticks": ""
             }
            },
            "type": "scatterpolargl"
           }
          ],
          "scatterternary": [
           {
            "marker": {
             "colorbar": {
              "outlinewidth": 0,
              "ticks": ""
             }
            },
            "type": "scatterternary"
           }
          ],
          "surface": [
           {
            "colorbar": {
             "outlinewidth": 0,
             "ticks": ""
            },
            "colorscale": [
             [
              0,
              "#0d0887"
             ],
             [
              0.1111111111111111,
              "#46039f"
             ],
             [
              0.2222222222222222,
              "#7201a8"
             ],
             [
              0.3333333333333333,
              "#9c179e"
             ],
             [
              0.4444444444444444,
              "#bd3786"
             ],
             [
              0.5555555555555556,
              "#d8576b"
             ],
             [
              0.6666666666666666,
              "#ed7953"
             ],
             [
              0.7777777777777778,
              "#fb9f3a"
             ],
             [
              0.8888888888888888,
              "#fdca26"
             ],
             [
              1,
              "#f0f921"
             ]
            ],
            "type": "surface"
           }
          ],
          "table": [
           {
            "cells": {
             "fill": {
              "color": "#EBF0F8"
             },
             "line": {
              "color": "white"
             }
            },
            "header": {
             "fill": {
              "color": "#C8D4E3"
             },
             "line": {
              "color": "white"
             }
            },
            "type": "table"
           }
          ]
         },
         "layout": {
          "annotationdefaults": {
           "arrowcolor": "#2a3f5f",
           "arrowhead": 0,
           "arrowwidth": 1
          },
          "autotypenumbers": "strict",
          "coloraxis": {
           "colorbar": {
            "outlinewidth": 0,
            "ticks": ""
           }
          },
          "colorscale": {
           "diverging": [
            [
             0,
             "#8e0152"
            ],
            [
             0.1,
             "#c51b7d"
            ],
            [
             0.2,
             "#de77ae"
            ],
            [
             0.3,
             "#f1b6da"
            ],
            [
             0.4,
             "#fde0ef"
            ],
            [
             0.5,
             "#f7f7f7"
            ],
            [
             0.6,
             "#e6f5d0"
            ],
            [
             0.7,
             "#b8e186"
            ],
            [
             0.8,
             "#7fbc41"
            ],
            [
             0.9,
             "#4d9221"
            ],
            [
             1,
             "#276419"
            ]
           ],
           "sequential": [
            [
             0,
             "#0d0887"
            ],
            [
             0.1111111111111111,
             "#46039f"
            ],
            [
             0.2222222222222222,
             "#7201a8"
            ],
            [
             0.3333333333333333,
             "#9c179e"
            ],
            [
             0.4444444444444444,
             "#bd3786"
            ],
            [
             0.5555555555555556,
             "#d8576b"
            ],
            [
             0.6666666666666666,
             "#ed7953"
            ],
            [
             0.7777777777777778,
             "#fb9f3a"
            ],
            [
             0.8888888888888888,
             "#fdca26"
            ],
            [
             1,
             "#f0f921"
            ]
           ],
           "sequentialminus": [
            [
             0,
             "#0d0887"
            ],
            [
             0.1111111111111111,
             "#46039f"
            ],
            [
             0.2222222222222222,
             "#7201a8"
            ],
            [
             0.3333333333333333,
             "#9c179e"
            ],
            [
             0.4444444444444444,
             "#bd3786"
            ],
            [
             0.5555555555555556,
             "#d8576b"
            ],
            [
             0.6666666666666666,
             "#ed7953"
            ],
            [
             0.7777777777777778,
             "#fb9f3a"
            ],
            [
             0.8888888888888888,
             "#fdca26"
            ],
            [
             1,
             "#f0f921"
            ]
           ]
          },
          "colorway": [
           "#636efa",
           "#EF553B",
           "#00cc96",
           "#ab63fa",
           "#FFA15A",
           "#19d3f3",
           "#FF6692",
           "#B6E880",
           "#FF97FF",
           "#FECB52"
          ],
          "font": {
           "color": "#2a3f5f"
          },
          "geo": {
           "bgcolor": "white",
           "lakecolor": "white",
           "landcolor": "#E5ECF6",
           "showlakes": true,
           "showland": true,
           "subunitcolor": "white"
          },
          "hoverlabel": {
           "align": "left"
          },
          "hovermode": "closest",
          "mapbox": {
           "style": "light"
          },
          "paper_bgcolor": "white",
          "plot_bgcolor": "#E5ECF6",
          "polar": {
           "angularaxis": {
            "gridcolor": "white",
            "linecolor": "white",
            "ticks": ""
           },
           "bgcolor": "#E5ECF6",
           "radialaxis": {
            "gridcolor": "white",
            "linecolor": "white",
            "ticks": ""
           }
          },
          "scene": {
           "xaxis": {
            "backgroundcolor": "#E5ECF6",
            "gridcolor": "white",
            "gridwidth": 2,
            "linecolor": "white",
            "showbackground": true,
            "ticks": "",
            "zerolinecolor": "white"
           },
           "yaxis": {
            "backgroundcolor": "#E5ECF6",
            "gridcolor": "white",
            "gridwidth": 2,
            "linecolor": "white",
            "showbackground": true,
            "ticks": "",
            "zerolinecolor": "white"
           },
           "zaxis": {
            "backgroundcolor": "#E5ECF6",
            "gridcolor": "white",
            "gridwidth": 2,
            "linecolor": "white",
            "showbackground": true,
            "ticks": "",
            "zerolinecolor": "white"
           }
          },
          "shapedefaults": {
           "line": {
            "color": "#2a3f5f"
           }
          },
          "ternary": {
           "aaxis": {
            "gridcolor": "white",
            "linecolor": "white",
            "ticks": ""
           },
           "baxis": {
            "gridcolor": "white",
            "linecolor": "white",
            "ticks": ""
           },
           "bgcolor": "#E5ECF6",
           "caxis": {
            "gridcolor": "white",
            "linecolor": "white",
            "ticks": ""
           }
          },
          "title": {
           "x": 0.05
          },
          "xaxis": {
           "automargin": true,
           "gridcolor": "white",
           "linecolor": "white",
           "ticks": "",
           "title": {
            "standoff": 15
           },
           "zerolinecolor": "white",
           "zerolinewidth": 2
          },
          "yaxis": {
           "automargin": true,
           "gridcolor": "white",
           "linecolor": "white",
           "ticks": "",
           "title": {
            "standoff": 15
           },
           "zerolinecolor": "white",
           "zerolinewidth": 2
          }
         }
        },
        "xaxis": {
         "anchor": "y",
         "domain": [
          0,
          1
         ],
         "title": {
          "text": "0"
         }
        },
        "yaxis": {
         "anchor": "x",
         "domain": [
          0,
          1
         ],
         "title": {
          "text": "1"
         }
        }
       }
      }
     },
     "metadata": {},
     "output_type": "display_data"
    }
   ],
   "source": [
    "pca = PCA(n_components=2)\n",
    "components = pca.fit_transform(X)\n",
    "\n",
    "loadings = pca.components_.T * np.sqrt(pca.explained_variance_)\n",
    "\n",
    "fig = px.scatter(components, x=0, y=1, color=y)\n",
    "\n",
    "for i, feature in enumerate(X.columns):\n",
    "    fig.add_shape(\n",
    "        type='line',\n",
    "        x0=0, y0=0,\n",
    "        x1=loadings[i, 0],\n",
    "        y1=loadings[i, 1]\n",
    "    )\n",
    "    fig.add_annotation(\n",
    "        x=loadings[i, 0],\n",
    "        y=loadings[i, 1],\n",
    "        ax=0, ay=0,\n",
    "        xanchor=\"center\",\n",
    "        yanchor=\"bottom\",\n",
    "        text=feature,\n",
    "    )\n",
    "fig.show()"
   ]
  },
  {
   "cell_type": "code",
   "execution_count": 201,
   "metadata": {},
   "outputs": [
    {
     "data": {
      "application/vnd.plotly.v1+json": {
       "config": {
        "plotlyServerURL": "https://plot.ly"
       },
       "data": [
        {
         "hovertemplate": "color=rubicunda<br>PC 1=%{x}<br>PC 2=%{y}<br>PC 3=%{z}<extra></extra>",
         "legendgroup": "rubicunda",
         "marker": {
          "color": "#636efa",
          "symbol": "circle"
         },
         "mode": "markers",
         "name": "rubicunda",
         "scene": "scene",
         "showlegend": true,
         "type": "scatter3d",
         "x": [
          -121.41964261578617,
          -125.0229297539317,
          -126.19178821074698,
          82.44781073450098,
          73.96002455916724,
          68.18616125468502,
          67.974039317463,
          67.34617433145263
         ],
         "y": [
          108.02828122085343,
          108.22814825448104,
          95.83036777861606,
          61.663622035560174,
          57.877744520088726,
          64.55014912929556,
          61.41972244133303,
          67.32416163811841
         ],
         "z": [
          -30.347259936673385,
          -31.252191155877856,
          -33.362016607678775,
          -31.63850361228114,
          -39.039218868250735,
          -36.48745205014647,
          -40.462544806702326,
          -39.835374686306416
         ]
        },
        {
         "hovertemplate": "color=mitis<br>PC 1=%{x}<br>PC 2=%{y}<br>PC 3=%{z}<extra></extra>",
         "legendgroup": "mitis",
         "marker": {
          "color": "#EF553B",
          "symbol": "circle"
         },
         "mode": "markers",
         "name": "mitis",
         "scene": "scene",
         "showlegend": true,
         "type": "scatter3d",
         "x": [
          -111.11474084542661,
          -106.68566891422822,
          -113.64221230988882,
          -120.24921799066641,
          -123.5926147766812,
          -130.34150515544127,
          -124.6325643587252,
          -134.29045579857774,
          -125.58011903635838,
          -136.65020636215064
         ],
         "y": [
          98.8224416818835,
          93.35499407002324,
          103.63247883168184,
          100.23187473413766,
          99.63109647996052,
          100.98668581960384,
          105.16991709845091,
          97.66905578507279,
          104.58717579739253,
          92.11579523979071
         ],
         "z": [
          -28.52120899632074,
          -26.407366156702942,
          -34.537372157523045,
          -37.49399913273484,
          -35.32432981314247,
          -43.97118640186344,
          -33.241600976394125,
          -37.13577419808105,
          -36.75146926554288,
          -47.264041779000515
         ]
        },
        {
         "hovertemplate": "color=badius<br>PC 1=%{x}<br>PC 2=%{y}<br>PC 3=%{z}<extra></extra>",
         "legendgroup": "badius",
         "marker": {
          "color": "#00cc96",
          "symbol": "circle"
         },
         "mode": "markers",
         "name": "badius",
         "scene": "scene",
         "showlegend": true,
         "type": "scatter3d",
         "x": [
          56.259431112558566,
          56.27380184673665,
          64.4317777247996,
          53.72176307362695,
          51.28262524174973,
          69.99060453555458,
          48.444164407062026,
          53.01163297428257,
          65.22586510178125,
          52.748418688395034
         ],
         "y": [
          73.20795997439339,
          57.822521621940886,
          66.73772649834574,
          64.5196990947984,
          72.47842893942246,
          75.94989402838239,
          61.678006941301575,
          68.66845745125597,
          68.12121966510955,
          67.9777131314258
         ],
         "z": [
          -39.78920979701959,
          -62.221663733405705,
          -63.98542235335826,
          -51.516945382057344,
          -48.94060282396264,
          -52.86287176080734,
          -54.67303338290495,
          -57.01179992584475,
          -47.521093086829026,
          -50.20585213464373
         ]
        },
        {
         "hovertemplate": "color=fascicularis<br>PC 1=%{x}<br>PC 2=%{y}<br>PC 3=%{z}<extra></extra>",
         "legendgroup": "fascicularis",
         "marker": {
          "color": "#ab63fa",
          "symbol": "circle"
         },
         "mode": "markers",
         "name": "fascicularis",
         "scene": "scene",
         "showlegend": true,
         "type": "scatter3d",
         "x": [
          19.303632025313462,
          8.36857879331967,
          24.039787474620535,
          11.377497558470246,
          5.344199762918236,
          14.637593755164005,
          5.166072065511731,
          12.761552373850098
         ],
         "y": [
          -76.7477332392432,
          -75.5547738732253,
          -73.3080497556893,
          -71.29445471434462,
          -79.20032739295716,
          -62.29719826088437,
          -78.98318848061241,
          -70.25340776674616
         ],
         "z": [
          -38.013660407459284,
          -42.81062813713784,
          -31.017308502899986,
          -40.06126356097422,
          -47.41123394856658,
          -37.46865943870476,
          -46.62492193952127,
          -42.84320329674556
         ]
        },
        {
         "hovertemplate": "color=cristata<br>PC 1=%{x}<br>PC 2=%{y}<br>PC 3=%{z}<extra></extra>",
         "legendgroup": "cristata",
         "marker": {
          "color": "#FFA15A",
          "symbol": "circle"
         },
         "mode": "markers",
         "name": "cristata",
         "scene": "scene",
         "showlegend": true,
         "type": "scatter3d",
         "x": [
          -46.53284527863607,
          -53.90332738273072,
          -63.17461897211709,
          -66.3801368623535,
          -63.488458601512136,
          -62.10416012608525,
          -69.36986877222701,
          -81.21778951262866,
          -66.89863850562426,
          -93.08529806969213,
          118.33699249088683,
          114.65542848644583,
          107.96660527041607,
          108.19958162974449,
          110.6775822730805,
          109.51956858396214,
          105.014343533667,
          100.7963112551206
         ],
         "y": [
          -45.52342676244273,
          -51.852169468203144,
          -43.55338471264823,
          -45.21305670142814,
          -42.95865238482743,
          -49.99476849398475,
          -42.05398212316632,
          -42.113921741402265,
          -47.7014792053657,
          -41.12570509690031,
          44.083609992961264,
          45.5573545532763,
          50.684953162649926,
          44.038596368535295,
          46.79464489533059,
          45.692122584670294,
          42.461272775005625,
          41.57901617444676
         ],
         "z": [
          80.0555181434414,
          58.8329924226805,
          61.58740813357684,
          62.02108498252671,
          55.19834135868889,
          57.023074221681966,
          47.257202968725295,
          41.37419481554326,
          37.47498397721678,
          34.872258131908744,
          93.78780048482335,
          95.34626965096247,
          95.43282803791124,
          82.8028905933407,
          78.63920171490936,
          81.5522278321098,
          70.57002917556488,
          58.425773271703946
         ]
        },
        {
         "hovertemplate": "color=polykomos<br>PC 1=%{x}<br>PC 2=%{y}<br>PC 3=%{z}<extra></extra>",
         "legendgroup": "polykomos",
         "marker": {
          "color": "#19d3f3",
          "symbol": "circle"
         },
         "mode": "markers",
         "name": "polykomos",
         "scene": "scene",
         "showlegend": true,
         "type": "scatter3d",
         "x": [
          -74.82311446435821,
          -85.82336247326633,
          -81.50419648978567,
          -81.11541753053544,
          -83.04919068285736,
          -97.521625312993,
          -97.30555946485309,
          -105.97886874103122,
          -124.9106515813052,
          -148.6803440678499
         ],
         "y": [
          -31.922970237739484,
          -46.66733516236486,
          -37.09868101484122,
          -38.976844549908314,
          -33.7136917966398,
          -43.50201064870377,
          -31.431668899594072,
          -32.01546677915716,
          -38.16644371809122,
          -31.765600684986165
         ],
         "z": [
          36.159449128944715,
          33.378896775988245,
          35.17218192876296,
          32.62191552467516,
          21.125969825331723,
          23.345159878797165,
          18.87886501398908,
          13.558738939656203,
          6.144772760301405,
          -15.506864662623432
         ]
        },
        {
         "hovertemplate": "color=torquatus<br>PC 1=%{x}<br>PC 2=%{y}<br>PC 3=%{z}<extra></extra>",
         "legendgroup": "torquatus",
         "marker": {
          "color": "#FF6692",
          "symbol": "circle"
         },
         "mode": "markers",
         "name": "torquatus",
         "scene": "scene",
         "showlegend": true,
         "type": "scatter3d",
         "x": [
          -78.09374471932223,
          -79.40939335495847,
          -88.12898121200364,
          -101.40988633674829,
          -82.95530436403496,
          -130.37726827438271,
          -99.66666825820239,
          -88.75500287270621,
          -93.3210735125112
         ],
         "y": [
          -43.484313337600085,
          -20.52378374797394,
          -21.627383164156065,
          -23.08274666083125,
          -27.327175759830276,
          -26.121765452824317,
          -13.49523959900384,
          -24.292394965844682,
          -23.099691303641006
         ],
         "z": [
          10.540389968906824,
          13.06003130546588,
          -1.2977124091745307,
          -8.895926418133977,
          -2.4219890430729456,
          -26.876282780403105,
          3.2426772371922383,
          5.960516544840521,
          -1.3278204137466212
         ]
        },
        {
         "hovertemplate": "color=anubis<br>PC 1=%{x}<br>PC 2=%{y}<br>PC 3=%{z}<extra></extra>",
         "legendgroup": "anubis",
         "marker": {
          "color": "#B6E880",
          "symbol": "circle"
         },
         "mode": "markers",
         "name": "anubis",
         "scene": "scene",
         "showlegend": true,
         "type": "scatter3d",
         "x": [
          76.60014219863183,
          50.99309850033451,
          22.676586060634598,
          12.342829080109667,
          29.600759519992494,
          21.49723951450624,
          19.313887946022213,
          22.051289579078215,
          2.47150971076915
         ],
         "y": [
          0.67214582453959,
          14.192331048584316,
          -0.1990480492283136,
          11.755880601071974,
          11.936170033568965,
          -2.2805762236429636,
          -11.810347239359926,
          16.47644953037121,
          -13.25956776025398
         ],
         "z": [
          95.72475705064915,
          93.04338266696544,
          66.44360838819232,
          40.44776886985929,
          61.81375422345719,
          65.6225373747707,
          62.01604597091133,
          45.63173154611108,
          -40.403023063219436
         ]
        },
        {
         "hovertemplate": "color=larvatus<br>PC 1=%{x}<br>PC 2=%{y}<br>PC 3=%{z}<extra></extra>",
         "legendgroup": "larvatus",
         "marker": {
          "color": "#FF97FF",
          "symbol": "circle"
         },
         "mode": "markers",
         "name": "larvatus",
         "scene": "scene",
         "showlegend": true,
         "type": "scatter3d",
         "x": [
          6.99146200589209,
          -20.69331489109635,
          -26.846882341896833,
          -43.36491399673158,
          21.93133123772149,
          25.41553889471938,
          25.52421259398408,
          15.033346561136417,
          19.85604163502221
         ],
         "y": [
          -41.63317457603557,
          -37.35640157291118,
          -39.571643651827706,
          -39.90695560583389,
          -40.45210220104715,
          -36.52599648182767,
          -41.02459989341204,
          -40.984843766989556,
          -42.042636006355934
         ],
         "z": [
          51.195696146768725,
          40.91361197160672,
          31.617878570313344,
          20.50582323223238,
          54.31602361174405,
          58.00272602017558,
          55.90188765677174,
          50.4044152533536,
          43.35279453793455
         ]
        },
        {
         "hovertemplate": "color=lar<br>PC 1=%{x}<br>PC 2=%{y}<br>PC 3=%{z}<extra></extra>",
         "legendgroup": "lar",
         "marker": {
          "color": "#FECB52",
          "symbol": "circle"
         },
         "mode": "markers",
         "name": "lar",
         "scene": "scene",
         "showlegend": true,
         "type": "scatter3d",
         "x": [
          20.418315292444117,
          10.391366254427107,
          -6.633583111799228,
          3.471934564808526,
          -7.49196327552831,
          1.5857859072414466,
          -17.205408365262294,
          -8.823913921613514,
          -3.5864757377169907,
          -19.534498774431235,
          -14.682829035390313,
          110.09857604687089,
          110.59552001181243,
          107.55888310267521,
          107.80445296301039,
          106.3147188863415,
          106.65283854872114,
          104.58132387931845
         ],
         "y": [
          -61.58022662814062,
          -58.304230442918644,
          -58.52634203443731,
          -54.02681663617267,
          -52.42534896149349,
          -56.80465947734635,
          -60.91727242643357,
          -50.98804019625002,
          -52.55560598933298,
          -59.28424874367537,
          -51.655127279288,
          53.368588300245435,
          61.27283661511212,
          61.369566732217315,
          55.693038606632214,
          55.4389531778287,
          61.23356849001038,
          54.77264351761729
         ],
         "z": [
          -14.585853859440268,
          -23.683841875028808,
          -44.90755420934823,
          -32.26128359623728,
          -43.35362688209394,
          -34.34795647559935,
          -45.93117337567706,
          -37.708112973990886,
          -35.807450487301956,
          -48.65425974158352,
          -50.80042583804431,
          63.28838824466113,
          57.96252030720727,
          53.146018520579126,
          56.69996496666079,
          52.390089851041836,
          43.37910777762436,
          43.37645120674304
         ]
        },
        {
         "hovertemplate": "color=troglodytes<br>PC 1=%{x}<br>PC 2=%{y}<br>PC 3=%{z}<extra></extra>",
         "legendgroup": "troglodytes",
         "marker": {
          "color": "#636efa",
          "symbol": "circle"
         },
         "mode": "markers",
         "name": "troglodytes",
         "scene": "scene",
         "showlegend": true,
         "type": "scatter3d",
         "x": [
          153.8527159140691,
          132.79534903509474,
          128.69039954853233,
          108.11018030951294,
          141.52571618337106,
          126.54428111359859,
          104.90069106492062,
          133.98654446390898,
          157.61375501184736
         ],
         "y": [
          -50.394737340423525,
          -50.90377546582217,
          -56.919497976476094,
          -50.87476144675193,
          -57.57701725234885,
          -57.885667690710335,
          -46.94820172322103,
          -48.448006126796194,
          -65.24671836282755
         ],
         "z": [
          -67.75503889995284,
          -91.83701222218825,
          -94.75847353161811,
          -90.47488443911152,
          -82.72759279250984,
          -67.83717186406798,
          -90.92132055577666,
          -72.82565421320697,
          -86.68003787928521
         ]
        }
       ],
       "layout": {
        "legend": {
         "title": {
          "text": "color"
         },
         "tracegroupgap": 0
        },
        "scene": {
         "domain": {
          "x": [
           0,
           1
          ],
          "y": [
           0,
           1
          ]
         },
         "xaxis": {
          "title": {
           "text": "PC 1"
          }
         },
         "yaxis": {
          "title": {
           "text": "PC 2"
          }
         },
         "zaxis": {
          "title": {
           "text": "PC 3"
          }
         }
        },
        "template": {
         "data": {
          "bar": [
           {
            "error_x": {
             "color": "#2a3f5f"
            },
            "error_y": {
             "color": "#2a3f5f"
            },
            "marker": {
             "line": {
              "color": "#E5ECF6",
              "width": 0.5
             },
             "pattern": {
              "fillmode": "overlay",
              "size": 10,
              "solidity": 0.2
             }
            },
            "type": "bar"
           }
          ],
          "barpolar": [
           {
            "marker": {
             "line": {
              "color": "#E5ECF6",
              "width": 0.5
             },
             "pattern": {
              "fillmode": "overlay",
              "size": 10,
              "solidity": 0.2
             }
            },
            "type": "barpolar"
           }
          ],
          "carpet": [
           {
            "aaxis": {
             "endlinecolor": "#2a3f5f",
             "gridcolor": "white",
             "linecolor": "white",
             "minorgridcolor": "white",
             "startlinecolor": "#2a3f5f"
            },
            "baxis": {
             "endlinecolor": "#2a3f5f",
             "gridcolor": "white",
             "linecolor": "white",
             "minorgridcolor": "white",
             "startlinecolor": "#2a3f5f"
            },
            "type": "carpet"
           }
          ],
          "choropleth": [
           {
            "colorbar": {
             "outlinewidth": 0,
             "ticks": ""
            },
            "type": "choropleth"
           }
          ],
          "contour": [
           {
            "colorbar": {
             "outlinewidth": 0,
             "ticks": ""
            },
            "colorscale": [
             [
              0,
              "#0d0887"
             ],
             [
              0.1111111111111111,
              "#46039f"
             ],
             [
              0.2222222222222222,
              "#7201a8"
             ],
             [
              0.3333333333333333,
              "#9c179e"
             ],
             [
              0.4444444444444444,
              "#bd3786"
             ],
             [
              0.5555555555555556,
              "#d8576b"
             ],
             [
              0.6666666666666666,
              "#ed7953"
             ],
             [
              0.7777777777777778,
              "#fb9f3a"
             ],
             [
              0.8888888888888888,
              "#fdca26"
             ],
             [
              1,
              "#f0f921"
             ]
            ],
            "type": "contour"
           }
          ],
          "contourcarpet": [
           {
            "colorbar": {
             "outlinewidth": 0,
             "ticks": ""
            },
            "type": "contourcarpet"
           }
          ],
          "heatmap": [
           {
            "colorbar": {
             "outlinewidth": 0,
             "ticks": ""
            },
            "colorscale": [
             [
              0,
              "#0d0887"
             ],
             [
              0.1111111111111111,
              "#46039f"
             ],
             [
              0.2222222222222222,
              "#7201a8"
             ],
             [
              0.3333333333333333,
              "#9c179e"
             ],
             [
              0.4444444444444444,
              "#bd3786"
             ],
             [
              0.5555555555555556,
              "#d8576b"
             ],
             [
              0.6666666666666666,
              "#ed7953"
             ],
             [
              0.7777777777777778,
              "#fb9f3a"
             ],
             [
              0.8888888888888888,
              "#fdca26"
             ],
             [
              1,
              "#f0f921"
             ]
            ],
            "type": "heatmap"
           }
          ],
          "heatmapgl": [
           {
            "colorbar": {
             "outlinewidth": 0,
             "ticks": ""
            },
            "colorscale": [
             [
              0,
              "#0d0887"
             ],
             [
              0.1111111111111111,
              "#46039f"
             ],
             [
              0.2222222222222222,
              "#7201a8"
             ],
             [
              0.3333333333333333,
              "#9c179e"
             ],
             [
              0.4444444444444444,
              "#bd3786"
             ],
             [
              0.5555555555555556,
              "#d8576b"
             ],
             [
              0.6666666666666666,
              "#ed7953"
             ],
             [
              0.7777777777777778,
              "#fb9f3a"
             ],
             [
              0.8888888888888888,
              "#fdca26"
             ],
             [
              1,
              "#f0f921"
             ]
            ],
            "type": "heatmapgl"
           }
          ],
          "histogram": [
           {
            "marker": {
             "pattern": {
              "fillmode": "overlay",
              "size": 10,
              "solidity": 0.2
             }
            },
            "type": "histogram"
           }
          ],
          "histogram2d": [
           {
            "colorbar": {
             "outlinewidth": 0,
             "ticks": ""
            },
            "colorscale": [
             [
              0,
              "#0d0887"
             ],
             [
              0.1111111111111111,
              "#46039f"
             ],
             [
              0.2222222222222222,
              "#7201a8"
             ],
             [
              0.3333333333333333,
              "#9c179e"
             ],
             [
              0.4444444444444444,
              "#bd3786"
             ],
             [
              0.5555555555555556,
              "#d8576b"
             ],
             [
              0.6666666666666666,
              "#ed7953"
             ],
             [
              0.7777777777777778,
              "#fb9f3a"
             ],
             [
              0.8888888888888888,
              "#fdca26"
             ],
             [
              1,
              "#f0f921"
             ]
            ],
            "type": "histogram2d"
           }
          ],
          "histogram2dcontour": [
           {
            "colorbar": {
             "outlinewidth": 0,
             "ticks": ""
            },
            "colorscale": [
             [
              0,
              "#0d0887"
             ],
             [
              0.1111111111111111,
              "#46039f"
             ],
             [
              0.2222222222222222,
              "#7201a8"
             ],
             [
              0.3333333333333333,
              "#9c179e"
             ],
             [
              0.4444444444444444,
              "#bd3786"
             ],
             [
              0.5555555555555556,
              "#d8576b"
             ],
             [
              0.6666666666666666,
              "#ed7953"
             ],
             [
              0.7777777777777778,
              "#fb9f3a"
             ],
             [
              0.8888888888888888,
              "#fdca26"
             ],
             [
              1,
              "#f0f921"
             ]
            ],
            "type": "histogram2dcontour"
           }
          ],
          "mesh3d": [
           {
            "colorbar": {
             "outlinewidth": 0,
             "ticks": ""
            },
            "type": "mesh3d"
           }
          ],
          "parcoords": [
           {
            "line": {
             "colorbar": {
              "outlinewidth": 0,
              "ticks": ""
             }
            },
            "type": "parcoords"
           }
          ],
          "pie": [
           {
            "automargin": true,
            "type": "pie"
           }
          ],
          "scatter": [
           {
            "marker": {
             "colorbar": {
              "outlinewidth": 0,
              "ticks": ""
             }
            },
            "type": "scatter"
           }
          ],
          "scatter3d": [
           {
            "line": {
             "colorbar": {
              "outlinewidth": 0,
              "ticks": ""
             }
            },
            "marker": {
             "colorbar": {
              "outlinewidth": 0,
              "ticks": ""
             }
            },
            "type": "scatter3d"
           }
          ],
          "scattercarpet": [
           {
            "marker": {
             "colorbar": {
              "outlinewidth": 0,
              "ticks": ""
             }
            },
            "type": "scattercarpet"
           }
          ],
          "scattergeo": [
           {
            "marker": {
             "colorbar": {
              "outlinewidth": 0,
              "ticks": ""
             }
            },
            "type": "scattergeo"
           }
          ],
          "scattergl": [
           {
            "marker": {
             "colorbar": {
              "outlinewidth": 0,
              "ticks": ""
             }
            },
            "type": "scattergl"
           }
          ],
          "scattermapbox": [
           {
            "marker": {
             "colorbar": {
              "outlinewidth": 0,
              "ticks": ""
             }
            },
            "type": "scattermapbox"
           }
          ],
          "scatterpolar": [
           {
            "marker": {
             "colorbar": {
              "outlinewidth": 0,
              "ticks": ""
             }
            },
            "type": "scatterpolar"
           }
          ],
          "scatterpolargl": [
           {
            "marker": {
             "colorbar": {
              "outlinewidth": 0,
              "ticks": ""
             }
            },
            "type": "scatterpolargl"
           }
          ],
          "scatterternary": [
           {
            "marker": {
             "colorbar": {
              "outlinewidth": 0,
              "ticks": ""
             }
            },
            "type": "scatterternary"
           }
          ],
          "surface": [
           {
            "colorbar": {
             "outlinewidth": 0,
             "ticks": ""
            },
            "colorscale": [
             [
              0,
              "#0d0887"
             ],
             [
              0.1111111111111111,
              "#46039f"
             ],
             [
              0.2222222222222222,
              "#7201a8"
             ],
             [
              0.3333333333333333,
              "#9c179e"
             ],
             [
              0.4444444444444444,
              "#bd3786"
             ],
             [
              0.5555555555555556,
              "#d8576b"
             ],
             [
              0.6666666666666666,
              "#ed7953"
             ],
             [
              0.7777777777777778,
              "#fb9f3a"
             ],
             [
              0.8888888888888888,
              "#fdca26"
             ],
             [
              1,
              "#f0f921"
             ]
            ],
            "type": "surface"
           }
          ],
          "table": [
           {
            "cells": {
             "fill": {
              "color": "#EBF0F8"
             },
             "line": {
              "color": "white"
             }
            },
            "header": {
             "fill": {
              "color": "#C8D4E3"
             },
             "line": {
              "color": "white"
             }
            },
            "type": "table"
           }
          ]
         },
         "layout": {
          "annotationdefaults": {
           "arrowcolor": "#2a3f5f",
           "arrowhead": 0,
           "arrowwidth": 1
          },
          "autotypenumbers": "strict",
          "coloraxis": {
           "colorbar": {
            "outlinewidth": 0,
            "ticks": ""
           }
          },
          "colorscale": {
           "diverging": [
            [
             0,
             "#8e0152"
            ],
            [
             0.1,
             "#c51b7d"
            ],
            [
             0.2,
             "#de77ae"
            ],
            [
             0.3,
             "#f1b6da"
            ],
            [
             0.4,
             "#fde0ef"
            ],
            [
             0.5,
             "#f7f7f7"
            ],
            [
             0.6,
             "#e6f5d0"
            ],
            [
             0.7,
             "#b8e186"
            ],
            [
             0.8,
             "#7fbc41"
            ],
            [
             0.9,
             "#4d9221"
            ],
            [
             1,
             "#276419"
            ]
           ],
           "sequential": [
            [
             0,
             "#0d0887"
            ],
            [
             0.1111111111111111,
             "#46039f"
            ],
            [
             0.2222222222222222,
             "#7201a8"
            ],
            [
             0.3333333333333333,
             "#9c179e"
            ],
            [
             0.4444444444444444,
             "#bd3786"
            ],
            [
             0.5555555555555556,
             "#d8576b"
            ],
            [
             0.6666666666666666,
             "#ed7953"
            ],
            [
             0.7777777777777778,
             "#fb9f3a"
            ],
            [
             0.8888888888888888,
             "#fdca26"
            ],
            [
             1,
             "#f0f921"
            ]
           ],
           "sequentialminus": [
            [
             0,
             "#0d0887"
            ],
            [
             0.1111111111111111,
             "#46039f"
            ],
            [
             0.2222222222222222,
             "#7201a8"
            ],
            [
             0.3333333333333333,
             "#9c179e"
            ],
            [
             0.4444444444444444,
             "#bd3786"
            ],
            [
             0.5555555555555556,
             "#d8576b"
            ],
            [
             0.6666666666666666,
             "#ed7953"
            ],
            [
             0.7777777777777778,
             "#fb9f3a"
            ],
            [
             0.8888888888888888,
             "#fdca26"
            ],
            [
             1,
             "#f0f921"
            ]
           ]
          },
          "colorway": [
           "#636efa",
           "#EF553B",
           "#00cc96",
           "#ab63fa",
           "#FFA15A",
           "#19d3f3",
           "#FF6692",
           "#B6E880",
           "#FF97FF",
           "#FECB52"
          ],
          "font": {
           "color": "#2a3f5f"
          },
          "geo": {
           "bgcolor": "white",
           "lakecolor": "white",
           "landcolor": "#E5ECF6",
           "showlakes": true,
           "showland": true,
           "subunitcolor": "white"
          },
          "hoverlabel": {
           "align": "left"
          },
          "hovermode": "closest",
          "mapbox": {
           "style": "light"
          },
          "paper_bgcolor": "white",
          "plot_bgcolor": "#E5ECF6",
          "polar": {
           "angularaxis": {
            "gridcolor": "white",
            "linecolor": "white",
            "ticks": ""
           },
           "bgcolor": "#E5ECF6",
           "radialaxis": {
            "gridcolor": "white",
            "linecolor": "white",
            "ticks": ""
           }
          },
          "scene": {
           "xaxis": {
            "backgroundcolor": "#E5ECF6",
            "gridcolor": "white",
            "gridwidth": 2,
            "linecolor": "white",
            "showbackground": true,
            "ticks": "",
            "zerolinecolor": "white"
           },
           "yaxis": {
            "backgroundcolor": "#E5ECF6",
            "gridcolor": "white",
            "gridwidth": 2,
            "linecolor": "white",
            "showbackground": true,
            "ticks": "",
            "zerolinecolor": "white"
           },
           "zaxis": {
            "backgroundcolor": "#E5ECF6",
            "gridcolor": "white",
            "gridwidth": 2,
            "linecolor": "white",
            "showbackground": true,
            "ticks": "",
            "zerolinecolor": "white"
           }
          },
          "shapedefaults": {
           "line": {
            "color": "#2a3f5f"
           }
          },
          "ternary": {
           "aaxis": {
            "gridcolor": "white",
            "linecolor": "white",
            "ticks": ""
           },
           "baxis": {
            "gridcolor": "white",
            "linecolor": "white",
            "ticks": ""
           },
           "bgcolor": "#E5ECF6",
           "caxis": {
            "gridcolor": "white",
            "linecolor": "white",
            "ticks": ""
           }
          },
          "title": {
           "x": 0.05
          },
          "xaxis": {
           "automargin": true,
           "gridcolor": "white",
           "linecolor": "white",
           "ticks": "",
           "title": {
            "standoff": 15
           },
           "zerolinecolor": "white",
           "zerolinewidth": 2
          },
          "yaxis": {
           "automargin": true,
           "gridcolor": "white",
           "linecolor": "white",
           "ticks": "",
           "title": {
            "standoff": 15
           },
           "zerolinecolor": "white",
           "zerolinewidth": 2
          }
         }
        },
        "title": {
         "text": "Total Explained Variance: 95.69%"
        }
       }
      }
     },
     "metadata": {},
     "output_type": "display_data"
    }
   ],
   "source": [
    "pca = PCA(n_components=3)\n",
    "components = pca.fit_transform(X)\n",
    "\n",
    "total_var = pca.explained_variance_ratio_.sum() * 100\n",
    "\n",
    "fig = px.scatter_3d(\n",
    "    components, x=0, y=1, z=2, color=y,\n",
    "    title=f'Total Explained Variance: {total_var:.2f}%',\n",
    "    labels={'0': 'PC 1', '1': 'PC 2', '2': 'PC 3'},\n",
    ")\n",
    "fig.show()"
   ]
  },
  {
   "cell_type": "markdown",
   "metadata": {},
   "source": [
    "The clusters with the chosen species seems verily seperated. There is however still some overlap and split up species."
   ]
  },
  {
   "cell_type": "markdown",
   "metadata": {},
   "source": [
    "### Model creation"
   ]
  },
  {
   "cell_type": "markdown",
   "metadata": {},
   "source": [
    "#### KMeans\n",
    "\n",
    "I choose to use k-means because it's a very popular clustering algorithm that is known to run very fast and it excels in seperating the space in different sub-clusters."
   ]
  },
  {
   "cell_type": "code",
   "execution_count": 202,
   "metadata": {},
   "outputs": [
    {
     "data": {
      "application/vnd.plotly.v1+json": {
       "config": {
        "plotlyServerURL": "https://plot.ly"
       },
       "data": [
        {
         "hovertemplate": "0=%{x}<br>1=%{y}<br>color=%{marker.color}<extra></extra>",
         "legendgroup": "",
         "marker": {
          "color": [
           2,
           2,
           2,
           2,
           2,
           2,
           2,
           2,
           2,
           2,
           2,
           2,
           2,
           1,
           1,
           1,
           1,
           1,
           1,
           1,
           1,
           1,
           1,
           1,
           1,
           1,
           1,
           1,
           0,
           0,
           0,
           0,
           0,
           0,
           0,
           0,
           8,
           8,
           8,
           8,
           8,
           8,
           8,
           8,
           8,
           4,
           4,
           4,
           4,
           4,
           4,
           4,
           4,
           4,
           4,
           9,
           4,
           4,
           4,
           9,
           4,
           9,
           4,
           4,
           4,
           10,
           10,
           7,
           7,
           7,
           7,
           7,
           7,
           6,
           6,
           6,
           8,
           6,
           6,
           6,
           6,
           6,
           0,
           0,
           0,
           0,
           0,
           0,
           0,
           0,
           0,
           0,
           0,
           0,
           5,
           5,
           5,
           5,
           5,
           5,
           5,
           5,
           5,
           3,
           3,
           3,
           3,
           3,
           3,
           3,
           3,
           3,
           3,
           3,
           3,
           3,
           3,
           3
          ],
          "coloraxis": "coloraxis",
          "symbol": "circle"
         },
         "mode": "markers",
         "name": "",
         "orientation": "v",
         "showlegend": false,
         "type": "scatter",
         "x": [
          -121.41964261578617,
          -125.0229297539317,
          -126.19178821074698,
          -111.11474084542661,
          -106.68566891422822,
          -113.64221230988882,
          -120.24921799066641,
          -123.5926147766812,
          -130.34150515544127,
          -124.6325643587252,
          -134.29045579857774,
          -125.58011903635838,
          -136.65020636215064,
          82.44781073450098,
          73.96002455916724,
          68.18616125468502,
          67.974039317463,
          67.34617433145263,
          56.259431112558566,
          56.27380184673665,
          64.4317777247996,
          53.72176307362695,
          51.28262524174973,
          69.99060453555458,
          48.444164407062026,
          53.01163297428257,
          65.22586510178125,
          52.748418688395034,
          19.303632025313462,
          8.36857879331967,
          24.039787474620535,
          11.377497558470246,
          5.344199762918236,
          14.637593755164005,
          5.166072065511731,
          12.761552373850098,
          -46.53284527863607,
          -53.90332738273072,
          -63.17461897211709,
          -66.3801368623535,
          -63.488458601512136,
          -62.10416012608525,
          -69.36986877222701,
          -81.21778951262866,
          -66.89863850562426,
          -93.08529806969213,
          -74.82311446435821,
          -85.82336247326633,
          -81.50419648978567,
          -81.11541753053544,
          -83.04919068285736,
          -97.521625312993,
          -97.30555946485309,
          -105.97886874103122,
          -124.9106515813052,
          -148.6803440678499,
          -78.09374471932223,
          -79.40939335495847,
          -88.12898121200364,
          -101.40988633674829,
          -82.95530436403496,
          -130.37726827438271,
          -99.66666825820239,
          -88.75500287270621,
          -93.3210735125112,
          76.60014219863183,
          50.99309850033451,
          22.676586060634598,
          12.342829080109667,
          29.600759519992494,
          21.49723951450624,
          19.313887946022213,
          22.051289579078215,
          6.99146200589209,
          -20.69331489109635,
          -26.846882341896833,
          -43.36491399673158,
          21.93133123772149,
          25.41553889471938,
          25.52421259398408,
          15.033346561136417,
          19.85604163502221,
          20.418315292444117,
          10.391366254427107,
          -6.633583111799228,
          3.471934564808526,
          -7.49196327552831,
          1.5857859072414466,
          -17.205408365262294,
          -8.823913921613514,
          -3.5864757377169907,
          -19.534498774431235,
          -14.682829035390313,
          2.47150971076915,
          153.8527159140691,
          132.79534903509474,
          128.69039954853233,
          108.11018030951294,
          141.52571618337106,
          126.54428111359859,
          104.90069106492062,
          133.98654446390898,
          157.61375501184736,
          118.33699249088683,
          114.65542848644583,
          107.96660527041607,
          108.19958162974449,
          110.6775822730805,
          109.51956858396214,
          105.014343533667,
          100.7963112551206,
          110.09857604687089,
          110.59552001181243,
          107.55888310267521,
          107.80445296301039,
          106.3147188863415,
          106.65283854872114,
          104.58132387931845
         ],
         "xaxis": "x",
         "y": [
          108.02828122085343,
          108.22814825448104,
          95.83036777861606,
          98.8224416818835,
          93.35499407002324,
          103.63247883168184,
          100.23187473413766,
          99.63109647996052,
          100.98668581960384,
          105.16991709845091,
          97.66905578507279,
          104.58717579739253,
          92.11579523979071,
          61.663622035560174,
          57.877744520088726,
          64.55014912929556,
          61.41972244133303,
          67.32416163811841,
          73.20795997439339,
          57.822521621940886,
          66.73772649834574,
          64.5196990947984,
          72.47842893942246,
          75.94989402838239,
          61.678006941301575,
          68.66845745125597,
          68.12121966510955,
          67.9777131314258,
          -76.7477332392432,
          -75.5547738732253,
          -73.3080497556893,
          -71.29445471434462,
          -79.20032739295716,
          -62.29719826088437,
          -78.98318848061241,
          -70.25340776674616,
          -45.52342676244273,
          -51.852169468203144,
          -43.55338471264823,
          -45.21305670142814,
          -42.95865238482743,
          -49.99476849398475,
          -42.05398212316632,
          -42.113921741402265,
          -47.7014792053657,
          -41.12570509690031,
          -31.922970237739484,
          -46.66733516236486,
          -37.09868101484122,
          -38.976844549908314,
          -33.7136917966398,
          -43.50201064870377,
          -31.431668899594072,
          -32.01546677915716,
          -38.16644371809122,
          -31.765600684986165,
          -43.484313337600085,
          -20.52378374797394,
          -21.627383164156065,
          -23.08274666083125,
          -27.327175759830276,
          -26.121765452824317,
          -13.49523959900384,
          -24.292394965844682,
          -23.099691303641006,
          0.67214582453959,
          14.192331048584316,
          -0.1990480492283136,
          11.755880601071974,
          11.936170033568965,
          -2.2805762236429636,
          -11.810347239359926,
          16.47644953037121,
          -41.63317457603557,
          -37.35640157291118,
          -39.571643651827706,
          -39.90695560583389,
          -40.45210220104715,
          -36.52599648182767,
          -41.02459989341204,
          -40.984843766989556,
          -42.042636006355934,
          -61.58022662814062,
          -58.304230442918644,
          -58.52634203443731,
          -54.02681663617267,
          -52.42534896149349,
          -56.80465947734635,
          -60.91727242643357,
          -50.98804019625002,
          -52.55560598933298,
          -59.28424874367537,
          -51.655127279288,
          -13.25956776025398,
          -50.394737340423525,
          -50.90377546582217,
          -56.919497976476094,
          -50.87476144675193,
          -57.57701725234885,
          -57.885667690710335,
          -46.94820172322103,
          -48.448006126796194,
          -65.24671836282755,
          44.083609992961264,
          45.5573545532763,
          50.684953162649926,
          44.038596368535295,
          46.79464489533059,
          45.692122584670294,
          42.461272775005625,
          41.57901617444676,
          53.368588300245435,
          61.27283661511212,
          61.369566732217315,
          55.693038606632214,
          55.4389531778287,
          61.23356849001038,
          54.77264351761729
         ],
         "yaxis": "y"
        }
       ],
       "layout": {
        "coloraxis": {
         "colorbar": {
          "title": {
           "text": "color"
          }
         },
         "colorscale": [
          [
           0,
           "#0d0887"
          ],
          [
           0.1111111111111111,
           "#46039f"
          ],
          [
           0.2222222222222222,
           "#7201a8"
          ],
          [
           0.3333333333333333,
           "#9c179e"
          ],
          [
           0.4444444444444444,
           "#bd3786"
          ],
          [
           0.5555555555555556,
           "#d8576b"
          ],
          [
           0.6666666666666666,
           "#ed7953"
          ],
          [
           0.7777777777777778,
           "#fb9f3a"
          ],
          [
           0.8888888888888888,
           "#fdca26"
          ],
          [
           1,
           "#f0f921"
          ]
         ]
        },
        "legend": {
         "tracegroupgap": 0
        },
        "template": {
         "data": {
          "bar": [
           {
            "error_x": {
             "color": "#2a3f5f"
            },
            "error_y": {
             "color": "#2a3f5f"
            },
            "marker": {
             "line": {
              "color": "#E5ECF6",
              "width": 0.5
             },
             "pattern": {
              "fillmode": "overlay",
              "size": 10,
              "solidity": 0.2
             }
            },
            "type": "bar"
           }
          ],
          "barpolar": [
           {
            "marker": {
             "line": {
              "color": "#E5ECF6",
              "width": 0.5
             },
             "pattern": {
              "fillmode": "overlay",
              "size": 10,
              "solidity": 0.2
             }
            },
            "type": "barpolar"
           }
          ],
          "carpet": [
           {
            "aaxis": {
             "endlinecolor": "#2a3f5f",
             "gridcolor": "white",
             "linecolor": "white",
             "minorgridcolor": "white",
             "startlinecolor": "#2a3f5f"
            },
            "baxis": {
             "endlinecolor": "#2a3f5f",
             "gridcolor": "white",
             "linecolor": "white",
             "minorgridcolor": "white",
             "startlinecolor": "#2a3f5f"
            },
            "type": "carpet"
           }
          ],
          "choropleth": [
           {
            "colorbar": {
             "outlinewidth": 0,
             "ticks": ""
            },
            "type": "choropleth"
           }
          ],
          "contour": [
           {
            "colorbar": {
             "outlinewidth": 0,
             "ticks": ""
            },
            "colorscale": [
             [
              0,
              "#0d0887"
             ],
             [
              0.1111111111111111,
              "#46039f"
             ],
             [
              0.2222222222222222,
              "#7201a8"
             ],
             [
              0.3333333333333333,
              "#9c179e"
             ],
             [
              0.4444444444444444,
              "#bd3786"
             ],
             [
              0.5555555555555556,
              "#d8576b"
             ],
             [
              0.6666666666666666,
              "#ed7953"
             ],
             [
              0.7777777777777778,
              "#fb9f3a"
             ],
             [
              0.8888888888888888,
              "#fdca26"
             ],
             [
              1,
              "#f0f921"
             ]
            ],
            "type": "contour"
           }
          ],
          "contourcarpet": [
           {
            "colorbar": {
             "outlinewidth": 0,
             "ticks": ""
            },
            "type": "contourcarpet"
           }
          ],
          "heatmap": [
           {
            "colorbar": {
             "outlinewidth": 0,
             "ticks": ""
            },
            "colorscale": [
             [
              0,
              "#0d0887"
             ],
             [
              0.1111111111111111,
              "#46039f"
             ],
             [
              0.2222222222222222,
              "#7201a8"
             ],
             [
              0.3333333333333333,
              "#9c179e"
             ],
             [
              0.4444444444444444,
              "#bd3786"
             ],
             [
              0.5555555555555556,
              "#d8576b"
             ],
             [
              0.6666666666666666,
              "#ed7953"
             ],
             [
              0.7777777777777778,
              "#fb9f3a"
             ],
             [
              0.8888888888888888,
              "#fdca26"
             ],
             [
              1,
              "#f0f921"
             ]
            ],
            "type": "heatmap"
           }
          ],
          "heatmapgl": [
           {
            "colorbar": {
             "outlinewidth": 0,
             "ticks": ""
            },
            "colorscale": [
             [
              0,
              "#0d0887"
             ],
             [
              0.1111111111111111,
              "#46039f"
             ],
             [
              0.2222222222222222,
              "#7201a8"
             ],
             [
              0.3333333333333333,
              "#9c179e"
             ],
             [
              0.4444444444444444,
              "#bd3786"
             ],
             [
              0.5555555555555556,
              "#d8576b"
             ],
             [
              0.6666666666666666,
              "#ed7953"
             ],
             [
              0.7777777777777778,
              "#fb9f3a"
             ],
             [
              0.8888888888888888,
              "#fdca26"
             ],
             [
              1,
              "#f0f921"
             ]
            ],
            "type": "heatmapgl"
           }
          ],
          "histogram": [
           {
            "marker": {
             "pattern": {
              "fillmode": "overlay",
              "size": 10,
              "solidity": 0.2
             }
            },
            "type": "histogram"
           }
          ],
          "histogram2d": [
           {
            "colorbar": {
             "outlinewidth": 0,
             "ticks": ""
            },
            "colorscale": [
             [
              0,
              "#0d0887"
             ],
             [
              0.1111111111111111,
              "#46039f"
             ],
             [
              0.2222222222222222,
              "#7201a8"
             ],
             [
              0.3333333333333333,
              "#9c179e"
             ],
             [
              0.4444444444444444,
              "#bd3786"
             ],
             [
              0.5555555555555556,
              "#d8576b"
             ],
             [
              0.6666666666666666,
              "#ed7953"
             ],
             [
              0.7777777777777778,
              "#fb9f3a"
             ],
             [
              0.8888888888888888,
              "#fdca26"
             ],
             [
              1,
              "#f0f921"
             ]
            ],
            "type": "histogram2d"
           }
          ],
          "histogram2dcontour": [
           {
            "colorbar": {
             "outlinewidth": 0,
             "ticks": ""
            },
            "colorscale": [
             [
              0,
              "#0d0887"
             ],
             [
              0.1111111111111111,
              "#46039f"
             ],
             [
              0.2222222222222222,
              "#7201a8"
             ],
             [
              0.3333333333333333,
              "#9c179e"
             ],
             [
              0.4444444444444444,
              "#bd3786"
             ],
             [
              0.5555555555555556,
              "#d8576b"
             ],
             [
              0.6666666666666666,
              "#ed7953"
             ],
             [
              0.7777777777777778,
              "#fb9f3a"
             ],
             [
              0.8888888888888888,
              "#fdca26"
             ],
             [
              1,
              "#f0f921"
             ]
            ],
            "type": "histogram2dcontour"
           }
          ],
          "mesh3d": [
           {
            "colorbar": {
             "outlinewidth": 0,
             "ticks": ""
            },
            "type": "mesh3d"
           }
          ],
          "parcoords": [
           {
            "line": {
             "colorbar": {
              "outlinewidth": 0,
              "ticks": ""
             }
            },
            "type": "parcoords"
           }
          ],
          "pie": [
           {
            "automargin": true,
            "type": "pie"
           }
          ],
          "scatter": [
           {
            "marker": {
             "colorbar": {
              "outlinewidth": 0,
              "ticks": ""
             }
            },
            "type": "scatter"
           }
          ],
          "scatter3d": [
           {
            "line": {
             "colorbar": {
              "outlinewidth": 0,
              "ticks": ""
             }
            },
            "marker": {
             "colorbar": {
              "outlinewidth": 0,
              "ticks": ""
             }
            },
            "type": "scatter3d"
           }
          ],
          "scattercarpet": [
           {
            "marker": {
             "colorbar": {
              "outlinewidth": 0,
              "ticks": ""
             }
            },
            "type": "scattercarpet"
           }
          ],
          "scattergeo": [
           {
            "marker": {
             "colorbar": {
              "outlinewidth": 0,
              "ticks": ""
             }
            },
            "type": "scattergeo"
           }
          ],
          "scattergl": [
           {
            "marker": {
             "colorbar": {
              "outlinewidth": 0,
              "ticks": ""
             }
            },
            "type": "scattergl"
           }
          ],
          "scattermapbox": [
           {
            "marker": {
             "colorbar": {
              "outlinewidth": 0,
              "ticks": ""
             }
            },
            "type": "scattermapbox"
           }
          ],
          "scatterpolar": [
           {
            "marker": {
             "colorbar": {
              "outlinewidth": 0,
              "ticks": ""
             }
            },
            "type": "scatterpolar"
           }
          ],
          "scatterpolargl": [
           {
            "marker": {
             "colorbar": {
              "outlinewidth": 0,
              "ticks": ""
             }
            },
            "type": "scatterpolargl"
           }
          ],
          "scatterternary": [
           {
            "marker": {
             "colorbar": {
              "outlinewidth": 0,
              "ticks": ""
             }
            },
            "type": "scatterternary"
           }
          ],
          "surface": [
           {
            "colorbar": {
             "outlinewidth": 0,
             "ticks": ""
            },
            "colorscale": [
             [
              0,
              "#0d0887"
             ],
             [
              0.1111111111111111,
              "#46039f"
             ],
             [
              0.2222222222222222,
              "#7201a8"
             ],
             [
              0.3333333333333333,
              "#9c179e"
             ],
             [
              0.4444444444444444,
              "#bd3786"
             ],
             [
              0.5555555555555556,
              "#d8576b"
             ],
             [
              0.6666666666666666,
              "#ed7953"
             ],
             [
              0.7777777777777778,
              "#fb9f3a"
             ],
             [
              0.8888888888888888,
              "#fdca26"
             ],
             [
              1,
              "#f0f921"
             ]
            ],
            "type": "surface"
           }
          ],
          "table": [
           {
            "cells": {
             "fill": {
              "color": "#EBF0F8"
             },
             "line": {
              "color": "white"
             }
            },
            "header": {
             "fill": {
              "color": "#C8D4E3"
             },
             "line": {
              "color": "white"
             }
            },
            "type": "table"
           }
          ]
         },
         "layout": {
          "annotationdefaults": {
           "arrowcolor": "#2a3f5f",
           "arrowhead": 0,
           "arrowwidth": 1
          },
          "autotypenumbers": "strict",
          "coloraxis": {
           "colorbar": {
            "outlinewidth": 0,
            "ticks": ""
           }
          },
          "colorscale": {
           "diverging": [
            [
             0,
             "#8e0152"
            ],
            [
             0.1,
             "#c51b7d"
            ],
            [
             0.2,
             "#de77ae"
            ],
            [
             0.3,
             "#f1b6da"
            ],
            [
             0.4,
             "#fde0ef"
            ],
            [
             0.5,
             "#f7f7f7"
            ],
            [
             0.6,
             "#e6f5d0"
            ],
            [
             0.7,
             "#b8e186"
            ],
            [
             0.8,
             "#7fbc41"
            ],
            [
             0.9,
             "#4d9221"
            ],
            [
             1,
             "#276419"
            ]
           ],
           "sequential": [
            [
             0,
             "#0d0887"
            ],
            [
             0.1111111111111111,
             "#46039f"
            ],
            [
             0.2222222222222222,
             "#7201a8"
            ],
            [
             0.3333333333333333,
             "#9c179e"
            ],
            [
             0.4444444444444444,
             "#bd3786"
            ],
            [
             0.5555555555555556,
             "#d8576b"
            ],
            [
             0.6666666666666666,
             "#ed7953"
            ],
            [
             0.7777777777777778,
             "#fb9f3a"
            ],
            [
             0.8888888888888888,
             "#fdca26"
            ],
            [
             1,
             "#f0f921"
            ]
           ],
           "sequentialminus": [
            [
             0,
             "#0d0887"
            ],
            [
             0.1111111111111111,
             "#46039f"
            ],
            [
             0.2222222222222222,
             "#7201a8"
            ],
            [
             0.3333333333333333,
             "#9c179e"
            ],
            [
             0.4444444444444444,
             "#bd3786"
            ],
            [
             0.5555555555555556,
             "#d8576b"
            ],
            [
             0.6666666666666666,
             "#ed7953"
            ],
            [
             0.7777777777777778,
             "#fb9f3a"
            ],
            [
             0.8888888888888888,
             "#fdca26"
            ],
            [
             1,
             "#f0f921"
            ]
           ]
          },
          "colorway": [
           "#636efa",
           "#EF553B",
           "#00cc96",
           "#ab63fa",
           "#FFA15A",
           "#19d3f3",
           "#FF6692",
           "#B6E880",
           "#FF97FF",
           "#FECB52"
          ],
          "font": {
           "color": "#2a3f5f"
          },
          "geo": {
           "bgcolor": "white",
           "lakecolor": "white",
           "landcolor": "#E5ECF6",
           "showlakes": true,
           "showland": true,
           "subunitcolor": "white"
          },
          "hoverlabel": {
           "align": "left"
          },
          "hovermode": "closest",
          "mapbox": {
           "style": "light"
          },
          "paper_bgcolor": "white",
          "plot_bgcolor": "#E5ECF6",
          "polar": {
           "angularaxis": {
            "gridcolor": "white",
            "linecolor": "white",
            "ticks": ""
           },
           "bgcolor": "#E5ECF6",
           "radialaxis": {
            "gridcolor": "white",
            "linecolor": "white",
            "ticks": ""
           }
          },
          "scene": {
           "xaxis": {
            "backgroundcolor": "#E5ECF6",
            "gridcolor": "white",
            "gridwidth": 2,
            "linecolor": "white",
            "showbackground": true,
            "ticks": "",
            "zerolinecolor": "white"
           },
           "yaxis": {
            "backgroundcolor": "#E5ECF6",
            "gridcolor": "white",
            "gridwidth": 2,
            "linecolor": "white",
            "showbackground": true,
            "ticks": "",
            "zerolinecolor": "white"
           },
           "zaxis": {
            "backgroundcolor": "#E5ECF6",
            "gridcolor": "white",
            "gridwidth": 2,
            "linecolor": "white",
            "showbackground": true,
            "ticks": "",
            "zerolinecolor": "white"
           }
          },
          "shapedefaults": {
           "line": {
            "color": "#2a3f5f"
           }
          },
          "ternary": {
           "aaxis": {
            "gridcolor": "white",
            "linecolor": "white",
            "ticks": ""
           },
           "baxis": {
            "gridcolor": "white",
            "linecolor": "white",
            "ticks": ""
           },
           "bgcolor": "#E5ECF6",
           "caxis": {
            "gridcolor": "white",
            "linecolor": "white",
            "ticks": ""
           }
          },
          "title": {
           "x": 0.05
          },
          "xaxis": {
           "automargin": true,
           "gridcolor": "white",
           "linecolor": "white",
           "ticks": "",
           "title": {
            "standoff": 15
           },
           "zerolinecolor": "white",
           "zerolinewidth": 2
          },
          "yaxis": {
           "automargin": true,
           "gridcolor": "white",
           "linecolor": "white",
           "ticks": "",
           "title": {
            "standoff": 15
           },
           "zerolinecolor": "white",
           "zerolinewidth": 2
          }
         }
        },
        "title": {
         "text": "Found clusters with KMeans"
        },
        "xaxis": {
         "anchor": "y",
         "domain": [
          0,
          1
         ],
         "title": {
          "text": "0"
         }
        },
        "yaxis": {
         "anchor": "x",
         "domain": [
          0,
          1
         ],
         "title": {
          "text": "1"
         }
        }
       }
      }
     },
     "metadata": {},
     "output_type": "display_data"
    },
    {
     "data": {
      "application/vnd.plotly.v1+json": {
       "config": {
        "plotlyServerURL": "https://plot.ly"
       },
       "data": [
        {
         "hovertemplate": "color=rubicunda<br>0=%{x}<br>1=%{y}<extra></extra>",
         "legendgroup": "rubicunda",
         "marker": {
          "color": "#636efa",
          "symbol": "circle"
         },
         "mode": "markers",
         "name": "rubicunda",
         "orientation": "v",
         "showlegend": true,
         "type": "scatter",
         "x": [
          -121.41964261578617,
          -125.0229297539317,
          -126.19178821074698,
          82.44781073450098,
          73.96002455916724,
          68.18616125468502,
          67.974039317463,
          67.34617433145263
         ],
         "xaxis": "x",
         "y": [
          108.02828122085343,
          108.22814825448104,
          95.83036777861606,
          61.663622035560174,
          57.877744520088726,
          64.55014912929556,
          61.41972244133303,
          67.32416163811841
         ],
         "yaxis": "y"
        },
        {
         "hovertemplate": "color=mitis<br>0=%{x}<br>1=%{y}<extra></extra>",
         "legendgroup": "mitis",
         "marker": {
          "color": "#EF553B",
          "symbol": "circle"
         },
         "mode": "markers",
         "name": "mitis",
         "orientation": "v",
         "showlegend": true,
         "type": "scatter",
         "x": [
          -111.11474084542661,
          -106.68566891422822,
          -113.64221230988882,
          -120.24921799066641,
          -123.5926147766812,
          -130.34150515544127,
          -124.6325643587252,
          -134.29045579857774,
          -125.58011903635838,
          -136.65020636215064
         ],
         "xaxis": "x",
         "y": [
          98.8224416818835,
          93.35499407002324,
          103.63247883168184,
          100.23187473413766,
          99.63109647996052,
          100.98668581960384,
          105.16991709845091,
          97.66905578507279,
          104.58717579739253,
          92.11579523979071
         ],
         "yaxis": "y"
        },
        {
         "hovertemplate": "color=badius<br>0=%{x}<br>1=%{y}<extra></extra>",
         "legendgroup": "badius",
         "marker": {
          "color": "#00cc96",
          "symbol": "circle"
         },
         "mode": "markers",
         "name": "badius",
         "orientation": "v",
         "showlegend": true,
         "type": "scatter",
         "x": [
          56.259431112558566,
          56.27380184673665,
          64.4317777247996,
          53.72176307362695,
          51.28262524174973,
          69.99060453555458,
          48.444164407062026,
          53.01163297428257,
          65.22586510178125,
          52.748418688395034
         ],
         "xaxis": "x",
         "y": [
          73.20795997439339,
          57.822521621940886,
          66.73772649834574,
          64.5196990947984,
          72.47842893942246,
          75.94989402838239,
          61.678006941301575,
          68.66845745125597,
          68.12121966510955,
          67.9777131314258
         ],
         "yaxis": "y"
        },
        {
         "hovertemplate": "color=fascicularis<br>0=%{x}<br>1=%{y}<extra></extra>",
         "legendgroup": "fascicularis",
         "marker": {
          "color": "#ab63fa",
          "symbol": "circle"
         },
         "mode": "markers",
         "name": "fascicularis",
         "orientation": "v",
         "showlegend": true,
         "type": "scatter",
         "x": [
          19.303632025313462,
          8.36857879331967,
          24.039787474620535,
          11.377497558470246,
          5.344199762918236,
          14.637593755164005,
          5.166072065511731,
          12.761552373850098
         ],
         "xaxis": "x",
         "y": [
          -76.7477332392432,
          -75.5547738732253,
          -73.3080497556893,
          -71.29445471434462,
          -79.20032739295716,
          -62.29719826088437,
          -78.98318848061241,
          -70.25340776674616
         ],
         "yaxis": "y"
        },
        {
         "hovertemplate": "color=cristata<br>0=%{x}<br>1=%{y}<extra></extra>",
         "legendgroup": "cristata",
         "marker": {
          "color": "#FFA15A",
          "symbol": "circle"
         },
         "mode": "markers",
         "name": "cristata",
         "orientation": "v",
         "showlegend": true,
         "type": "scatter",
         "x": [
          -46.53284527863607,
          -53.90332738273072,
          -63.17461897211709,
          -66.3801368623535,
          -63.488458601512136,
          -62.10416012608525,
          -69.36986877222701,
          -81.21778951262866,
          -66.89863850562426,
          -93.08529806969213,
          118.33699249088683,
          114.65542848644583,
          107.96660527041607,
          108.19958162974449,
          110.6775822730805,
          109.51956858396214,
          105.014343533667,
          100.7963112551206
         ],
         "xaxis": "x",
         "y": [
          -45.52342676244273,
          -51.852169468203144,
          -43.55338471264823,
          -45.21305670142814,
          -42.95865238482743,
          -49.99476849398475,
          -42.05398212316632,
          -42.113921741402265,
          -47.7014792053657,
          -41.12570509690031,
          44.083609992961264,
          45.5573545532763,
          50.684953162649926,
          44.038596368535295,
          46.79464489533059,
          45.692122584670294,
          42.461272775005625,
          41.57901617444676
         ],
         "yaxis": "y"
        },
        {
         "hovertemplate": "color=polykomos<br>0=%{x}<br>1=%{y}<extra></extra>",
         "legendgroup": "polykomos",
         "marker": {
          "color": "#19d3f3",
          "symbol": "circle"
         },
         "mode": "markers",
         "name": "polykomos",
         "orientation": "v",
         "showlegend": true,
         "type": "scatter",
         "x": [
          -74.82311446435821,
          -85.82336247326633,
          -81.50419648978567,
          -81.11541753053544,
          -83.04919068285736,
          -97.521625312993,
          -97.30555946485309,
          -105.97886874103122,
          -124.9106515813052,
          -148.6803440678499
         ],
         "xaxis": "x",
         "y": [
          -31.922970237739484,
          -46.66733516236486,
          -37.09868101484122,
          -38.976844549908314,
          -33.7136917966398,
          -43.50201064870377,
          -31.431668899594072,
          -32.01546677915716,
          -38.16644371809122,
          -31.765600684986165
         ],
         "yaxis": "y"
        },
        {
         "hovertemplate": "color=torquatus<br>0=%{x}<br>1=%{y}<extra></extra>",
         "legendgroup": "torquatus",
         "marker": {
          "color": "#FF6692",
          "symbol": "circle"
         },
         "mode": "markers",
         "name": "torquatus",
         "orientation": "v",
         "showlegend": true,
         "type": "scatter",
         "x": [
          -78.09374471932223,
          -79.40939335495847,
          -88.12898121200364,
          -101.40988633674829,
          -82.95530436403496,
          -130.37726827438271,
          -99.66666825820239,
          -88.75500287270621,
          -93.3210735125112
         ],
         "xaxis": "x",
         "y": [
          -43.484313337600085,
          -20.52378374797394,
          -21.627383164156065,
          -23.08274666083125,
          -27.327175759830276,
          -26.121765452824317,
          -13.49523959900384,
          -24.292394965844682,
          -23.099691303641006
         ],
         "yaxis": "y"
        },
        {
         "hovertemplate": "color=anubis<br>0=%{x}<br>1=%{y}<extra></extra>",
         "legendgroup": "anubis",
         "marker": {
          "color": "#B6E880",
          "symbol": "circle"
         },
         "mode": "markers",
         "name": "anubis",
         "orientation": "v",
         "showlegend": true,
         "type": "scatter",
         "x": [
          76.60014219863183,
          50.99309850033451,
          22.676586060634598,
          12.342829080109667,
          29.600759519992494,
          21.49723951450624,
          19.313887946022213,
          22.051289579078215,
          2.47150971076915
         ],
         "xaxis": "x",
         "y": [
          0.67214582453959,
          14.192331048584316,
          -0.1990480492283136,
          11.755880601071974,
          11.936170033568965,
          -2.2805762236429636,
          -11.810347239359926,
          16.47644953037121,
          -13.25956776025398
         ],
         "yaxis": "y"
        },
        {
         "hovertemplate": "color=larvatus<br>0=%{x}<br>1=%{y}<extra></extra>",
         "legendgroup": "larvatus",
         "marker": {
          "color": "#FF97FF",
          "symbol": "circle"
         },
         "mode": "markers",
         "name": "larvatus",
         "orientation": "v",
         "showlegend": true,
         "type": "scatter",
         "x": [
          6.99146200589209,
          -20.69331489109635,
          -26.846882341896833,
          -43.36491399673158,
          21.93133123772149,
          25.41553889471938,
          25.52421259398408,
          15.033346561136417,
          19.85604163502221
         ],
         "xaxis": "x",
         "y": [
          -41.63317457603557,
          -37.35640157291118,
          -39.571643651827706,
          -39.90695560583389,
          -40.45210220104715,
          -36.52599648182767,
          -41.02459989341204,
          -40.984843766989556,
          -42.042636006355934
         ],
         "yaxis": "y"
        },
        {
         "hovertemplate": "color=lar<br>0=%{x}<br>1=%{y}<extra></extra>",
         "legendgroup": "lar",
         "marker": {
          "color": "#FECB52",
          "symbol": "circle"
         },
         "mode": "markers",
         "name": "lar",
         "orientation": "v",
         "showlegend": true,
         "type": "scatter",
         "x": [
          20.418315292444117,
          10.391366254427107,
          -6.633583111799228,
          3.471934564808526,
          -7.49196327552831,
          1.5857859072414466,
          -17.205408365262294,
          -8.823913921613514,
          -3.5864757377169907,
          -19.534498774431235,
          -14.682829035390313,
          110.09857604687089,
          110.59552001181243,
          107.55888310267521,
          107.80445296301039,
          106.3147188863415,
          106.65283854872114,
          104.58132387931845
         ],
         "xaxis": "x",
         "y": [
          -61.58022662814062,
          -58.304230442918644,
          -58.52634203443731,
          -54.02681663617267,
          -52.42534896149349,
          -56.80465947734635,
          -60.91727242643357,
          -50.98804019625002,
          -52.55560598933298,
          -59.28424874367537,
          -51.655127279288,
          53.368588300245435,
          61.27283661511212,
          61.369566732217315,
          55.693038606632214,
          55.4389531778287,
          61.23356849001038,
          54.77264351761729
         ],
         "yaxis": "y"
        },
        {
         "hovertemplate": "color=troglodytes<br>0=%{x}<br>1=%{y}<extra></extra>",
         "legendgroup": "troglodytes",
         "marker": {
          "color": "#636efa",
          "symbol": "circle"
         },
         "mode": "markers",
         "name": "troglodytes",
         "orientation": "v",
         "showlegend": true,
         "type": "scatter",
         "x": [
          153.8527159140691,
          132.79534903509474,
          128.69039954853233,
          108.11018030951294,
          141.52571618337106,
          126.54428111359859,
          104.90069106492062,
          133.98654446390898,
          157.61375501184736
         ],
         "xaxis": "x",
         "y": [
          -50.394737340423525,
          -50.90377546582217,
          -56.919497976476094,
          -50.87476144675193,
          -57.57701725234885,
          -57.885667690710335,
          -46.94820172322103,
          -48.448006126796194,
          -65.24671836282755
         ],
         "yaxis": "y"
        }
       ],
       "layout": {
        "legend": {
         "title": {
          "text": "color"
         },
         "tracegroupgap": 0
        },
        "template": {
         "data": {
          "bar": [
           {
            "error_x": {
             "color": "#2a3f5f"
            },
            "error_y": {
             "color": "#2a3f5f"
            },
            "marker": {
             "line": {
              "color": "#E5ECF6",
              "width": 0.5
             },
             "pattern": {
              "fillmode": "overlay",
              "size": 10,
              "solidity": 0.2
             }
            },
            "type": "bar"
           }
          ],
          "barpolar": [
           {
            "marker": {
             "line": {
              "color": "#E5ECF6",
              "width": 0.5
             },
             "pattern": {
              "fillmode": "overlay",
              "size": 10,
              "solidity": 0.2
             }
            },
            "type": "barpolar"
           }
          ],
          "carpet": [
           {
            "aaxis": {
             "endlinecolor": "#2a3f5f",
             "gridcolor": "white",
             "linecolor": "white",
             "minorgridcolor": "white",
             "startlinecolor": "#2a3f5f"
            },
            "baxis": {
             "endlinecolor": "#2a3f5f",
             "gridcolor": "white",
             "linecolor": "white",
             "minorgridcolor": "white",
             "startlinecolor": "#2a3f5f"
            },
            "type": "carpet"
           }
          ],
          "choropleth": [
           {
            "colorbar": {
             "outlinewidth": 0,
             "ticks": ""
            },
            "type": "choropleth"
           }
          ],
          "contour": [
           {
            "colorbar": {
             "outlinewidth": 0,
             "ticks": ""
            },
            "colorscale": [
             [
              0,
              "#0d0887"
             ],
             [
              0.1111111111111111,
              "#46039f"
             ],
             [
              0.2222222222222222,
              "#7201a8"
             ],
             [
              0.3333333333333333,
              "#9c179e"
             ],
             [
              0.4444444444444444,
              "#bd3786"
             ],
             [
              0.5555555555555556,
              "#d8576b"
             ],
             [
              0.6666666666666666,
              "#ed7953"
             ],
             [
              0.7777777777777778,
              "#fb9f3a"
             ],
             [
              0.8888888888888888,
              "#fdca26"
             ],
             [
              1,
              "#f0f921"
             ]
            ],
            "type": "contour"
           }
          ],
          "contourcarpet": [
           {
            "colorbar": {
             "outlinewidth": 0,
             "ticks": ""
            },
            "type": "contourcarpet"
           }
          ],
          "heatmap": [
           {
            "colorbar": {
             "outlinewidth": 0,
             "ticks": ""
            },
            "colorscale": [
             [
              0,
              "#0d0887"
             ],
             [
              0.1111111111111111,
              "#46039f"
             ],
             [
              0.2222222222222222,
              "#7201a8"
             ],
             [
              0.3333333333333333,
              "#9c179e"
             ],
             [
              0.4444444444444444,
              "#bd3786"
             ],
             [
              0.5555555555555556,
              "#d8576b"
             ],
             [
              0.6666666666666666,
              "#ed7953"
             ],
             [
              0.7777777777777778,
              "#fb9f3a"
             ],
             [
              0.8888888888888888,
              "#fdca26"
             ],
             [
              1,
              "#f0f921"
             ]
            ],
            "type": "heatmap"
           }
          ],
          "heatmapgl": [
           {
            "colorbar": {
             "outlinewidth": 0,
             "ticks": ""
            },
            "colorscale": [
             [
              0,
              "#0d0887"
             ],
             [
              0.1111111111111111,
              "#46039f"
             ],
             [
              0.2222222222222222,
              "#7201a8"
             ],
             [
              0.3333333333333333,
              "#9c179e"
             ],
             [
              0.4444444444444444,
              "#bd3786"
             ],
             [
              0.5555555555555556,
              "#d8576b"
             ],
             [
              0.6666666666666666,
              "#ed7953"
             ],
             [
              0.7777777777777778,
              "#fb9f3a"
             ],
             [
              0.8888888888888888,
              "#fdca26"
             ],
             [
              1,
              "#f0f921"
             ]
            ],
            "type": "heatmapgl"
           }
          ],
          "histogram": [
           {
            "marker": {
             "pattern": {
              "fillmode": "overlay",
              "size": 10,
              "solidity": 0.2
             }
            },
            "type": "histogram"
           }
          ],
          "histogram2d": [
           {
            "colorbar": {
             "outlinewidth": 0,
             "ticks": ""
            },
            "colorscale": [
             [
              0,
              "#0d0887"
             ],
             [
              0.1111111111111111,
              "#46039f"
             ],
             [
              0.2222222222222222,
              "#7201a8"
             ],
             [
              0.3333333333333333,
              "#9c179e"
             ],
             [
              0.4444444444444444,
              "#bd3786"
             ],
             [
              0.5555555555555556,
              "#d8576b"
             ],
             [
              0.6666666666666666,
              "#ed7953"
             ],
             [
              0.7777777777777778,
              "#fb9f3a"
             ],
             [
              0.8888888888888888,
              "#fdca26"
             ],
             [
              1,
              "#f0f921"
             ]
            ],
            "type": "histogram2d"
           }
          ],
          "histogram2dcontour": [
           {
            "colorbar": {
             "outlinewidth": 0,
             "ticks": ""
            },
            "colorscale": [
             [
              0,
              "#0d0887"
             ],
             [
              0.1111111111111111,
              "#46039f"
             ],
             [
              0.2222222222222222,
              "#7201a8"
             ],
             [
              0.3333333333333333,
              "#9c179e"
             ],
             [
              0.4444444444444444,
              "#bd3786"
             ],
             [
              0.5555555555555556,
              "#d8576b"
             ],
             [
              0.6666666666666666,
              "#ed7953"
             ],
             [
              0.7777777777777778,
              "#fb9f3a"
             ],
             [
              0.8888888888888888,
              "#fdca26"
             ],
             [
              1,
              "#f0f921"
             ]
            ],
            "type": "histogram2dcontour"
           }
          ],
          "mesh3d": [
           {
            "colorbar": {
             "outlinewidth": 0,
             "ticks": ""
            },
            "type": "mesh3d"
           }
          ],
          "parcoords": [
           {
            "line": {
             "colorbar": {
              "outlinewidth": 0,
              "ticks": ""
             }
            },
            "type": "parcoords"
           }
          ],
          "pie": [
           {
            "automargin": true,
            "type": "pie"
           }
          ],
          "scatter": [
           {
            "marker": {
             "colorbar": {
              "outlinewidth": 0,
              "ticks": ""
             }
            },
            "type": "scatter"
           }
          ],
          "scatter3d": [
           {
            "line": {
             "colorbar": {
              "outlinewidth": 0,
              "ticks": ""
             }
            },
            "marker": {
             "colorbar": {
              "outlinewidth": 0,
              "ticks": ""
             }
            },
            "type": "scatter3d"
           }
          ],
          "scattercarpet": [
           {
            "marker": {
             "colorbar": {
              "outlinewidth": 0,
              "ticks": ""
             }
            },
            "type": "scattercarpet"
           }
          ],
          "scattergeo": [
           {
            "marker": {
             "colorbar": {
              "outlinewidth": 0,
              "ticks": ""
             }
            },
            "type": "scattergeo"
           }
          ],
          "scattergl": [
           {
            "marker": {
             "colorbar": {
              "outlinewidth": 0,
              "ticks": ""
             }
            },
            "type": "scattergl"
           }
          ],
          "scattermapbox": [
           {
            "marker": {
             "colorbar": {
              "outlinewidth": 0,
              "ticks": ""
             }
            },
            "type": "scattermapbox"
           }
          ],
          "scatterpolar": [
           {
            "marker": {
             "colorbar": {
              "outlinewidth": 0,
              "ticks": ""
             }
            },
            "type": "scatterpolar"
           }
          ],
          "scatterpolargl": [
           {
            "marker": {
             "colorbar": {
              "outlinewidth": 0,
              "ticks": ""
             }
            },
            "type": "scatterpolargl"
           }
          ],
          "scatterternary": [
           {
            "marker": {
             "colorbar": {
              "outlinewidth": 0,
              "ticks": ""
             }
            },
            "type": "scatterternary"
           }
          ],
          "surface": [
           {
            "colorbar": {
             "outlinewidth": 0,
             "ticks": ""
            },
            "colorscale": [
             [
              0,
              "#0d0887"
             ],
             [
              0.1111111111111111,
              "#46039f"
             ],
             [
              0.2222222222222222,
              "#7201a8"
             ],
             [
              0.3333333333333333,
              "#9c179e"
             ],
             [
              0.4444444444444444,
              "#bd3786"
             ],
             [
              0.5555555555555556,
              "#d8576b"
             ],
             [
              0.6666666666666666,
              "#ed7953"
             ],
             [
              0.7777777777777778,
              "#fb9f3a"
             ],
             [
              0.8888888888888888,
              "#fdca26"
             ],
             [
              1,
              "#f0f921"
             ]
            ],
            "type": "surface"
           }
          ],
          "table": [
           {
            "cells": {
             "fill": {
              "color": "#EBF0F8"
             },
             "line": {
              "color": "white"
             }
            },
            "header": {
             "fill": {
              "color": "#C8D4E3"
             },
             "line": {
              "color": "white"
             }
            },
            "type": "table"
           }
          ]
         },
         "layout": {
          "annotationdefaults": {
           "arrowcolor": "#2a3f5f",
           "arrowhead": 0,
           "arrowwidth": 1
          },
          "autotypenumbers": "strict",
          "coloraxis": {
           "colorbar": {
            "outlinewidth": 0,
            "ticks": ""
           }
          },
          "colorscale": {
           "diverging": [
            [
             0,
             "#8e0152"
            ],
            [
             0.1,
             "#c51b7d"
            ],
            [
             0.2,
             "#de77ae"
            ],
            [
             0.3,
             "#f1b6da"
            ],
            [
             0.4,
             "#fde0ef"
            ],
            [
             0.5,
             "#f7f7f7"
            ],
            [
             0.6,
             "#e6f5d0"
            ],
            [
             0.7,
             "#b8e186"
            ],
            [
             0.8,
             "#7fbc41"
            ],
            [
             0.9,
             "#4d9221"
            ],
            [
             1,
             "#276419"
            ]
           ],
           "sequential": [
            [
             0,
             "#0d0887"
            ],
            [
             0.1111111111111111,
             "#46039f"
            ],
            [
             0.2222222222222222,
             "#7201a8"
            ],
            [
             0.3333333333333333,
             "#9c179e"
            ],
            [
             0.4444444444444444,
             "#bd3786"
            ],
            [
             0.5555555555555556,
             "#d8576b"
            ],
            [
             0.6666666666666666,
             "#ed7953"
            ],
            [
             0.7777777777777778,
             "#fb9f3a"
            ],
            [
             0.8888888888888888,
             "#fdca26"
            ],
            [
             1,
             "#f0f921"
            ]
           ],
           "sequentialminus": [
            [
             0,
             "#0d0887"
            ],
            [
             0.1111111111111111,
             "#46039f"
            ],
            [
             0.2222222222222222,
             "#7201a8"
            ],
            [
             0.3333333333333333,
             "#9c179e"
            ],
            [
             0.4444444444444444,
             "#bd3786"
            ],
            [
             0.5555555555555556,
             "#d8576b"
            ],
            [
             0.6666666666666666,
             "#ed7953"
            ],
            [
             0.7777777777777778,
             "#fb9f3a"
            ],
            [
             0.8888888888888888,
             "#fdca26"
            ],
            [
             1,
             "#f0f921"
            ]
           ]
          },
          "colorway": [
           "#636efa",
           "#EF553B",
           "#00cc96",
           "#ab63fa",
           "#FFA15A",
           "#19d3f3",
           "#FF6692",
           "#B6E880",
           "#FF97FF",
           "#FECB52"
          ],
          "font": {
           "color": "#2a3f5f"
          },
          "geo": {
           "bgcolor": "white",
           "lakecolor": "white",
           "landcolor": "#E5ECF6",
           "showlakes": true,
           "showland": true,
           "subunitcolor": "white"
          },
          "hoverlabel": {
           "align": "left"
          },
          "hovermode": "closest",
          "mapbox": {
           "style": "light"
          },
          "paper_bgcolor": "white",
          "plot_bgcolor": "#E5ECF6",
          "polar": {
           "angularaxis": {
            "gridcolor": "white",
            "linecolor": "white",
            "ticks": ""
           },
           "bgcolor": "#E5ECF6",
           "radialaxis": {
            "gridcolor": "white",
            "linecolor": "white",
            "ticks": ""
           }
          },
          "scene": {
           "xaxis": {
            "backgroundcolor": "#E5ECF6",
            "gridcolor": "white",
            "gridwidth": 2,
            "linecolor": "white",
            "showbackground": true,
            "ticks": "",
            "zerolinecolor": "white"
           },
           "yaxis": {
            "backgroundcolor": "#E5ECF6",
            "gridcolor": "white",
            "gridwidth": 2,
            "linecolor": "white",
            "showbackground": true,
            "ticks": "",
            "zerolinecolor": "white"
           },
           "zaxis": {
            "backgroundcolor": "#E5ECF6",
            "gridcolor": "white",
            "gridwidth": 2,
            "linecolor": "white",
            "showbackground": true,
            "ticks": "",
            "zerolinecolor": "white"
           }
          },
          "shapedefaults": {
           "line": {
            "color": "#2a3f5f"
           }
          },
          "ternary": {
           "aaxis": {
            "gridcolor": "white",
            "linecolor": "white",
            "ticks": ""
           },
           "baxis": {
            "gridcolor": "white",
            "linecolor": "white",
            "ticks": ""
           },
           "bgcolor": "#E5ECF6",
           "caxis": {
            "gridcolor": "white",
            "linecolor": "white",
            "ticks": ""
           }
          },
          "title": {
           "x": 0.05
          },
          "xaxis": {
           "automargin": true,
           "gridcolor": "white",
           "linecolor": "white",
           "ticks": "",
           "title": {
            "standoff": 15
           },
           "zerolinecolor": "white",
           "zerolinewidth": 2
          },
          "yaxis": {
           "automargin": true,
           "gridcolor": "white",
           "linecolor": "white",
           "ticks": "",
           "title": {
            "standoff": 15
           },
           "zerolinecolor": "white",
           "zerolinewidth": 2
          }
         }
        },
        "title": {
         "text": "Real clusters"
        },
        "xaxis": {
         "anchor": "y",
         "domain": [
          0,
          1
         ],
         "title": {
          "text": "0"
         }
        },
        "yaxis": {
         "anchor": "x",
         "domain": [
          0,
          1
         ],
         "title": {
          "text": "1"
         }
        }
       }
      }
     },
     "metadata": {},
     "output_type": "display_data"
    }
   ],
   "source": [
    "km = KMeans(11) # number of clusters set to 11 since we hope to get 11 different species\n",
    "\n",
    "found_clusters_km = km.fit_predict(X)\n",
    "\n",
    "cluster_data_km = X.copy()\n",
    "cluster_data_km['Data'] = found_clusters_km\n",
    "\n",
    "# using the last pca's result we will plot the found clusters using kmeans\n",
    "\n",
    "\n",
    "fig = px.scatter(components, x=0, y=1, color=cluster_data_km['Data'], title= 'Found clusters with KMeans')\n",
    "fig.show()\n",
    "\n",
    "fig = px.scatter(components, x=0, y=1, color=y, title= 'Real clusters')\n",
    "fig.show()"
   ]
  },
  {
   "cell_type": "markdown",
   "metadata": {},
   "source": [
    "It can be seen that a lot of data is still overlapping too much to find clusters that make sense. This is mostly due to outliers and species that have their cluster spread out widely. It is handy that you can indicate how many clusters are expected to be found which helps a bit in getting the right amount of clusters. This however, is no guarentee for finding the exact amount of clusters that you expected."
   ]
  },
  {
   "cell_type": "markdown",
   "metadata": {},
   "source": [
    "#### DBScan\n",
    "\n",
    "I choose to use DBscan since it does a great job of seeking areas in the data that have a high density of observations versus areas of the data that are not very dense with observations."
   ]
  },
  {
   "cell_type": "code",
   "execution_count": 203,
   "metadata": {},
   "outputs": [
    {
     "data": {
      "application/vnd.plotly.v1+json": {
       "config": {
        "plotlyServerURL": "https://plot.ly"
       },
       "data": [
        {
         "hovertemplate": "0=%{x}<br>1=%{y}<br>color=%{marker.color}<extra></extra>",
         "legendgroup": "",
         "marker": {
          "color": [
           0,
           0,
           0,
           0,
           0,
           0,
           0,
           0,
           0,
           0,
           0,
           0,
           0,
           1,
           1,
           1,
           1,
           1,
           1,
           1,
           1,
           1,
           1,
           1,
           1,
           1,
           1,
           1,
           2,
           2,
           2,
           2,
           2,
           2,
           2,
           2,
           3,
           3,
           3,
           3,
           3,
           3,
           3,
           3,
           3,
           3,
           3,
           3,
           3,
           3,
           3,
           3,
           3,
           3,
           3,
           3,
           3,
           3,
           3,
           -1,
           3,
           -1,
           3,
           3,
           3,
           3,
           3,
           3,
           3,
           3,
           3,
           3,
           3,
           3,
           3,
           3,
           3,
           3,
           3,
           3,
           3,
           3,
           2,
           2,
           2,
           2,
           2,
           2,
           2,
           2,
           2,
           2,
           2,
           -1,
           4,
           4,
           4,
           4,
           4,
           4,
           4,
           4,
           4,
           5,
           5,
           5,
           5,
           5,
           5,
           5,
           5,
           5,
           5,
           5,
           5,
           5,
           5,
           5
          ],
          "coloraxis": "coloraxis",
          "symbol": "circle"
         },
         "mode": "markers",
         "name": "",
         "orientation": "v",
         "showlegend": false,
         "type": "scatter",
         "x": [
          -121.41964261578617,
          -125.0229297539317,
          -126.19178821074698,
          -111.11474084542661,
          -106.68566891422822,
          -113.64221230988882,
          -120.24921799066641,
          -123.5926147766812,
          -130.34150515544127,
          -124.6325643587252,
          -134.29045579857774,
          -125.58011903635838,
          -136.65020636215064,
          82.44781073450098,
          73.96002455916724,
          68.18616125468502,
          67.974039317463,
          67.34617433145263,
          56.259431112558566,
          56.27380184673665,
          64.4317777247996,
          53.72176307362695,
          51.28262524174973,
          69.99060453555458,
          48.444164407062026,
          53.01163297428257,
          65.22586510178125,
          52.748418688395034,
          19.303632025313462,
          8.36857879331967,
          24.039787474620535,
          11.377497558470246,
          5.344199762918236,
          14.637593755164005,
          5.166072065511731,
          12.761552373850098,
          -46.53284527863607,
          -53.90332738273072,
          -63.17461897211709,
          -66.3801368623535,
          -63.488458601512136,
          -62.10416012608525,
          -69.36986877222701,
          -81.21778951262866,
          -66.89863850562426,
          -93.08529806969213,
          -74.82311446435821,
          -85.82336247326633,
          -81.50419648978567,
          -81.11541753053544,
          -83.04919068285736,
          -97.521625312993,
          -97.30555946485309,
          -105.97886874103122,
          -124.9106515813052,
          -148.6803440678499,
          -78.09374471932223,
          -79.40939335495847,
          -88.12898121200364,
          -101.40988633674829,
          -82.95530436403496,
          -130.37726827438271,
          -99.66666825820239,
          -88.75500287270621,
          -93.3210735125112,
          76.60014219863183,
          50.99309850033451,
          22.676586060634598,
          12.342829080109667,
          29.600759519992494,
          21.49723951450624,
          19.313887946022213,
          22.051289579078215,
          6.99146200589209,
          -20.69331489109635,
          -26.846882341896833,
          -43.36491399673158,
          21.93133123772149,
          25.41553889471938,
          25.52421259398408,
          15.033346561136417,
          19.85604163502221,
          20.418315292444117,
          10.391366254427107,
          -6.633583111799228,
          3.471934564808526,
          -7.49196327552831,
          1.5857859072414466,
          -17.205408365262294,
          -8.823913921613514,
          -3.5864757377169907,
          -19.534498774431235,
          -14.682829035390313,
          2.47150971076915,
          153.8527159140691,
          132.79534903509474,
          128.69039954853233,
          108.11018030951294,
          141.52571618337106,
          126.54428111359859,
          104.90069106492062,
          133.98654446390898,
          157.61375501184736,
          118.33699249088683,
          114.65542848644583,
          107.96660527041607,
          108.19958162974449,
          110.6775822730805,
          109.51956858396214,
          105.014343533667,
          100.7963112551206,
          110.09857604687089,
          110.59552001181243,
          107.55888310267521,
          107.80445296301039,
          106.3147188863415,
          106.65283854872114,
          104.58132387931845
         ],
         "xaxis": "x",
         "y": [
          108.02828122085343,
          108.22814825448104,
          95.83036777861606,
          98.8224416818835,
          93.35499407002324,
          103.63247883168184,
          100.23187473413766,
          99.63109647996052,
          100.98668581960384,
          105.16991709845091,
          97.66905578507279,
          104.58717579739253,
          92.11579523979071,
          61.663622035560174,
          57.877744520088726,
          64.55014912929556,
          61.41972244133303,
          67.32416163811841,
          73.20795997439339,
          57.822521621940886,
          66.73772649834574,
          64.5196990947984,
          72.47842893942246,
          75.94989402838239,
          61.678006941301575,
          68.66845745125597,
          68.12121966510955,
          67.9777131314258,
          -76.7477332392432,
          -75.5547738732253,
          -73.3080497556893,
          -71.29445471434462,
          -79.20032739295716,
          -62.29719826088437,
          -78.98318848061241,
          -70.25340776674616,
          -45.52342676244273,
          -51.852169468203144,
          -43.55338471264823,
          -45.21305670142814,
          -42.95865238482743,
          -49.99476849398475,
          -42.05398212316632,
          -42.113921741402265,
          -47.7014792053657,
          -41.12570509690031,
          -31.922970237739484,
          -46.66733516236486,
          -37.09868101484122,
          -38.976844549908314,
          -33.7136917966398,
          -43.50201064870377,
          -31.431668899594072,
          -32.01546677915716,
          -38.16644371809122,
          -31.765600684986165,
          -43.484313337600085,
          -20.52378374797394,
          -21.627383164156065,
          -23.08274666083125,
          -27.327175759830276,
          -26.121765452824317,
          -13.49523959900384,
          -24.292394965844682,
          -23.099691303641006,
          0.67214582453959,
          14.192331048584316,
          -0.1990480492283136,
          11.755880601071974,
          11.936170033568965,
          -2.2805762236429636,
          -11.810347239359926,
          16.47644953037121,
          -41.63317457603557,
          -37.35640157291118,
          -39.571643651827706,
          -39.90695560583389,
          -40.45210220104715,
          -36.52599648182767,
          -41.02459989341204,
          -40.984843766989556,
          -42.042636006355934,
          -61.58022662814062,
          -58.304230442918644,
          -58.52634203443731,
          -54.02681663617267,
          -52.42534896149349,
          -56.80465947734635,
          -60.91727242643357,
          -50.98804019625002,
          -52.55560598933298,
          -59.28424874367537,
          -51.655127279288,
          -13.25956776025398,
          -50.394737340423525,
          -50.90377546582217,
          -56.919497976476094,
          -50.87476144675193,
          -57.57701725234885,
          -57.885667690710335,
          -46.94820172322103,
          -48.448006126796194,
          -65.24671836282755,
          44.083609992961264,
          45.5573545532763,
          50.684953162649926,
          44.038596368535295,
          46.79464489533059,
          45.692122584670294,
          42.461272775005625,
          41.57901617444676,
          53.368588300245435,
          61.27283661511212,
          61.369566732217315,
          55.693038606632214,
          55.4389531778287,
          61.23356849001038,
          54.77264351761729
         ],
         "yaxis": "y"
        }
       ],
       "layout": {
        "coloraxis": {
         "colorbar": {
          "title": {
           "text": "color"
          }
         },
         "colorscale": [
          [
           0,
           "#0d0887"
          ],
          [
           0.1111111111111111,
           "#46039f"
          ],
          [
           0.2222222222222222,
           "#7201a8"
          ],
          [
           0.3333333333333333,
           "#9c179e"
          ],
          [
           0.4444444444444444,
           "#bd3786"
          ],
          [
           0.5555555555555556,
           "#d8576b"
          ],
          [
           0.6666666666666666,
           "#ed7953"
          ],
          [
           0.7777777777777778,
           "#fb9f3a"
          ],
          [
           0.8888888888888888,
           "#fdca26"
          ],
          [
           1,
           "#f0f921"
          ]
         ]
        },
        "legend": {
         "tracegroupgap": 0
        },
        "template": {
         "data": {
          "bar": [
           {
            "error_x": {
             "color": "#2a3f5f"
            },
            "error_y": {
             "color": "#2a3f5f"
            },
            "marker": {
             "line": {
              "color": "#E5ECF6",
              "width": 0.5
             },
             "pattern": {
              "fillmode": "overlay",
              "size": 10,
              "solidity": 0.2
             }
            },
            "type": "bar"
           }
          ],
          "barpolar": [
           {
            "marker": {
             "line": {
              "color": "#E5ECF6",
              "width": 0.5
             },
             "pattern": {
              "fillmode": "overlay",
              "size": 10,
              "solidity": 0.2
             }
            },
            "type": "barpolar"
           }
          ],
          "carpet": [
           {
            "aaxis": {
             "endlinecolor": "#2a3f5f",
             "gridcolor": "white",
             "linecolor": "white",
             "minorgridcolor": "white",
             "startlinecolor": "#2a3f5f"
            },
            "baxis": {
             "endlinecolor": "#2a3f5f",
             "gridcolor": "white",
             "linecolor": "white",
             "minorgridcolor": "white",
             "startlinecolor": "#2a3f5f"
            },
            "type": "carpet"
           }
          ],
          "choropleth": [
           {
            "colorbar": {
             "outlinewidth": 0,
             "ticks": ""
            },
            "type": "choropleth"
           }
          ],
          "contour": [
           {
            "colorbar": {
             "outlinewidth": 0,
             "ticks": ""
            },
            "colorscale": [
             [
              0,
              "#0d0887"
             ],
             [
              0.1111111111111111,
              "#46039f"
             ],
             [
              0.2222222222222222,
              "#7201a8"
             ],
             [
              0.3333333333333333,
              "#9c179e"
             ],
             [
              0.4444444444444444,
              "#bd3786"
             ],
             [
              0.5555555555555556,
              "#d8576b"
             ],
             [
              0.6666666666666666,
              "#ed7953"
             ],
             [
              0.7777777777777778,
              "#fb9f3a"
             ],
             [
              0.8888888888888888,
              "#fdca26"
             ],
             [
              1,
              "#f0f921"
             ]
            ],
            "type": "contour"
           }
          ],
          "contourcarpet": [
           {
            "colorbar": {
             "outlinewidth": 0,
             "ticks": ""
            },
            "type": "contourcarpet"
           }
          ],
          "heatmap": [
           {
            "colorbar": {
             "outlinewidth": 0,
             "ticks": ""
            },
            "colorscale": [
             [
              0,
              "#0d0887"
             ],
             [
              0.1111111111111111,
              "#46039f"
             ],
             [
              0.2222222222222222,
              "#7201a8"
             ],
             [
              0.3333333333333333,
              "#9c179e"
             ],
             [
              0.4444444444444444,
              "#bd3786"
             ],
             [
              0.5555555555555556,
              "#d8576b"
             ],
             [
              0.6666666666666666,
              "#ed7953"
             ],
             [
              0.7777777777777778,
              "#fb9f3a"
             ],
             [
              0.8888888888888888,
              "#fdca26"
             ],
             [
              1,
              "#f0f921"
             ]
            ],
            "type": "heatmap"
           }
          ],
          "heatmapgl": [
           {
            "colorbar": {
             "outlinewidth": 0,
             "ticks": ""
            },
            "colorscale": [
             [
              0,
              "#0d0887"
             ],
             [
              0.1111111111111111,
              "#46039f"
             ],
             [
              0.2222222222222222,
              "#7201a8"
             ],
             [
              0.3333333333333333,
              "#9c179e"
             ],
             [
              0.4444444444444444,
              "#bd3786"
             ],
             [
              0.5555555555555556,
              "#d8576b"
             ],
             [
              0.6666666666666666,
              "#ed7953"
             ],
             [
              0.7777777777777778,
              "#fb9f3a"
             ],
             [
              0.8888888888888888,
              "#fdca26"
             ],
             [
              1,
              "#f0f921"
             ]
            ],
            "type": "heatmapgl"
           }
          ],
          "histogram": [
           {
            "marker": {
             "pattern": {
              "fillmode": "overlay",
              "size": 10,
              "solidity": 0.2
             }
            },
            "type": "histogram"
           }
          ],
          "histogram2d": [
           {
            "colorbar": {
             "outlinewidth": 0,
             "ticks": ""
            },
            "colorscale": [
             [
              0,
              "#0d0887"
             ],
             [
              0.1111111111111111,
              "#46039f"
             ],
             [
              0.2222222222222222,
              "#7201a8"
             ],
             [
              0.3333333333333333,
              "#9c179e"
             ],
             [
              0.4444444444444444,
              "#bd3786"
             ],
             [
              0.5555555555555556,
              "#d8576b"
             ],
             [
              0.6666666666666666,
              "#ed7953"
             ],
             [
              0.7777777777777778,
              "#fb9f3a"
             ],
             [
              0.8888888888888888,
              "#fdca26"
             ],
             [
              1,
              "#f0f921"
             ]
            ],
            "type": "histogram2d"
           }
          ],
          "histogram2dcontour": [
           {
            "colorbar": {
             "outlinewidth": 0,
             "ticks": ""
            },
            "colorscale": [
             [
              0,
              "#0d0887"
             ],
             [
              0.1111111111111111,
              "#46039f"
             ],
             [
              0.2222222222222222,
              "#7201a8"
             ],
             [
              0.3333333333333333,
              "#9c179e"
             ],
             [
              0.4444444444444444,
              "#bd3786"
             ],
             [
              0.5555555555555556,
              "#d8576b"
             ],
             [
              0.6666666666666666,
              "#ed7953"
             ],
             [
              0.7777777777777778,
              "#fb9f3a"
             ],
             [
              0.8888888888888888,
              "#fdca26"
             ],
             [
              1,
              "#f0f921"
             ]
            ],
            "type": "histogram2dcontour"
           }
          ],
          "mesh3d": [
           {
            "colorbar": {
             "outlinewidth": 0,
             "ticks": ""
            },
            "type": "mesh3d"
           }
          ],
          "parcoords": [
           {
            "line": {
             "colorbar": {
              "outlinewidth": 0,
              "ticks": ""
             }
            },
            "type": "parcoords"
           }
          ],
          "pie": [
           {
            "automargin": true,
            "type": "pie"
           }
          ],
          "scatter": [
           {
            "marker": {
             "colorbar": {
              "outlinewidth": 0,
              "ticks": ""
             }
            },
            "type": "scatter"
           }
          ],
          "scatter3d": [
           {
            "line": {
             "colorbar": {
              "outlinewidth": 0,
              "ticks": ""
             }
            },
            "marker": {
             "colorbar": {
              "outlinewidth": 0,
              "ticks": ""
             }
            },
            "type": "scatter3d"
           }
          ],
          "scattercarpet": [
           {
            "marker": {
             "colorbar": {
              "outlinewidth": 0,
              "ticks": ""
             }
            },
            "type": "scattercarpet"
           }
          ],
          "scattergeo": [
           {
            "marker": {
             "colorbar": {
              "outlinewidth": 0,
              "ticks": ""
             }
            },
            "type": "scattergeo"
           }
          ],
          "scattergl": [
           {
            "marker": {
             "colorbar": {
              "outlinewidth": 0,
              "ticks": ""
             }
            },
            "type": "scattergl"
           }
          ],
          "scattermapbox": [
           {
            "marker": {
             "colorbar": {
              "outlinewidth": 0,
              "ticks": ""
             }
            },
            "type": "scattermapbox"
           }
          ],
          "scatterpolar": [
           {
            "marker": {
             "colorbar": {
              "outlinewidth": 0,
              "ticks": ""
             }
            },
            "type": "scatterpolar"
           }
          ],
          "scatterpolargl": [
           {
            "marker": {
             "colorbar": {
              "outlinewidth": 0,
              "ticks": ""
             }
            },
            "type": "scatterpolargl"
           }
          ],
          "scatterternary": [
           {
            "marker": {
             "colorbar": {
              "outlinewidth": 0,
              "ticks": ""
             }
            },
            "type": "scatterternary"
           }
          ],
          "surface": [
           {
            "colorbar": {
             "outlinewidth": 0,
             "ticks": ""
            },
            "colorscale": [
             [
              0,
              "#0d0887"
             ],
             [
              0.1111111111111111,
              "#46039f"
             ],
             [
              0.2222222222222222,
              "#7201a8"
             ],
             [
              0.3333333333333333,
              "#9c179e"
             ],
             [
              0.4444444444444444,
              "#bd3786"
             ],
             [
              0.5555555555555556,
              "#d8576b"
             ],
             [
              0.6666666666666666,
              "#ed7953"
             ],
             [
              0.7777777777777778,
              "#fb9f3a"
             ],
             [
              0.8888888888888888,
              "#fdca26"
             ],
             [
              1,
              "#f0f921"
             ]
            ],
            "type": "surface"
           }
          ],
          "table": [
           {
            "cells": {
             "fill": {
              "color": "#EBF0F8"
             },
             "line": {
              "color": "white"
             }
            },
            "header": {
             "fill": {
              "color": "#C8D4E3"
             },
             "line": {
              "color": "white"
             }
            },
            "type": "table"
           }
          ]
         },
         "layout": {
          "annotationdefaults": {
           "arrowcolor": "#2a3f5f",
           "arrowhead": 0,
           "arrowwidth": 1
          },
          "autotypenumbers": "strict",
          "coloraxis": {
           "colorbar": {
            "outlinewidth": 0,
            "ticks": ""
           }
          },
          "colorscale": {
           "diverging": [
            [
             0,
             "#8e0152"
            ],
            [
             0.1,
             "#c51b7d"
            ],
            [
             0.2,
             "#de77ae"
            ],
            [
             0.3,
             "#f1b6da"
            ],
            [
             0.4,
             "#fde0ef"
            ],
            [
             0.5,
             "#f7f7f7"
            ],
            [
             0.6,
             "#e6f5d0"
            ],
            [
             0.7,
             "#b8e186"
            ],
            [
             0.8,
             "#7fbc41"
            ],
            [
             0.9,
             "#4d9221"
            ],
            [
             1,
             "#276419"
            ]
           ],
           "sequential": [
            [
             0,
             "#0d0887"
            ],
            [
             0.1111111111111111,
             "#46039f"
            ],
            [
             0.2222222222222222,
             "#7201a8"
            ],
            [
             0.3333333333333333,
             "#9c179e"
            ],
            [
             0.4444444444444444,
             "#bd3786"
            ],
            [
             0.5555555555555556,
             "#d8576b"
            ],
            [
             0.6666666666666666,
             "#ed7953"
            ],
            [
             0.7777777777777778,
             "#fb9f3a"
            ],
            [
             0.8888888888888888,
             "#fdca26"
            ],
            [
             1,
             "#f0f921"
            ]
           ],
           "sequentialminus": [
            [
             0,
             "#0d0887"
            ],
            [
             0.1111111111111111,
             "#46039f"
            ],
            [
             0.2222222222222222,
             "#7201a8"
            ],
            [
             0.3333333333333333,
             "#9c179e"
            ],
            [
             0.4444444444444444,
             "#bd3786"
            ],
            [
             0.5555555555555556,
             "#d8576b"
            ],
            [
             0.6666666666666666,
             "#ed7953"
            ],
            [
             0.7777777777777778,
             "#fb9f3a"
            ],
            [
             0.8888888888888888,
             "#fdca26"
            ],
            [
             1,
             "#f0f921"
            ]
           ]
          },
          "colorway": [
           "#636efa",
           "#EF553B",
           "#00cc96",
           "#ab63fa",
           "#FFA15A",
           "#19d3f3",
           "#FF6692",
           "#B6E880",
           "#FF97FF",
           "#FECB52"
          ],
          "font": {
           "color": "#2a3f5f"
          },
          "geo": {
           "bgcolor": "white",
           "lakecolor": "white",
           "landcolor": "#E5ECF6",
           "showlakes": true,
           "showland": true,
           "subunitcolor": "white"
          },
          "hoverlabel": {
           "align": "left"
          },
          "hovermode": "closest",
          "mapbox": {
           "style": "light"
          },
          "paper_bgcolor": "white",
          "plot_bgcolor": "#E5ECF6",
          "polar": {
           "angularaxis": {
            "gridcolor": "white",
            "linecolor": "white",
            "ticks": ""
           },
           "bgcolor": "#E5ECF6",
           "radialaxis": {
            "gridcolor": "white",
            "linecolor": "white",
            "ticks": ""
           }
          },
          "scene": {
           "xaxis": {
            "backgroundcolor": "#E5ECF6",
            "gridcolor": "white",
            "gridwidth": 2,
            "linecolor": "white",
            "showbackground": true,
            "ticks": "",
            "zerolinecolor": "white"
           },
           "yaxis": {
            "backgroundcolor": "#E5ECF6",
            "gridcolor": "white",
            "gridwidth": 2,
            "linecolor": "white",
            "showbackground": true,
            "ticks": "",
            "zerolinecolor": "white"
           },
           "zaxis": {
            "backgroundcolor": "#E5ECF6",
            "gridcolor": "white",
            "gridwidth": 2,
            "linecolor": "white",
            "showbackground": true,
            "ticks": "",
            "zerolinecolor": "white"
           }
          },
          "shapedefaults": {
           "line": {
            "color": "#2a3f5f"
           }
          },
          "ternary": {
           "aaxis": {
            "gridcolor": "white",
            "linecolor": "white",
            "ticks": ""
           },
           "baxis": {
            "gridcolor": "white",
            "linecolor": "white",
            "ticks": ""
           },
           "bgcolor": "#E5ECF6",
           "caxis": {
            "gridcolor": "white",
            "linecolor": "white",
            "ticks": ""
           }
          },
          "title": {
           "x": 0.05
          },
          "xaxis": {
           "automargin": true,
           "gridcolor": "white",
           "linecolor": "white",
           "ticks": "",
           "title": {
            "standoff": 15
           },
           "zerolinecolor": "white",
           "zerolinewidth": 2
          },
          "yaxis": {
           "automargin": true,
           "gridcolor": "white",
           "linecolor": "white",
           "ticks": "",
           "title": {
            "standoff": 15
           },
           "zerolinecolor": "white",
           "zerolinewidth": 2
          }
         }
        },
        "title": {
         "text": "Found clusters with DBSCAN"
        },
        "xaxis": {
         "anchor": "y",
         "domain": [
          0,
          1
         ],
         "title": {
          "text": "0"
         }
        },
        "yaxis": {
         "anchor": "x",
         "domain": [
          0,
          1
         ],
         "title": {
          "text": "1"
         }
        }
       }
      }
     },
     "metadata": {},
     "output_type": "display_data"
    },
    {
     "data": {
      "application/vnd.plotly.v1+json": {
       "config": {
        "plotlyServerURL": "https://plot.ly"
       },
       "data": [
        {
         "hovertemplate": "color=rubicunda<br>0=%{x}<br>1=%{y}<extra></extra>",
         "legendgroup": "rubicunda",
         "marker": {
          "color": "#636efa",
          "symbol": "circle"
         },
         "mode": "markers",
         "name": "rubicunda",
         "orientation": "v",
         "showlegend": true,
         "type": "scatter",
         "x": [
          -121.41964261578617,
          -125.0229297539317,
          -126.19178821074698,
          82.44781073450098,
          73.96002455916724,
          68.18616125468502,
          67.974039317463,
          67.34617433145263
         ],
         "xaxis": "x",
         "y": [
          108.02828122085343,
          108.22814825448104,
          95.83036777861606,
          61.663622035560174,
          57.877744520088726,
          64.55014912929556,
          61.41972244133303,
          67.32416163811841
         ],
         "yaxis": "y"
        },
        {
         "hovertemplate": "color=mitis<br>0=%{x}<br>1=%{y}<extra></extra>",
         "legendgroup": "mitis",
         "marker": {
          "color": "#EF553B",
          "symbol": "circle"
         },
         "mode": "markers",
         "name": "mitis",
         "orientation": "v",
         "showlegend": true,
         "type": "scatter",
         "x": [
          -111.11474084542661,
          -106.68566891422822,
          -113.64221230988882,
          -120.24921799066641,
          -123.5926147766812,
          -130.34150515544127,
          -124.6325643587252,
          -134.29045579857774,
          -125.58011903635838,
          -136.65020636215064
         ],
         "xaxis": "x",
         "y": [
          98.8224416818835,
          93.35499407002324,
          103.63247883168184,
          100.23187473413766,
          99.63109647996052,
          100.98668581960384,
          105.16991709845091,
          97.66905578507279,
          104.58717579739253,
          92.11579523979071
         ],
         "yaxis": "y"
        },
        {
         "hovertemplate": "color=badius<br>0=%{x}<br>1=%{y}<extra></extra>",
         "legendgroup": "badius",
         "marker": {
          "color": "#00cc96",
          "symbol": "circle"
         },
         "mode": "markers",
         "name": "badius",
         "orientation": "v",
         "showlegend": true,
         "type": "scatter",
         "x": [
          56.259431112558566,
          56.27380184673665,
          64.4317777247996,
          53.72176307362695,
          51.28262524174973,
          69.99060453555458,
          48.444164407062026,
          53.01163297428257,
          65.22586510178125,
          52.748418688395034
         ],
         "xaxis": "x",
         "y": [
          73.20795997439339,
          57.822521621940886,
          66.73772649834574,
          64.5196990947984,
          72.47842893942246,
          75.94989402838239,
          61.678006941301575,
          68.66845745125597,
          68.12121966510955,
          67.9777131314258
         ],
         "yaxis": "y"
        },
        {
         "hovertemplate": "color=fascicularis<br>0=%{x}<br>1=%{y}<extra></extra>",
         "legendgroup": "fascicularis",
         "marker": {
          "color": "#ab63fa",
          "symbol": "circle"
         },
         "mode": "markers",
         "name": "fascicularis",
         "orientation": "v",
         "showlegend": true,
         "type": "scatter",
         "x": [
          19.303632025313462,
          8.36857879331967,
          24.039787474620535,
          11.377497558470246,
          5.344199762918236,
          14.637593755164005,
          5.166072065511731,
          12.761552373850098
         ],
         "xaxis": "x",
         "y": [
          -76.7477332392432,
          -75.5547738732253,
          -73.3080497556893,
          -71.29445471434462,
          -79.20032739295716,
          -62.29719826088437,
          -78.98318848061241,
          -70.25340776674616
         ],
         "yaxis": "y"
        },
        {
         "hovertemplate": "color=cristata<br>0=%{x}<br>1=%{y}<extra></extra>",
         "legendgroup": "cristata",
         "marker": {
          "color": "#FFA15A",
          "symbol": "circle"
         },
         "mode": "markers",
         "name": "cristata",
         "orientation": "v",
         "showlegend": true,
         "type": "scatter",
         "x": [
          -46.53284527863607,
          -53.90332738273072,
          -63.17461897211709,
          -66.3801368623535,
          -63.488458601512136,
          -62.10416012608525,
          -69.36986877222701,
          -81.21778951262866,
          -66.89863850562426,
          -93.08529806969213,
          118.33699249088683,
          114.65542848644583,
          107.96660527041607,
          108.19958162974449,
          110.6775822730805,
          109.51956858396214,
          105.014343533667,
          100.7963112551206
         ],
         "xaxis": "x",
         "y": [
          -45.52342676244273,
          -51.852169468203144,
          -43.55338471264823,
          -45.21305670142814,
          -42.95865238482743,
          -49.99476849398475,
          -42.05398212316632,
          -42.113921741402265,
          -47.7014792053657,
          -41.12570509690031,
          44.083609992961264,
          45.5573545532763,
          50.684953162649926,
          44.038596368535295,
          46.79464489533059,
          45.692122584670294,
          42.461272775005625,
          41.57901617444676
         ],
         "yaxis": "y"
        },
        {
         "hovertemplate": "color=polykomos<br>0=%{x}<br>1=%{y}<extra></extra>",
         "legendgroup": "polykomos",
         "marker": {
          "color": "#19d3f3",
          "symbol": "circle"
         },
         "mode": "markers",
         "name": "polykomos",
         "orientation": "v",
         "showlegend": true,
         "type": "scatter",
         "x": [
          -74.82311446435821,
          -85.82336247326633,
          -81.50419648978567,
          -81.11541753053544,
          -83.04919068285736,
          -97.521625312993,
          -97.30555946485309,
          -105.97886874103122,
          -124.9106515813052,
          -148.6803440678499
         ],
         "xaxis": "x",
         "y": [
          -31.922970237739484,
          -46.66733516236486,
          -37.09868101484122,
          -38.976844549908314,
          -33.7136917966398,
          -43.50201064870377,
          -31.431668899594072,
          -32.01546677915716,
          -38.16644371809122,
          -31.765600684986165
         ],
         "yaxis": "y"
        },
        {
         "hovertemplate": "color=torquatus<br>0=%{x}<br>1=%{y}<extra></extra>",
         "legendgroup": "torquatus",
         "marker": {
          "color": "#FF6692",
          "symbol": "circle"
         },
         "mode": "markers",
         "name": "torquatus",
         "orientation": "v",
         "showlegend": true,
         "type": "scatter",
         "x": [
          -78.09374471932223,
          -79.40939335495847,
          -88.12898121200364,
          -101.40988633674829,
          -82.95530436403496,
          -130.37726827438271,
          -99.66666825820239,
          -88.75500287270621,
          -93.3210735125112
         ],
         "xaxis": "x",
         "y": [
          -43.484313337600085,
          -20.52378374797394,
          -21.627383164156065,
          -23.08274666083125,
          -27.327175759830276,
          -26.121765452824317,
          -13.49523959900384,
          -24.292394965844682,
          -23.099691303641006
         ],
         "yaxis": "y"
        },
        {
         "hovertemplate": "color=anubis<br>0=%{x}<br>1=%{y}<extra></extra>",
         "legendgroup": "anubis",
         "marker": {
          "color": "#B6E880",
          "symbol": "circle"
         },
         "mode": "markers",
         "name": "anubis",
         "orientation": "v",
         "showlegend": true,
         "type": "scatter",
         "x": [
          76.60014219863183,
          50.99309850033451,
          22.676586060634598,
          12.342829080109667,
          29.600759519992494,
          21.49723951450624,
          19.313887946022213,
          22.051289579078215,
          2.47150971076915
         ],
         "xaxis": "x",
         "y": [
          0.67214582453959,
          14.192331048584316,
          -0.1990480492283136,
          11.755880601071974,
          11.936170033568965,
          -2.2805762236429636,
          -11.810347239359926,
          16.47644953037121,
          -13.25956776025398
         ],
         "yaxis": "y"
        },
        {
         "hovertemplate": "color=larvatus<br>0=%{x}<br>1=%{y}<extra></extra>",
         "legendgroup": "larvatus",
         "marker": {
          "color": "#FF97FF",
          "symbol": "circle"
         },
         "mode": "markers",
         "name": "larvatus",
         "orientation": "v",
         "showlegend": true,
         "type": "scatter",
         "x": [
          6.99146200589209,
          -20.69331489109635,
          -26.846882341896833,
          -43.36491399673158,
          21.93133123772149,
          25.41553889471938,
          25.52421259398408,
          15.033346561136417,
          19.85604163502221
         ],
         "xaxis": "x",
         "y": [
          -41.63317457603557,
          -37.35640157291118,
          -39.571643651827706,
          -39.90695560583389,
          -40.45210220104715,
          -36.52599648182767,
          -41.02459989341204,
          -40.984843766989556,
          -42.042636006355934
         ],
         "yaxis": "y"
        },
        {
         "hovertemplate": "color=lar<br>0=%{x}<br>1=%{y}<extra></extra>",
         "legendgroup": "lar",
         "marker": {
          "color": "#FECB52",
          "symbol": "circle"
         },
         "mode": "markers",
         "name": "lar",
         "orientation": "v",
         "showlegend": true,
         "type": "scatter",
         "x": [
          20.418315292444117,
          10.391366254427107,
          -6.633583111799228,
          3.471934564808526,
          -7.49196327552831,
          1.5857859072414466,
          -17.205408365262294,
          -8.823913921613514,
          -3.5864757377169907,
          -19.534498774431235,
          -14.682829035390313,
          110.09857604687089,
          110.59552001181243,
          107.55888310267521,
          107.80445296301039,
          106.3147188863415,
          106.65283854872114,
          104.58132387931845
         ],
         "xaxis": "x",
         "y": [
          -61.58022662814062,
          -58.304230442918644,
          -58.52634203443731,
          -54.02681663617267,
          -52.42534896149349,
          -56.80465947734635,
          -60.91727242643357,
          -50.98804019625002,
          -52.55560598933298,
          -59.28424874367537,
          -51.655127279288,
          53.368588300245435,
          61.27283661511212,
          61.369566732217315,
          55.693038606632214,
          55.4389531778287,
          61.23356849001038,
          54.77264351761729
         ],
         "yaxis": "y"
        },
        {
         "hovertemplate": "color=troglodytes<br>0=%{x}<br>1=%{y}<extra></extra>",
         "legendgroup": "troglodytes",
         "marker": {
          "color": "#636efa",
          "symbol": "circle"
         },
         "mode": "markers",
         "name": "troglodytes",
         "orientation": "v",
         "showlegend": true,
         "type": "scatter",
         "x": [
          153.8527159140691,
          132.79534903509474,
          128.69039954853233,
          108.11018030951294,
          141.52571618337106,
          126.54428111359859,
          104.90069106492062,
          133.98654446390898,
          157.61375501184736
         ],
         "xaxis": "x",
         "y": [
          -50.394737340423525,
          -50.90377546582217,
          -56.919497976476094,
          -50.87476144675193,
          -57.57701725234885,
          -57.885667690710335,
          -46.94820172322103,
          -48.448006126796194,
          -65.24671836282755
         ],
         "yaxis": "y"
        }
       ],
       "layout": {
        "legend": {
         "title": {
          "text": "color"
         },
         "tracegroupgap": 0
        },
        "template": {
         "data": {
          "bar": [
           {
            "error_x": {
             "color": "#2a3f5f"
            },
            "error_y": {
             "color": "#2a3f5f"
            },
            "marker": {
             "line": {
              "color": "#E5ECF6",
              "width": 0.5
             },
             "pattern": {
              "fillmode": "overlay",
              "size": 10,
              "solidity": 0.2
             }
            },
            "type": "bar"
           }
          ],
          "barpolar": [
           {
            "marker": {
             "line": {
              "color": "#E5ECF6",
              "width": 0.5
             },
             "pattern": {
              "fillmode": "overlay",
              "size": 10,
              "solidity": 0.2
             }
            },
            "type": "barpolar"
           }
          ],
          "carpet": [
           {
            "aaxis": {
             "endlinecolor": "#2a3f5f",
             "gridcolor": "white",
             "linecolor": "white",
             "minorgridcolor": "white",
             "startlinecolor": "#2a3f5f"
            },
            "baxis": {
             "endlinecolor": "#2a3f5f",
             "gridcolor": "white",
             "linecolor": "white",
             "minorgridcolor": "white",
             "startlinecolor": "#2a3f5f"
            },
            "type": "carpet"
           }
          ],
          "choropleth": [
           {
            "colorbar": {
             "outlinewidth": 0,
             "ticks": ""
            },
            "type": "choropleth"
           }
          ],
          "contour": [
           {
            "colorbar": {
             "outlinewidth": 0,
             "ticks": ""
            },
            "colorscale": [
             [
              0,
              "#0d0887"
             ],
             [
              0.1111111111111111,
              "#46039f"
             ],
             [
              0.2222222222222222,
              "#7201a8"
             ],
             [
              0.3333333333333333,
              "#9c179e"
             ],
             [
              0.4444444444444444,
              "#bd3786"
             ],
             [
              0.5555555555555556,
              "#d8576b"
             ],
             [
              0.6666666666666666,
              "#ed7953"
             ],
             [
              0.7777777777777778,
              "#fb9f3a"
             ],
             [
              0.8888888888888888,
              "#fdca26"
             ],
             [
              1,
              "#f0f921"
             ]
            ],
            "type": "contour"
           }
          ],
          "contourcarpet": [
           {
            "colorbar": {
             "outlinewidth": 0,
             "ticks": ""
            },
            "type": "contourcarpet"
           }
          ],
          "heatmap": [
           {
            "colorbar": {
             "outlinewidth": 0,
             "ticks": ""
            },
            "colorscale": [
             [
              0,
              "#0d0887"
             ],
             [
              0.1111111111111111,
              "#46039f"
             ],
             [
              0.2222222222222222,
              "#7201a8"
             ],
             [
              0.3333333333333333,
              "#9c179e"
             ],
             [
              0.4444444444444444,
              "#bd3786"
             ],
             [
              0.5555555555555556,
              "#d8576b"
             ],
             [
              0.6666666666666666,
              "#ed7953"
             ],
             [
              0.7777777777777778,
              "#fb9f3a"
             ],
             [
              0.8888888888888888,
              "#fdca26"
             ],
             [
              1,
              "#f0f921"
             ]
            ],
            "type": "heatmap"
           }
          ],
          "heatmapgl": [
           {
            "colorbar": {
             "outlinewidth": 0,
             "ticks": ""
            },
            "colorscale": [
             [
              0,
              "#0d0887"
             ],
             [
              0.1111111111111111,
              "#46039f"
             ],
             [
              0.2222222222222222,
              "#7201a8"
             ],
             [
              0.3333333333333333,
              "#9c179e"
             ],
             [
              0.4444444444444444,
              "#bd3786"
             ],
             [
              0.5555555555555556,
              "#d8576b"
             ],
             [
              0.6666666666666666,
              "#ed7953"
             ],
             [
              0.7777777777777778,
              "#fb9f3a"
             ],
             [
              0.8888888888888888,
              "#fdca26"
             ],
             [
              1,
              "#f0f921"
             ]
            ],
            "type": "heatmapgl"
           }
          ],
          "histogram": [
           {
            "marker": {
             "pattern": {
              "fillmode": "overlay",
              "size": 10,
              "solidity": 0.2
             }
            },
            "type": "histogram"
           }
          ],
          "histogram2d": [
           {
            "colorbar": {
             "outlinewidth": 0,
             "ticks": ""
            },
            "colorscale": [
             [
              0,
              "#0d0887"
             ],
             [
              0.1111111111111111,
              "#46039f"
             ],
             [
              0.2222222222222222,
              "#7201a8"
             ],
             [
              0.3333333333333333,
              "#9c179e"
             ],
             [
              0.4444444444444444,
              "#bd3786"
             ],
             [
              0.5555555555555556,
              "#d8576b"
             ],
             [
              0.6666666666666666,
              "#ed7953"
             ],
             [
              0.7777777777777778,
              "#fb9f3a"
             ],
             [
              0.8888888888888888,
              "#fdca26"
             ],
             [
              1,
              "#f0f921"
             ]
            ],
            "type": "histogram2d"
           }
          ],
          "histogram2dcontour": [
           {
            "colorbar": {
             "outlinewidth": 0,
             "ticks": ""
            },
            "colorscale": [
             [
              0,
              "#0d0887"
             ],
             [
              0.1111111111111111,
              "#46039f"
             ],
             [
              0.2222222222222222,
              "#7201a8"
             ],
             [
              0.3333333333333333,
              "#9c179e"
             ],
             [
              0.4444444444444444,
              "#bd3786"
             ],
             [
              0.5555555555555556,
              "#d8576b"
             ],
             [
              0.6666666666666666,
              "#ed7953"
             ],
             [
              0.7777777777777778,
              "#fb9f3a"
             ],
             [
              0.8888888888888888,
              "#fdca26"
             ],
             [
              1,
              "#f0f921"
             ]
            ],
            "type": "histogram2dcontour"
           }
          ],
          "mesh3d": [
           {
            "colorbar": {
             "outlinewidth": 0,
             "ticks": ""
            },
            "type": "mesh3d"
           }
          ],
          "parcoords": [
           {
            "line": {
             "colorbar": {
              "outlinewidth": 0,
              "ticks": ""
             }
            },
            "type": "parcoords"
           }
          ],
          "pie": [
           {
            "automargin": true,
            "type": "pie"
           }
          ],
          "scatter": [
           {
            "marker": {
             "colorbar": {
              "outlinewidth": 0,
              "ticks": ""
             }
            },
            "type": "scatter"
           }
          ],
          "scatter3d": [
           {
            "line": {
             "colorbar": {
              "outlinewidth": 0,
              "ticks": ""
             }
            },
            "marker": {
             "colorbar": {
              "outlinewidth": 0,
              "ticks": ""
             }
            },
            "type": "scatter3d"
           }
          ],
          "scattercarpet": [
           {
            "marker": {
             "colorbar": {
              "outlinewidth": 0,
              "ticks": ""
             }
            },
            "type": "scattercarpet"
           }
          ],
          "scattergeo": [
           {
            "marker": {
             "colorbar": {
              "outlinewidth": 0,
              "ticks": ""
             }
            },
            "type": "scattergeo"
           }
          ],
          "scattergl": [
           {
            "marker": {
             "colorbar": {
              "outlinewidth": 0,
              "ticks": ""
             }
            },
            "type": "scattergl"
           }
          ],
          "scattermapbox": [
           {
            "marker": {
             "colorbar": {
              "outlinewidth": 0,
              "ticks": ""
             }
            },
            "type": "scattermapbox"
           }
          ],
          "scatterpolar": [
           {
            "marker": {
             "colorbar": {
              "outlinewidth": 0,
              "ticks": ""
             }
            },
            "type": "scatterpolar"
           }
          ],
          "scatterpolargl": [
           {
            "marker": {
             "colorbar": {
              "outlinewidth": 0,
              "ticks": ""
             }
            },
            "type": "scatterpolargl"
           }
          ],
          "scatterternary": [
           {
            "marker": {
             "colorbar": {
              "outlinewidth": 0,
              "ticks": ""
             }
            },
            "type": "scatterternary"
           }
          ],
          "surface": [
           {
            "colorbar": {
             "outlinewidth": 0,
             "ticks": ""
            },
            "colorscale": [
             [
              0,
              "#0d0887"
             ],
             [
              0.1111111111111111,
              "#46039f"
             ],
             [
              0.2222222222222222,
              "#7201a8"
             ],
             [
              0.3333333333333333,
              "#9c179e"
             ],
             [
              0.4444444444444444,
              "#bd3786"
             ],
             [
              0.5555555555555556,
              "#d8576b"
             ],
             [
              0.6666666666666666,
              "#ed7953"
             ],
             [
              0.7777777777777778,
              "#fb9f3a"
             ],
             [
              0.8888888888888888,
              "#fdca26"
             ],
             [
              1,
              "#f0f921"
             ]
            ],
            "type": "surface"
           }
          ],
          "table": [
           {
            "cells": {
             "fill": {
              "color": "#EBF0F8"
             },
             "line": {
              "color": "white"
             }
            },
            "header": {
             "fill": {
              "color": "#C8D4E3"
             },
             "line": {
              "color": "white"
             }
            },
            "type": "table"
           }
          ]
         },
         "layout": {
          "annotationdefaults": {
           "arrowcolor": "#2a3f5f",
           "arrowhead": 0,
           "arrowwidth": 1
          },
          "autotypenumbers": "strict",
          "coloraxis": {
           "colorbar": {
            "outlinewidth": 0,
            "ticks": ""
           }
          },
          "colorscale": {
           "diverging": [
            [
             0,
             "#8e0152"
            ],
            [
             0.1,
             "#c51b7d"
            ],
            [
             0.2,
             "#de77ae"
            ],
            [
             0.3,
             "#f1b6da"
            ],
            [
             0.4,
             "#fde0ef"
            ],
            [
             0.5,
             "#f7f7f7"
            ],
            [
             0.6,
             "#e6f5d0"
            ],
            [
             0.7,
             "#b8e186"
            ],
            [
             0.8,
             "#7fbc41"
            ],
            [
             0.9,
             "#4d9221"
            ],
            [
             1,
             "#276419"
            ]
           ],
           "sequential": [
            [
             0,
             "#0d0887"
            ],
            [
             0.1111111111111111,
             "#46039f"
            ],
            [
             0.2222222222222222,
             "#7201a8"
            ],
            [
             0.3333333333333333,
             "#9c179e"
            ],
            [
             0.4444444444444444,
             "#bd3786"
            ],
            [
             0.5555555555555556,
             "#d8576b"
            ],
            [
             0.6666666666666666,
             "#ed7953"
            ],
            [
             0.7777777777777778,
             "#fb9f3a"
            ],
            [
             0.8888888888888888,
             "#fdca26"
            ],
            [
             1,
             "#f0f921"
            ]
           ],
           "sequentialminus": [
            [
             0,
             "#0d0887"
            ],
            [
             0.1111111111111111,
             "#46039f"
            ],
            [
             0.2222222222222222,
             "#7201a8"
            ],
            [
             0.3333333333333333,
             "#9c179e"
            ],
            [
             0.4444444444444444,
             "#bd3786"
            ],
            [
             0.5555555555555556,
             "#d8576b"
            ],
            [
             0.6666666666666666,
             "#ed7953"
            ],
            [
             0.7777777777777778,
             "#fb9f3a"
            ],
            [
             0.8888888888888888,
             "#fdca26"
            ],
            [
             1,
             "#f0f921"
            ]
           ]
          },
          "colorway": [
           "#636efa",
           "#EF553B",
           "#00cc96",
           "#ab63fa",
           "#FFA15A",
           "#19d3f3",
           "#FF6692",
           "#B6E880",
           "#FF97FF",
           "#FECB52"
          ],
          "font": {
           "color": "#2a3f5f"
          },
          "geo": {
           "bgcolor": "white",
           "lakecolor": "white",
           "landcolor": "#E5ECF6",
           "showlakes": true,
           "showland": true,
           "subunitcolor": "white"
          },
          "hoverlabel": {
           "align": "left"
          },
          "hovermode": "closest",
          "mapbox": {
           "style": "light"
          },
          "paper_bgcolor": "white",
          "plot_bgcolor": "#E5ECF6",
          "polar": {
           "angularaxis": {
            "gridcolor": "white",
            "linecolor": "white",
            "ticks": ""
           },
           "bgcolor": "#E5ECF6",
           "radialaxis": {
            "gridcolor": "white",
            "linecolor": "white",
            "ticks": ""
           }
          },
          "scene": {
           "xaxis": {
            "backgroundcolor": "#E5ECF6",
            "gridcolor": "white",
            "gridwidth": 2,
            "linecolor": "white",
            "showbackground": true,
            "ticks": "",
            "zerolinecolor": "white"
           },
           "yaxis": {
            "backgroundcolor": "#E5ECF6",
            "gridcolor": "white",
            "gridwidth": 2,
            "linecolor": "white",
            "showbackground": true,
            "ticks": "",
            "zerolinecolor": "white"
           },
           "zaxis": {
            "backgroundcolor": "#E5ECF6",
            "gridcolor": "white",
            "gridwidth": 2,
            "linecolor": "white",
            "showbackground": true,
            "ticks": "",
            "zerolinecolor": "white"
           }
          },
          "shapedefaults": {
           "line": {
            "color": "#2a3f5f"
           }
          },
          "ternary": {
           "aaxis": {
            "gridcolor": "white",
            "linecolor": "white",
            "ticks": ""
           },
           "baxis": {
            "gridcolor": "white",
            "linecolor": "white",
            "ticks": ""
           },
           "bgcolor": "#E5ECF6",
           "caxis": {
            "gridcolor": "white",
            "linecolor": "white",
            "ticks": ""
           }
          },
          "title": {
           "x": 0.05
          },
          "xaxis": {
           "automargin": true,
           "gridcolor": "white",
           "linecolor": "white",
           "ticks": "",
           "title": {
            "standoff": 15
           },
           "zerolinecolor": "white",
           "zerolinewidth": 2
          },
          "yaxis": {
           "automargin": true,
           "gridcolor": "white",
           "linecolor": "white",
           "ticks": "",
           "title": {
            "standoff": 15
           },
           "zerolinecolor": "white",
           "zerolinewidth": 2
          }
         }
        },
        "title": {
         "text": "Real clusters"
        },
        "xaxis": {
         "anchor": "y",
         "domain": [
          0,
          1
         ],
         "title": {
          "text": "0"
         }
        },
        "yaxis": {
         "anchor": "x",
         "domain": [
          0,
          1
         ],
         "title": {
          "text": "1"
         }
        }
       }
      }
     },
     "metadata": {},
     "output_type": "display_data"
    }
   ],
   "source": [
    "dbscan = DBSCAN(eps=50, min_samples=3)\n",
    "found_clusters_db = dbscan.fit_predict(X)\n",
    "\n",
    "cluster_data_db = X.copy()\n",
    "cluster_data_db['Data'] = found_clusters_db\n",
    "\n",
    "fig = px.scatter(components, x=0, y=1, color=cluster_data_db['Data'], title= 'Found clusters with DBSCAN')\n",
    "fig.show()\n",
    "\n",
    "fig = px.scatter(components, x=0, y=1, color=y, title= 'Real clusters')\n",
    "fig.show()"
   ]
  },
  {
   "cell_type": "markdown",
   "metadata": {},
   "source": [
    "Using DBScan even less clusters are found since there is no parameter for number of clusters to look for. As well as the method it self having difficulty with finding multiple clusters in overlapping data."
   ]
  },
  {
   "cell_type": "code",
   "execution_count": 204,
   "metadata": {},
   "outputs": [
    {
     "name": "stdout",
     "output_type": "stream",
     "text": [
      "KMeans: 0.5462570697466903\n",
      "DBScan: 0.3444610142592457\n"
     ]
    }
   ],
   "source": [
    "# Evaluate the accuracy of our cluster finding methods\n",
    "print('KMeans:',metrics.adjusted_rand_score(cluster_data_km['Data'], updated_df['Species']))\n",
    "print('DBScan:',metrics.adjusted_rand_score(cluster_data_db['Data'], updated_df['Species']))"
   ]
  },
  {
   "cell_type": "markdown",
   "metadata": {},
   "source": [
    "### Conclusion\n",
    "\n",
    "The clustering functions aren't finding a lot of correct clusters. This is mostly due to clusters having overlap which makes a lot of clustering methods have a hard time with identifying the correct clusters. To improve this, the data could undergo even more filtering so no overlapping or split up clusters are present or different clustering finding methods could be used with finetuned parameters to get the best results. In my case DBScan combined with a lack of cleaning the data would be the bad approach, whereas KMeans would be the good approach in this case. Finding more than 50% of the correct clusters when there is so much overlap."
   ]
  }
 ],
 "metadata": {
  "kernelspec": {
   "display_name": "Python 3.9.12 ('base')",
   "language": "python",
   "name": "python3"
  },
  "language_info": {
   "codemirror_mode": {
    "name": "ipython",
    "version": 3
   },
   "file_extension": ".py",
   "mimetype": "text/x-python",
   "name": "python",
   "nbconvert_exporter": "python",
   "pygments_lexer": "ipython3",
   "version": "3.9.12"
  },
  "orig_nbformat": 4,
  "vscode": {
   "interpreter": {
    "hash": "cce1145a662b5ffebb446f0f50f9d431ccf3ffac4c561e33ee59fe97dce5ae87"
   }
  }
 },
 "nbformat": 4,
 "nbformat_minor": 2
}
